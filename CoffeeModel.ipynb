{
 "cells": [
  {
   "cell_type": "code",
   "execution_count": 826,
   "metadata": {},
   "outputs": [],
   "source": [
    "import simpy\n",
    "import random\n",
    "import statistics\n",
    "from sklearn.linear_model import LinearRegression\n",
    "import math\n",
    "from scipy.stats import lognorm, weibull_min, exponweib\n",
    "import pandas as pd\n",
    "import matplotlib.pyplot as plt\n",
    "from model_utils import Model_Utils as MU\n",
    "import json\n",
    "import numpy as np"
   ]
  },
  {
   "cell_type": "code",
   "execution_count": 509,
   "metadata": {},
   "outputs": [],
   "source": [
    "#Process modifiers\n",
    "MTTR = 2.0\n",
    "CARTONER_MACHINES = 2\n",
    "CASE_PACKER_MACHINES = 1\n",
    "PRODUCTION_UNITS_PER_MINUTE = 150\n",
    "RATE_MODIFIER = 1.0\n",
    "RATE_IMPROVEMENT = 0.15\n",
    "SIM_DURATION = MU.Days(7)"
   ]
  },
  {
   "cell_type": "code",
   "execution_count": 510,
   "metadata": {},
   "outputs": [],
   "source": [
    "MU.create_failure_dictionary(\"cartoner_failures.txt\")\n",
    "MU.create_failure_dictionary(\"case_packer_failures.txt\")\n",
    "failure_dictionary = MU.load_failure_dictionary(\"cartoner_failures.json\")\n",
    "case_packer_failure_dictionary = MU.load_failure_dictionary(\"case_packer_failures.json\")"
   ]
  },
  {
   "cell_type": "markdown",
   "metadata": {},
   "source": [
    "# Calculate Time Function"
   ]
  },
  {
   "cell_type": "code",
   "execution_count": 511,
   "metadata": {},
   "outputs": [],
   "source": [
    "def calculate_time(dist, a, b):\n",
    "    execution_dictionary = {\n",
    "        \"LogN (Avg,SD)\": lognorm.rvs,\n",
    "        \"Weibull\": weibull_min.rvs,\n",
    "        \"Normal\":random.normalvariate\n",
    "    }\n",
    "    if dist == \"Weibull\":\n",
    "        value = execution_dictionary[dist](b, scale=a)\n",
    "        return value\n",
    "    else:\n",
    "        value = execution_dictionary[dist](s=a, scale=math.exp(b))\n",
    "        if value > 5000:\n",
    "            return 5000\n",
    "        return value"
   ]
  },
  {
   "cell_type": "code",
   "execution_count": 512,
   "metadata": {},
   "outputs": [
    {
     "data": {
      "text/plain": [
       "216029.44959224426"
      ]
     },
     "execution_count": 512,
     "metadata": {},
     "output_type": "execute_result"
    }
   ],
   "source": [
    "calculate_time(failure_dictionary[\"AIRVEYOR\"][\"Distrib (UT)\"], \n",
    "                                failure_dictionary[\"AIRVEYOR\"][\"Param1 (UT)\"], \n",
    "                                failure_dictionary[\"AIRVEYOR\"][\"Param2 (UT)\"])"
   ]
  },
  {
   "cell_type": "code",
   "execution_count": 513,
   "metadata": {},
   "outputs": [
    {
     "data": {
      "text/plain": [
       "5000"
      ]
     },
     "execution_count": 513,
     "metadata": {},
     "output_type": "execute_result"
    }
   ],
   "source": [
    "calculate_time(failure_dictionary[\"OTHER\"][\"Distrib (SDT)\"], \n",
    "                                failure_dictionary[\"OTHER\"][\"Param1 (SDT)\"], \n",
    "                                failure_dictionary[\"OTHER\"][\"Param2 (SDT)\"])"
   ]
  },
  {
   "cell_type": "code",
   "execution_count": 514,
   "metadata": {},
   "outputs": [
    {
     "data": {
      "text/plain": [
       "2.642330484562333"
      ]
     },
     "execution_count": 514,
     "metadata": {},
     "output_type": "execute_result"
    }
   ],
   "source": [
    "calculate_time(failure_dictionary[\"DAILY MAINTENANCE\"][\"Distrib (SDT)\"], \n",
    "                                failure_dictionary[\"DAILY MAINTENANCE\"][\"Param1 (SDT)\"], \n",
    "                                failure_dictionary[\"DAILY MAINTENANCE\"][\"Param2 (SDT)\"])"
   ]
  },
  {
   "cell_type": "markdown",
   "metadata": {},
   "source": [
    "# Model"
   ]
  },
  {
   "cell_type": "markdown",
   "metadata": {},
   "source": [
    "## Cartoner"
   ]
  },
  {
   "cell_type": "code",
   "execution_count": 515,
   "metadata": {},
   "outputs": [],
   "source": [
    "class Cartoner(object):\n",
    "    def __init__(self, env, cartoner_surge, process_depth, failure_dictionary, sim_duration, name):\n",
    "        self.sim_duration = sim_duration\n",
    "        self.name = name\n",
    "        self.uptime = 0\n",
    "        self.downtime = 0\n",
    "        self.process = env.process(self.carton_stuff(env, cartoner_surge))\n",
    "        self.products_produced = 0\n",
    "        self.production_rate = (RATE_MODIFIER + RATE_IMPROVEMENT * process_depth) * PRODUCTION_UNITS_PER_MINUTE/MU.Minutes(1)\n",
    "        self.status = True\n",
    "        self.failure_dictionary = failure_dictionary\n",
    "        self.blocked = False\n",
    "        self.interruptions = []\n",
    "        for key in self.failure_dictionary:\n",
    "            env.process(self.new_failure(env, failure_dictionary[key]))\n",
    "        env.process(self.monitor_cartoner_surge(env, cartoner_surge))\n",
    "    def calculate_availability(self):\n",
    "        if self.uptime != 0:\n",
    "            return (self.uptime / (self.uptime + self.downtime))\n",
    "        else:\n",
    "            return 0\n",
    "    def carton_stuff(self, env, cartoner_surge):\n",
    "        while True:\n",
    "            try:\n",
    "                start_time = env.now\n",
    "                yield env.timeout(1)\n",
    "                yield cartoner_surge.put(self.production_rate)\n",
    "                self.products_produced += (self.production_rate)\n",
    "                self.uptime += (env.now - start_time)\n",
    "            except simpy.Interrupt as interrupt:\n",
    "                self.status = False\n",
    "                if interrupt.cause == \"Blocked\":\n",
    "                    downtime_start = env.now\n",
    "                    while self.blocked:\n",
    "                        yield env.timeout(1)\n",
    "                        if env.now + 1 > self.sim_duration:\n",
    "                            yield env.timeout(self.sim_duration - env.now)\n",
    "                            break\n",
    "                    stop_time = env.now - downtime_start\n",
    "                    self.downtime += (stop_time)\n",
    "                    self.interruptions.append((interrupt.cause, stop_time, downtime_start))\n",
    "                else:\n",
    "                    downtime_start = env.now\n",
    "                    self.uptime += (downtime_start - start_time)\n",
    "                    yield cartoner_surge.put(self.production_rate * (downtime_start - start_time))\n",
    "                    self.products_produced += (self.production_rate * (downtime_start - start_time))\n",
    "                    stop_time = calculate_time(self.failure_dictionary[interrupt.cause][\"Distrib (SDT)\"], \n",
    "                                                        self.failure_dictionary[interrupt.cause][\"Param1 (SDT)\"], \n",
    "                                                        self.failure_dictionary[interrupt.cause][\"Param2 (SDT)\"])\n",
    "                    self.interruptions.append((interrupt.cause, stop_time, env.now))\n",
    "                    if (stop_time + env.now) >= self.sim_duration:\n",
    "                        self.downtime += (self.sim_duration - downtime_start)\n",
    "                        yield env.timeout(self.sim_duration - downtime_start)\n",
    "                    else:\n",
    "                        yield env.timeout(stop_time)\n",
    "                        self.downtime += (env.now - downtime_start)\n",
    "            self.status = True\n",
    "    def new_failure(self, env, failure_info):\n",
    "        while True:\n",
    "            time_out = calculate_time(failure_info[\"Distrib (UT)\"], failure_info[\"Param1 (UT)\"], failure_info[\"Param2 (UT)\"])\n",
    "            start_time = env.now\n",
    "            if (start_time + MU.Minutes(time_out)) <= self.sim_duration:\n",
    "                yield env.timeout(MU.Minutes(time_out))\n",
    "                if self.status:\n",
    "                    self.process.interrupt(failure_info[\"Cause Name\"])\n",
    "            yield env.timeout(1)\n",
    "    def monitor_cartoner_surge(self, env, cartoner_surge):\n",
    "        while True:\n",
    "            if (cartoner_surge.level >= (cartoner_surge.capacity * 0.75)):\n",
    "                self.blocked = True\n",
    "                if self.status:\n",
    "                    self.process.interrupt(\"Blocked\")\n",
    "            else:\n",
    "                self.blocked = False\n",
    "            yield env.timeout(1)\n"
   ]
  },
  {
   "cell_type": "markdown",
   "metadata": {},
   "source": [
    "## Case Packer"
   ]
  },
  {
   "cell_type": "code",
   "execution_count": 516,
   "metadata": {},
   "outputs": [],
   "source": [
    "class CasePacker(object):\n",
    "    def __init__(self, env, cartoner_surge, case_packer_surge, process_depth, failure_dictionary, sim_duration):\n",
    "        self.sim_duration = sim_duration\n",
    "        self.uptime = 0\n",
    "        self.downtime = 0\n",
    "        self.products_produced = 0\n",
    "        self.production_rate = (RATE_MODIFIER + RATE_IMPROVEMENT * process_depth) * PRODUCTION_UNITS_PER_MINUTE/MU.Minutes(1)\n",
    "        self.status = True\n",
    "        self.failure_dictionary = failure_dictionary\n",
    "        self.interruptions = []\n",
    "        self.starved = False\n",
    "        self.process = env.process(self.pack_stuff(env, cartoner_surge, case_packer_surge))\n",
    "        for key in self.failure_dictionary:\n",
    "            env.process(self.new_failure(env, failure_dictionary[key]))\n",
    "        env.process(self.monitor_cartoner_surge(env, cartoner_surge))\n",
    "    def calculate_availability(self):\n",
    "        if self.uptime != 0:\n",
    "            return (self.uptime / (self.uptime + self.downtime))\n",
    "        else:\n",
    "            return 0\n",
    "    def pack_stuff(self, env, cartoner_surge, case_packer_surge):\n",
    "        while True:\n",
    "            try: \n",
    "                start_time = env.now\n",
    "                production_time = cartoner_surge.level / self.production_rate\n",
    "                if production_time > 0:\n",
    "                    yield env.timeout(production_time)\n",
    "                    completed = env.now\n",
    "                    self.uptime += (completed - start_time)\n",
    "                    yield case_packer_surge.put(self.production_rate * production_time)\n",
    "                    self.products_produced += (self.production_rate * production_time)\n",
    "                    yield cartoner_surge.get(self.production_rate * production_time)\n",
    "                yield env.timeout(1)\n",
    "            except simpy.Interrupt as interrupt:\n",
    "                self.status = False\n",
    "                if interrupt.cause == \"Process Starved\":\n",
    "                    downtime_start = env.now\n",
    "                    # loop until process changes starved state\n",
    "                    while self.starved:\n",
    "                        yield env.timeout(1)\n",
    "                        continue\n",
    "                    stop_time = env.now - downtime_start\n",
    "                    self.downtime += (stop_time)\n",
    "                    self.interruptions.append((interrupt.cause, stop_time, downtime_start))\n",
    "                else:\n",
    "                    downtime_start = env.now\n",
    "                    self.uptime += (downtime_start - start_time)\n",
    "                    yield cartoner_surge.get(self.production_rate * (downtime_start - start_time))\n",
    "                    yield case_packer_surge.put(self.production_rate * (downtime_start - start_time))\n",
    "                    self.products_produced += (self.production_rate * (downtime_start - start_time))\n",
    "                    stop_time = calculate_time(self.failure_dictionary[interrupt.cause][\"Distrib (SDT)\"], \n",
    "                                                        self.failure_dictionary[interrupt.cause][\"Param1 (SDT)\"], \n",
    "                                                        self.failure_dictionary[interrupt.cause][\"Param2 (SDT)\"])\n",
    "                    self.interruptions.append((interrupt.cause, stop_time, env.now))\n",
    "                    # record downtime or record downtime up to the max duration of the simulation\n",
    "                    if (stop_time + env.now) >= self.sim_duration:\n",
    "                        self.downtime += (self.sim_duration - downtime_start)\n",
    "                        yield env.timeout(self.sim_duration - downtime_start)\n",
    "                    else:\n",
    "                        yield env.timeout(stop_time)\n",
    "                        self.downtime += (env.now - downtime_start)\n",
    "                self.status = True\n",
    "                # for key in self.failure_dictionary:\n",
    "                #         env.process(self.new_failure(env, self.failure_dictionary[key]))\n",
    "    def new_failure(self, env, failure_info):\n",
    "        while True:\n",
    "            time_out = calculate_time(failure_info[\"Distrib (UT)\"], failure_info[\"Param1 (UT)\"], failure_info[\"Param2 (UT)\"])\n",
    "            start_time = env.now\n",
    "            if (start_time + time_out) <= self.sim_duration:\n",
    "                yield env.timeout(time_out)\n",
    "                if self.status:\n",
    "                    self.process.interrupt(failure_info[\"Cause Name\"])\n",
    "            yield env.timeout(1)\n",
    "    def monitor_cartoner_surge(self, env, cartoner_surge):\n",
    "        while True:\n",
    "            if (cartoner_surge.level == 0):\n",
    "                self.starved = True\n",
    "                if self.status:\n",
    "                    self.process.interrupt(\"Process Starved\")\n",
    "            else:\n",
    "                self.starved = False\n",
    "            yield env.timeout(1)"
   ]
  },
  {
   "cell_type": "code",
   "execution_count": 517,
   "metadata": {},
   "outputs": [],
   "source": [
    "def get_case_packer_surge(env, case_packer_surge):\n",
    "    while True:\n",
    "        if case_packer_surge.level > 0:\n",
    "            yield case_packer_surge.get(case_packer_surge.level)\n",
    "        yield env.timeout(MU.Minutes(1))"
   ]
  },
  {
   "cell_type": "markdown",
   "metadata": {},
   "source": [
    "# Run the model"
   ]
  },
  {
   "cell_type": "code",
   "execution_count": 519,
   "metadata": {},
   "outputs": [],
   "source": [
    "from statistics import mean\n",
    "Availability = []\n",
    "env = simpy.Environment()\n",
    "cartoner_surge = simpy.Container(env, PRODUCTION_UNITS_PER_MINUTE*MTTR, 0)\n",
    "case_packer_surge = simpy.Container(env, PRODUCTION_UNITS_PER_MINUTE*MTTR, 0)\n",
    "palletizer_surge = simpy.Container(env, PRODUCTION_UNITS_PER_MINUTE*MTTR, 0)\n",
    "wrapper_surge = simpy.Container(env, PRODUCTION_UNITS_PER_MINUTE*MTTR, 0)\n",
    "cartoners = [Cartoner(env, cartoner_surge, 0, failure_dictionary, SIM_DURATION, f\"Cartoner {i}\") for i in range(CARTONER_MACHINES)]\n",
    "case_packer_1 = CasePacker(env, cartoner_surge, case_packer_surge, 1, case_packer_failure_dictionary, SIM_DURATION)\n",
    "env.process(get_case_packer_surge(env, case_packer_surge))\n",
    "env.run(until=SIM_DURATION)\n",
    "for cartoner in cartoners: \n",
    "    Availability.append(cartoner.calculate_availability())"
   ]
  },
  {
   "cell_type": "code",
   "execution_count": 520,
   "metadata": {},
   "outputs": [
    {
     "data": {
      "text/plain": [
       "0.5263088311712921"
      ]
     },
     "execution_count": 520,
     "metadata": {},
     "output_type": "execute_result"
    }
   ],
   "source": [
    "mean(Availability)"
   ]
  },
  {
   "cell_type": "markdown",
   "metadata": {},
   "source": [
    "# Analysis and Stuff"
   ]
  },
  {
   "cell_type": "code",
   "execution_count": 521,
   "metadata": {},
   "outputs": [
    {
     "name": "stdout",
     "output_type": "stream",
     "text": [
      "Cartoner 0\n",
      "279630.79954129754\n",
      "315452.97652447165\n",
      "2.5\n",
      "604800\n",
      "0.5300984318712254\n",
      "Cartoner 1\n",
      "284138.82732304255\n",
      "310940.2741945712\n",
      "2.5\n",
      "604800\n",
      "0.5225192304713588\n"
     ]
    }
   ],
   "source": [
    "for cartoner in cartoners:\n",
    "    print(cartoner.name)\n",
    "    print(cartoner.downtime)\n",
    "    print(cartoner.uptime)\n",
    "    print(cartoner.production_rate)\n",
    "    print(cartoner.sim_duration)\n",
    "    print(cartoner.calculate_availability())"
   ]
  },
  {
   "cell_type": "code",
   "execution_count": 522,
   "metadata": {},
   "outputs": [
    {
     "data": {
      "text/plain": [
       "0.9311569745054498"
      ]
     },
     "execution_count": 522,
     "metadata": {},
     "output_type": "execute_result"
    }
   ],
   "source": [
    "case_packer_1.calculate_availability()"
   ]
  },
  {
   "cell_type": "code",
   "execution_count": 523,
   "metadata": {},
   "outputs": [
    {
     "data": {
      "text/plain": [
       "[('Process Starved', 1, 0),\n",
       " ('System', 1.3165679550580789, 98.37951276547803),\n",
       " ('System', 1.3574089506621674, 106.87333934058188),\n",
       " ('System', 2.3484898213716847, 1366.9441629432622),\n",
       " ('System', 0.3846430445319352, 1390.7501978104165),\n",
       " ('System', 1.01065266344896, 1405.8923058748999),\n",
       " ('System', 0.32776301691021437, 1435.6229491415713),\n",
       " ('System', 0.7891518017930659, 3597.7178978740685),\n",
       " ('System', 5.951300169894309, 3812.8417996628814),\n",
       " ('System', 3.1340725931114717, 3936.288956094703),\n",
       " ('System', 1.7853174171555013, 3991),\n",
       " ('System', 2.137523456790845, 4039.6841521191177),\n",
       " ('System', 0.8200546132554054, 4097.991317656702),\n",
       " ('System', 7.783744665795685, 4102.07748316039),\n",
       " ('System', 0.6952886132236119, 4152.482172104471),\n",
       " ('System', 1.1530665367398383, 4227.888537875516),\n",
       " ('System', 0.355985180145474, 4237.163845170227),\n",
       " ('System', 0.9682569043181879, 4334.758224416071),\n",
       " ('System', 1.7922166674354412, 4492.852657137892),\n",
       " ('System', 0.06021264715499029, 4539.502342254586),\n",
       " ('System', 2.6570166517909186, 4550.187769105516),\n",
       " ('System', 5.608644908201353, 4602.246701772279),\n",
       " ('System', 7.408728368039373, 4609.273584110562),\n",
       " ('System', 0.8375757678442222, 4666.751151009624),\n",
       " ('System', 2.8650337776375303, 4737.898420405602),\n",
       " ('System', 0.47460447905489594, 4884.398980425178),\n",
       " ('System', 0.5382590648361194, 4902.085763533736),\n",
       " ('System', 0.4412344067316167, 5000.814724244864),\n",
       " ('System', 8.948915301775907, 5075.984241279653),\n",
       " ('System', 3.654595661835236, 5085.983202830354),\n",
       " ('System', 5.6336376219843585, 5220),\n",
       " ('System', 0.3716529957962414, 5255.581224455669),\n",
       " ('System', 7.3053034911608865, 5278.553882687343),\n",
       " ('System', 0.4328605613968997, 5402.642208911894),\n",
       " ('System', 3.2655260376991504, 5428.986780450152),\n",
       " ('System', 1.3899011200574334, 5455.069599225335),\n",
       " ('System', 8.025685662082505, 5575.629033186047),\n",
       " ('System', 0.21176521525903727, 5913.868068966881),\n",
       " ('System', 0.1035041653122924, 6021.227589638064),\n",
       " ('System', 0.3405484920507356, 6114.500289411899),\n",
       " ('System', 0.5005181564430661, 6186.831417108268),\n",
       " ('System', 1.6959162734512498, 6465.001805217815),\n",
       " ('System', 0.03369270993203337, 6467.442059183638),\n",
       " ('System', 1.7424209202742764, 6846.848598411013),\n",
       " ('System', 6.662697232989083, 6871.866577497066),\n",
       " ('System', 1.1513637471425213, 7035.117088318938),\n",
       " ('System', 5.67195521317025, 7038.689744205648),\n",
       " ('System', 2.398314014478739, 7151.469719693547),\n",
       " ('System', 2.341083970941482, 7284.164475522284),\n",
       " ('System', 3.1877672281529086, 7290.396687082394),\n",
       " ('System', 1.3225137513330811, 7303.993291014207),\n",
       " ('System', 1.5483018796415182, 7639.056996551924),\n",
       " ('System', 0.4248462133936825, 7689.985468065006),\n",
       " ('System', 2.9228572073882213, 7753.505434628293),\n",
       " ('System', 1.1467076868320714, 7900.672042360938),\n",
       " ('System', 2.751146974221685, 7903.91980081045),\n",
       " ('System', 2.02351565337594, 8178.02308715319),\n",
       " ('System', 1.0210242431697072, 8180.128010388093),\n",
       " ('System', 0.681075517006547, 8189.991520244152),\n",
       " ('System', 0.8601960868180707, 8211.13335564547),\n",
       " ('System', 1.3452220998938764, 8219.532885629662),\n",
       " ('System', 0.029918436340814897, 8235.976176641087),\n",
       " ('System', 0.9917297014321763, 8238.672241408627),\n",
       " ('System', 1.4209100383244915, 8247.79136688551),\n",
       " ('System', 0.6314682103613236, 8293.201842211993),\n",
       " ('System', 4.157576701605029, 8368.527312284807),\n",
       " ('System', 1.0487696449511563, 8384.998599254784),\n",
       " ('System', 1.8505500023912886, 8485.981263239333),\n",
       " ('System', 2.986409167514908, 8710.76260010604),\n",
       " ('System', 4.164007636737639, 8798.803001962728),\n",
       " ('System', 0.45054561060693377, 9367.850911573149),\n",
       " ('System', 0.027992509863264858, 9458.81336580675),\n",
       " ('System', 1.4068455571916343, 9505.301623714467),\n",
       " ('System', 2.1008153732821575, 9754.806580563347),\n",
       " ('System', 2.1350024944168466, 9821.602318851175),\n",
       " ('System', 1.1442246311094155, 9870.536512340466),\n",
       " ('System', 8.98246824668884, 9887.403352485122),\n",
       " ('System', 3.556675230552853, 10175.762497857755),\n",
       " ('System', 0.4935814250608541, 10241.804623939746),\n",
       " ('System', 0.2934855102216161, 10370.681051131067),\n",
       " ('System', 0.91195178772973, 10380.95332399833),\n",
       " ('System', 0.864674087130554, 10391.952923075427),\n",
       " ('System', 3.1334713708295707, 10426.456004061922),\n",
       " ('System', 2.2042102903923553, 10509.303573359213),\n",
       " ('System', 0.9614813557177925, 10553.460782514338),\n",
       " ('System', 2.71845619785905, 10576.869697643206),\n",
       " ('System', 5.892731130076611, 10642.321789219277),\n",
       " ('System', 0.16475371623832635, 10739.888100606346),\n",
       " ('System', 1.8505056760985494, 10762.853930069772),\n",
       " ('System', 0.22253821061705062, 11075.956673102346),\n",
       " ('System', 1.6564776419251708, 11177.130836186021),\n",
       " ('System', 1.1844668659631044, 11181.458480493573),\n",
       " ('System', 5.677227827985535, 11202.581396997035),\n",
       " ('System', 1.0665220602504024, 11371.159261171299),\n",
       " ('System', 5.2547816152408116, 11388.873277954097),\n",
       " ('System', 1.3335949667360814, 12064.109456346265),\n",
       " ('System', 1.3825461509741874, 12069.852366538216),\n",
       " ('System', 1.3181825795360076, 12274.959337587257),\n",
       " ('System', 2.672911119029143, 12305.157624480838),\n",
       " ('System', 0.9725144181298856, 12358.517507213122),\n",
       " ('System', 2.3387747939577306, 12752.270741609247),\n",
       " ('System', 2.0674462909038818, 12821.478475104142),\n",
       " ('System', 5.4391584800803, 12846.347897248852),\n",
       " ('System', 0.279647309890312, 12853.717358305115),\n",
       " ('System', 2.228428977750785, 13992.51272334431),\n",
       " ('System', 0.7359363949281289, 14030.958579461765),\n",
       " ('System', 3.2087521572057813, 14035.732138520621),\n",
       " ('System', 2.359960982561648, 14040.805542802695),\n",
       " ('System', 3.205517432784989, 14043.623253850856),\n",
       " ('System', 0.6943276649588731, 14163.807255945041),\n",
       " ('System', 0.2056359770186155, 14430.919808907103),\n",
       " ('System', 0.53928364566599, 14439.484795363996),\n",
       " ('System', 1.0268988562634418, 14444.957560363868),\n",
       " ('System', 0.508183365126074, 14460.389792191409),\n",
       " ('System', 7.280696302357145, 14479.209339309322),\n",
       " ('System', 9.876594338358908, 14515.555037971159),\n",
       " ('System', 2.905890392221339, 14640),\n",
       " ('System', 0.3541268579115085, 14796.635719180875),\n",
       " ('System', 0.08249916281953683, 14806.759667491388),\n",
       " ('System', 5.092232041119632, 14808.085295192563),\n",
       " ('System', 1.2761285370275728, 14830.394077961451),\n",
       " ('System', 1.9228921738610711, 14918.282516874115),\n",
       " ('System', 3.3392225175170562, 15018.36865901342),\n",
       " ('System', 3.570268815539035, 15386.925119559211),\n",
       " ('System', 1.722907209305767, 15413.908023422766),\n",
       " ('System', 0.32555415201984905, 15440.786724997655),\n",
       " ('System', 0.09208047193630574, 15444.149943210206),\n",
       " ('System', 1.5326190003259277, 15508.562496439059),\n",
       " ('System', 0.31335602404900426, 15537.244069890232),\n",
       " ('System', 0.5431380211816926, 15538.722330662305),\n",
       " ('System', 0.3251527592150119, 15629.05025004426),\n",
       " ('System', 1.8960327078511352, 15661.482380832205),\n",
       " ('System', 0.7984802898465416, 15674.892311142716),\n",
       " ('System', 1.1989793504462711, 15700.842391545611),\n",
       " ('System', 1.6568755897895402, 15750.491849972548),\n",
       " ('System', 5.341277746831968, 15755.925299178392),\n",
       " ('System', 4.111200983620547, 15967.852902474157),\n",
       " ('System', 8.683871660331423, 16143.582854054463),\n",
       " ('System', 2.6772183309211877, 16217.57899122904),\n",
       " ('System', 0.2489541127301534, 16542.47212522352),\n",
       " ('System', 3.70672280065585, 16563.16232443121),\n",
       " ('System', 3.3780032783045257, 16689.891910132716),\n",
       " ('System', 0.5448613084240534, 16740.477161879906),\n",
       " ('System', 3.224931926002941, 17178.792326581137),\n",
       " ('System', 5.898783183855056, 17215.02698318425),\n",
       " ('System', 0.02491956612888556, 17279.34204035654),\n",
       " ('System', 6.788838075115306, 17301.85380261588),\n",
       " ('System', 2.074876626321467, 17367.814043575843),\n",
       " ('System', 2.998572755335022, 17552.762958489195),\n",
       " ('System', 2.4332735602382805, 17626.251505712866),\n",
       " ('System', 1.1459975551574915, 17760.422854066124),\n",
       " ('System', 0.16798005651687004, 17768.63063367878),\n",
       " ('System', 0.23838453871172643, 17776.79226220752),\n",
       " ('System', 4.831751065235019, 17831.831779704935),\n",
       " ('System', 6.82247451817464, 18313.8084769908),\n",
       " ('System', 1.7501926086231727, 18328.420112757845),\n",
       " ('System', 3.6771589228276356, 18517.52320124014),\n",
       " ('System', 1.7146362574410934, 18650.281986040878),\n",
       " ('System', 0.5169013417861098, 18652.621291451946),\n",
       " ('System', 2.3186091257960775, 18712.86428443026),\n",
       " ('System', 2.370774168742009, 18894.895645837267),\n",
       " ('System', 2.4041959699543147, 19064.962136359736),\n",
       " ('System', 2.7936607666503326, 19271.637309787337),\n",
       " ('System', 0.7932322040881566, 19506.844314810565),\n",
       " ('System', 1.9357831280939513, 19513.57899551528),\n",
       " ('System', 0.3378837384637715, 19532.25411858145),\n",
       " ('System', 0.9203403397196586, 19829.927625487955),\n",
       " ('System', 0.6887829711391553, 19848.700997367523),\n",
       " ('System', 1.5282080136516074, 19943.110609083524),\n",
       " ('System', 0.013341599298554926, 19990.255609522384),\n",
       " ('System', 0.3145614305889349, 20014.688945795257),\n",
       " ('System', 2.4179157986847626, 20022.219393381325),\n",
       " ('System', 2.547850155624575, 20024.638860454746),\n",
       " ('System', 0.8146664742852364, 20102.9419420744),\n",
       " ('System', 2.9728893796789655, 20129.297068234424),\n",
       " ('System', 2.020543774680622, 20140.30270371756),\n",
       " ('System', 6.901614380040456, 20176.800551068885),\n",
       " ('System', 0.1752987942168989, 20298.761858195052),\n",
       " ('System', 0.48706223060357157, 20507.681476978425),\n",
       " ('System', 3.5844701063438773, 20508.826666944537),\n",
       " ('System', 0.45313642151501177, 20549.387658127976),\n",
       " ('System', 1.2675307352535936, 20551.753986237145),\n",
       " ('System', 0.6062948178960325, 20559.261187783766),\n",
       " ('System', 0.283759233798954, 20562.372920318718),\n",
       " ('System', 0.26424668913312643, 20719.741805353522),\n",
       " ('System', 2.0938501043142956, 20723.206218058738),\n",
       " ('System', 2.5605900569953293, 20852.06400468156),\n",
       " ('System', 2.5383091983237955, 20971.044821642183),\n",
       " ('System', 1.9669841547200424, 21095.39833465604),\n",
       " ('System', 0.9614654043268136, 21179.077301419984),\n",
       " ('System', 0.5231922999380314, 21224.18648236747),\n",
       " ('System', 4.63829357218618, 21260.202561952996),\n",
       " ('System', 0.6497768382107196, 21272.119851237454),\n",
       " ('System', 1.2250058027231643, 21312.235301693174),\n",
       " ('System', 0.4432085699626174, 21539.562549175895),\n",
       " ('System', 2.915652895000733, 21544.599929062006),\n",
       " ('System', 5.255139349587879, 21971.915803734362),\n",
       " ('System', 10.236531320611096, 22125.63328626516),\n",
       " ('System', 0.8692280978408284, 22278.713313968987),\n",
       " ('System', 5.706884249698632, 22341.954803161756),\n",
       " ('System', 5.327712634690222, 22463.19767245074),\n",
       " ('System', 6.042252471193468, 22760.854875778794),\n",
       " ('System', 1.7168152278356843, 22819.488282539798),\n",
       " ('System', 0.3140601194363265, 22871.630028523126),\n",
       " ('System', 0.365672289028576, 22908.520091720427),\n",
       " ('System', 6.387453477540622, 22987.37618359299),\n",
       " ('System', 4.27669945368206, 23014.84619177784),\n",
       " ('System', 0.2507349655203944, 23245.685830408853),\n",
       " ('System', 6.2327349539673955, 23283.175714044566),\n",
       " ('System', 1.3811611890988162, 23443.50668448515),\n",
       " ('System', 2.2760086108813002, 23508.95377946738),\n",
       " ('System', 3.0311626517765045, 23548.42769833291),\n",
       " ('System', 0.45504778961741577, 23579.941859473027),\n",
       " ('System', 1.7577282976672564, 23815.091405452546),\n",
       " ('System', 4.343546926929055, 23917.236482486314),\n",
       " ('System', 3.8911960848382696, 24444.85781543365),\n",
       " ('System', 0.32601128577464744, 24679.62588235344),\n",
       " ('System', 1.0357352373098065, 24701.42765414026),\n",
       " ('System', 0.0444908280104115, 24704.704101089337),\n",
       " ('System', 1.8579688955220657, 24716.885960264804),\n",
       " ('System', 1.7657015049872633, 24766.754758754512),\n",
       " ('System', 0.10236952625017419, 24770.365866426295),\n",
       " ('System', 5.074256437006432, 24772.097243944503),\n",
       " ('System', 0.12888115447860768, 24959.723221093598),\n",
       " ('System', 4.392051569319542, 24970.08649169097),\n",
       " ('System', 2.404803603955898, 25012.08498164181),\n",
       " ('System', 1.6408928851005213, 25018.99882272225),\n",
       " ('System', 0.7288036057763579, 25050.36406072623),\n",
       " ('System', 1.5341403188430294, 25132.541956621924),\n",
       " ('System', 1.1192689669300726, 25172.94752276034),\n",
       " ('System', 11.022292565605612, 25202.958125765206),\n",
       " ('System', 0.12057509954354344, 25228.0214623728),\n",
       " ('System', 4.541896331951923, 25473.054193956756),\n",
       " ('System', 2.56071913010013, 25616.094105704604),\n",
       " ('System', 0.40495226215489016, 25625.97961016703),\n",
       " ('System', 0.6358576880565913, 25627.47398931471),\n",
       " ('System', 1.5937753422354246, 25628.99729283122),\n",
       " ('System', 0.38277308002985505, 25716.146171517565),\n",
       " ('System', 0.9438043687408905, 25829.672500998626),\n",
       " ('System', 0.060065593007232465, 25846.736055247682),\n",
       " ('System', 2.8178132239555262, 26185.474965386646),\n",
       " ('System', 0.03739503145796534, 26238.481333971613),\n",
       " ('System', 0.5312414955723174, 26241.397063623026),\n",
       " ('System', 1.2229691355058774, 26247.64192501924),\n",
       " ('System', 1.0297431876836949, 26253.27751640168),\n",
       " ('System', 1.4801919661123435, 26327.312107681344),\n",
       " ('System', 0.8458547899093551, 26359.914118181416),\n",
       " ('System', 2.052677318283205, 26361.40058449158),\n",
       " ('System', 2.191933265707989, 26377.416960269114),\n",
       " ('System', 4.933421502234742, 26379.89762429396),\n",
       " ('System', 0.47001176801666616, 26558.541162327703),\n",
       " ('System', 1.6622743126132369, 26690.898556164895),\n",
       " ('System', 2.2444697467950783, 26772.434329489617),\n",
       " ('System', 2.566653499542183, 26778.945751134008),\n",
       " ('System', 2.3752753030379288, 26926.273491041273),\n",
       " ('System', 0.3267119905393274, 27101.928116763007),\n",
       " ('System', 1.4154773042667563, 27156.666627592498),\n",
       " ('System', 1.4984420423462543, 27162.72177334054),\n",
       " ('System', 3.5166642577524185, 27202.41420223785),\n",
       " ('System', 0.6277539147014084, 27443.58000445217),\n",
       " ('System', 1.6892329617599418, 27647.535578806914),\n",
       " ('System', 3.820381285496222, 27892.456269308692),\n",
       " ('System', 0.7484807242013574, 28013.723306574087),\n",
       " ('System', 2.106873105786818, 28145.46448744663),\n",
       " ('System', 4.574814673446639, 28150.57407090667),\n",
       " ('System', 1.046801948075144, 28187.578365271158),\n",
       " ('System', 6.985400544943907, 28193.884361606528),\n",
       " ('System', 8.93418624090677, 28558.237483265137),\n",
       " ('System', 0.8186152207190439, 28883.139349504185),\n",
       " ('System', 0.35540229356199354, 28885.4514804107),\n",
       " ('System', 0.17413802150266705, 28889.164912225187),\n",
       " ('System', 0.4878081066712704, 28923.181145194463),\n",
       " ('System', 0.004036983990421203, 29011.717668055197),\n",
       " ('System', 2.337336014146644, 29024.294421296112),\n",
       " ('System', 0.1069666389792583, 29157.813211756875),\n",
       " ('System', 13.921294106313045, 29207.77956086606),\n",
       " ('System', 0.6487350337153518, 29274.796489204302),\n",
       " ('System', 0.28083733980708253, 29284.149201525368),\n",
       " ('System', 5.010558758643272, 29291.417869727444),\n",
       " ('System', 0.08358948825904518, 29317.992149261205),\n",
       " ('System', 1.6789098448359068, 29400.7282415875),\n",
       " ('System', 6.531999274827227, 29463.455544065702),\n",
       " ('System', 0.41510118724733763, 29476.00116018002),\n",
       " ('System', 3.009565845169193, 29535.969474932317),\n",
       " ('System', 3.378330607196321, 29800.644278345928),\n",
       " ('System', 4.55342800187097, 29806.20830410354),\n",
       " ('System', 2.5691098094000973, 29948.550954262228),\n",
       " ('System', 1.273514722951543, 30004.46188582516),\n",
       " ('System', 4.365985067209538, 30060),\n",
       " ('System', 2.182762929698103, 30071.779166521595),\n",
       " ('System', 0.5494888652214555, 30102.446575371854),\n",
       " ('System', 1.4067266291768385, 30389.498695678278),\n",
       " ('System', 2.342784935605451, 30392.88276390172),\n",
       " ('System', 1.0733658756058644, 30412.997021534713),\n",
       " ('System', 6.930580856217922, 30430.015469537935),\n",
       " ('System', 0.5901680454525265, 30497.50831087935),\n",
       " ('System', 0.4669982865110521, 30643.967176885635),\n",
       " ('System', 0.3170508473190902, 30655.23402198244),\n",
       " ('System', 0.8988370722581365, 30723.009217171642),\n",
       " ('System', 0.38267209960691567, 30876.085665896113),\n",
       " ('System', 9.419272864607958, 30961.32662495235),\n",
       " ('System', 1.2899936248030255, 30971.875151321852),\n",
       " ('System', 0.0036846573703660204, 31043.536108031745),\n",
       " ('System', 2.1770349119785104, 31048.677365473344),\n",
       " ('System', 0.9237543575051534, 31052.002108481636),\n",
       " ('System', 1.479477900139062, 31055.60089473166),\n",
       " ('System', 5.895311794261104, 31088.396688210334),\n",
       " ('System', 1.4887713834877945, 31200),\n",
       " ('System', 0.5372231859135603, 31247.845682494997),\n",
       " ('System', 5.146435259570692, 31260),\n",
       " ('System', 0.5081555843314003, 31290.629201425985),\n",
       " ('System', 1.5865656327663342, 31295.130334737514),\n",
       " ('System', 1.9500397187934086, 31369.6610571264),\n",
       " ('System', 0.007456071811277723, 31631.678055004457),\n",
       " ('System', 0.21209288823087546, 31723.666434438728),\n",
       " ('System', 1.4186451747944295, 31911.393584323567),\n",
       " ('System', 1.6642970240696555, 31934.35025871753),\n",
       " ('System', 2.5337188121668333, 32053.65446363488),\n",
       " ('System', 3.8039311082541785, 32064.16024592016),\n",
       " ('System', 0.7118782930899006, 32105.25988128251),\n",
       " ('System', 2.4687968367746054, 32114.6702387237),\n",
       " ('System', 0.8843684145312962, 32138.96729647978),\n",
       " ('System', 0.19707668601931536, 32169.83500540524),\n",
       " ('System', 2.667295371498453, 32510.076818664533),\n",
       " ('System', 3.7920958118023136, 32521.01275315899),\n",
       " ('System', 3.527727843422336, 32575.079317782467),\n",
       " ('System', 3.3732259750952127, 32580.645745596477),\n",
       " ('System', 2.815335070593096, 32630.117558290873),\n",
       " ('System', 4.84637912603416, 32780.40779059564),\n",
       " ('System', 1.3286924004184835, 32810.30561675233),\n",
       " ('System', 1.2101198141990424, 32829.518516304975),\n",
       " ('System', 3.2410376044748506, 32912.874420303604),\n",
       " ('System', 0.6862542499241673, 32997.00228153087),\n",
       " ('System', 0.16084802809289153, 32998.86367322389),\n",
       " ('System', 0.7558958185933273, 33000.69429581348),\n",
       " ('System', 0.02887517936630675, 33007.78218560043),\n",
       " ('System', 2.1007302863672797, 33010.70311546999),\n",
       " ('System', 4.897561676841927, 33071.811654082434),\n",
       " ('System', 0.6578176425227165, 33406.559951302486),\n",
       " ('System', 6.443971108812889, 33435.45752439989),\n",
       " ('System', 0.14954694693821677, 33558.61061142273),\n",
       " ('System', 1.2526529195671547, 33576.26124496382),\n",
       " ('System', 0.9850463299541203, 33619.941332941846),\n",
       " ('System', 2.2811456214242005, 33803.03805206432),\n",
       " ('System', 0.09089683398542635, 33814.55916594422),\n",
       " ('System', 0.9995887897183345, 33817.746206527954),\n",
       " ('System', 0.06883699961452677, 33835.86092982174),\n",
       " ('System', 0.9394837681777789, 33934.65891969858),\n",
       " ('System', 0.9610137562527421, 34039.591748916704),\n",
       " ('System', 0.22356866144514354, 34041.3157566989),\n",
       " ('System', 0.11600666751870656, 34106.41882368832),\n",
       " ('System', 0.10439221169297982, 34119.777205971994),\n",
       " ('System', 0.4775204501091217, 34135.41472256648),\n",
       " ('System', 1.663274676200487, 34484.497703584304),\n",
       " ('System', 0.7636787578072955, 34488.532078361946),\n",
       " ('System', 0.9968608858293732, 34643.467644190256),\n",
       " ('System', 6.537590075099595, 34731.95346092923),\n",
       " ('System', 0.19260201445775565, 34776.328266532044),\n",
       " ('System', 3.8932593856146545, 34900.785802445156),\n",
       " ('System', 4.608482885976662, 35071.704644741185),\n",
       " ('System', 0.4095619528261748, 35081.23474287345),\n",
       " ('System', 2.280464321256726, 35116.67634928196),\n",
       " ('System', 0.3191969903878646, 35139.457531562104),\n",
       " ('System', 0.6199543446486457, 35219.11595364842),\n",
       " ('System', 4.669521278857728, 35222.898626038324),\n",
       " ('System', 0.25967234072779494, 35486.830046987634),\n",
       " ('System', 4.504176450820322, 35525.89672665825),\n",
       " ('System', 2.2986777849355, 35570.35908711773),\n",
       " ('System', 0.11268586365710907, 36142.55786039286),\n",
       " ('System', 11.895291120212024, 36165.02504789307),\n",
       " ('System', 0.26610872082107095, 36190.357281468816),\n",
       " ('System', 0.7759343495864411, 36198.47070636684),\n",
       " ('System', 3.4786473027849985, 36255.026356285984),\n",
       " ('System', 0.8000084672824507, 36262.25447926604),\n",
       " ('System', 0.9858128025906048, 36299.166789657706),\n",
       " ('System', 5.189261699820418, 36313.68436694677),\n",
       " ('System', 2.803041190660567, 36323.81010059872),\n",
       " ('System', 1.3873656696225285, 36342.41057411259),\n",
       " ('System', 0.08362893541238019, 36361.31666756004),\n",
       " ('System', 4.155949141265037, 36432.81781460255),\n",
       " ('System', 0.9542266896547422, 36437.89376845795),\n",
       " ('System', 7.891169865750875, 36496.37574095583),\n",
       " ('System', 0.5851738778548995, 36506.17262403766),\n",
       " ('System', 0.6255109655340226, 36511.88977836785),\n",
       " ('System', 0.8266519560052117, 36561.49836329834),\n",
       " ('System', 0.45820735487590153, 36665.04157874442),\n",
       " ('System', 3.260697980617461, 36720.549411975284),\n",
       " ('System', 1.225878992267797, 36741.26019694252),\n",
       " ('System', 1.5089964297153535, 36827.49994395208),\n",
       " ('System', 9.822233285935784, 36837.89730297957),\n",
       " ('System', 1.4275516449624102, 36864.26279946085),\n",
       " ('System', 0.6123139515993801, 36890.07763041126),\n",
       " ('System', 0.2760351929216584, 37177.86820692684),\n",
       " ('System', 1.3505257746045132, 37198.73899642719),\n",
       " ('System', 1.5025691340738927, 37313.10734470785),\n",
       " ('System', 3.0718254885335603, 37321.83471599804),\n",
       " ('System', 3.670128223406287, 37356.53930894536),\n",
       " ('System', 0.6373100830616554, 37375.61013606658),\n",
       " ('System', 0.21843710198366312, 37377.53836810134),\n",
       " ('System', 0.7704294372538094, 37523.61584206788),\n",
       " ('System', 1.952384787468231, 38486.12675424441),\n",
       " ('System', 0.005294115230319208, 38489.43757668706),\n",
       " ('System', 1.2642534602676965, 38568.72666715613),\n",
       " ('System', 0.7958375429792273, 38660.19651085362),\n",
       " ('System', 2.006178347945711, 38709.348607618216),\n",
       " ('System', 3.0468438834787395, 38726.70097174749),\n",
       " ('System', 0.27849465044230387, 38737.57471879099),\n",
       " ('System', 0.5363397445312279, 38746.653005851826),\n",
       " ('System', 1.7476200930879495, 38782.009823352426),\n",
       " ('System', 0.007073531418450645, 38873.6474426853),\n",
       " ('System', 4.505891517369004, 38891.99350370916),\n",
       " ('System', 1.1675683826049983, 38944.27999158982),\n",
       " ('System', 0.5339533623308346, 39398.62238362148),\n",
       " ('System', 0.3817222233150298, 39403.54147571658),\n",
       " ('System', 4.745371581767429, 39592.45619422164),\n",
       " ('System', 2.5912891351452294, 39754.267483766154),\n",
       " ('System', 2.1441142683227663, 40082.06087694239),\n",
       " ('System', 0.3929702475262511, 40115.289187403934),\n",
       " ('System', 0.02431228411514236, 40539.03645864123),\n",
       " ('System', 1.6724489884297378, 40623.715446244365),\n",
       " ('System', 2.376821022583663, 40890.86844963036),\n",
       " ('System', 6.397435599928778, 40893.427347063895),\n",
       " ('System', 5.024700458493103, 40985.15876356593),\n",
       " ('System', 5.376001352100882, 41024.49190450096),\n",
       " ('System', 1.1588021814356289, 41039.78632301051),\n",
       " ('System', 0.6054826330421854, 41549.98819032203),\n",
       " ('System', 1.935539995248336, 41560.26734840624),\n",
       " ('System', 1.3282550394012007, 41609.36024801398),\n",
       " ('System', 4.301013150191387, 42032.10639944726),\n",
       " ('System', 0.5353447265869681, 42581.83726679564),\n",
       " ('System', 0.37759105713688296, 42641.428562319474),\n",
       " ('System', 1.1079418801175192, 42767.860038119594),\n",
       " ('System', 3.899852240646594, 42943.98963862766),\n",
       " ('System', 0.0499089590540604, 42951.633826359095),\n",
       " ('System', 1.9040823257689783, 43212.32654911489),\n",
       " ('System', 3.2845074047550393, 43225.56410444407),\n",
       " ('System', 0.9713260547331865, 43241.67367997225),\n",
       " ('System', 1.1748564436947713, 43459.821904586024),\n",
       " ('System', 0.08697701307496156, 43475.95434624505),\n",
       " ('System', 0.7697851146832683, 43633.16399503067),\n",
       " ('System', 3.078486203311887, 43652.57495361963),\n",
       " ('System', 6.1428107413336495, 43670.88554331203),\n",
       " ('System', 3.334381792183318, 43692.23333858173),\n",
       " ('System', 5.85506311331459, 43698.267567435665),\n",
       " ('Process Starved', 1, 43784),\n",
       " ('System', 0.468335718761531, 43801.208324799176),\n",
       " ('System', 3.0435794449354936, 43823.653111547545),\n",
       " ('System', 0.11778420850981737, 43828.61240791247),\n",
       " ('System', 3.3913861027564964, 43905.81561103161),\n",
       " ('System', 0.38704474627131624, 44003.030443281765),\n",
       " ('System', 0.9461513562628963, 44009.08103735472),\n",
       " ('System', 0.4588251054620881, 44150.49198268399),\n",
       " ('System', 1.6190192971229955, 44218.38783415338),\n",
       " ('System', 1.3093396998048163, 44310.14709697826),\n",
       " ('System', 1.5234715252381714, 44316.07504128884),\n",
       " ('System', 2.2671098128020946, 44351.94264189062),\n",
       " ('System', 2.9536019607550057, 44475.224139032405),\n",
       " ('System', 2.631483526289487, 44613.05793243448),\n",
       " ('System', 2.0983109739896664, 44629.89136679841),\n",
       " ('System', 1.8094023835916022, 44687.56283032612),\n",
       " ('System', 2.161434366037862, 44714.54693441631),\n",
       " ('System', 1.5233349828374565, 44856.327731633035),\n",
       " ('System', 0.016817448190608427, 44861.578351758246),\n",
       " ('System', 0.6809607664004064, 44900.3658422868),\n",
       " ('System', 0.27663853361935514, 45136.80360345716),\n",
       " ('System', 0.24818562177640338, 45137.981312725366),\n",
       " ('System', 0.4909903571254873, 45150.94122698718),\n",
       " ('System', 0.5504467526620962, 45282.74509323947),\n",
       " ('System', 0.22583535478646513, 45310.162306232545),\n",
       " ('System', 1.4571745416013249, 45348.21349374828),\n",
       " ('System', 1.1271699345942674, 45355.890890115064),\n",
       " ('System', 4.105413911454023, 45473.661774083004),\n",
       " ('System', 2.226640958432024, 45482.360826926204),\n",
       " ('System', 8.168393118822577, 45511.83048325159),\n",
       " ('System', 4.930768976102617, 45558.577434730825),\n",
       " ('System', 0.5682131905454803, 45610.20755238562),\n",
       " ('System', 1.6317548553458536, 45664.485234332395),\n",
       " ('System', 1.1228648790129343, 45686.08378956141),\n",
       " ('System', 1.5057905362485087, 45750.53887859099),\n",
       " ('System', 0.3632802527379097, 46031.39033741218),\n",
       " ('System', 0.7194418255603287, 46276.79276757323),\n",
       " ('System', 1.2134443496610212, 46402.93580533957),\n",
       " ('System', 2.4502263275093252, 46422.13919316846),\n",
       " ('System', 3.438469787137615, 46435.16304726422),\n",
       " ('System', 1.222087414841049, 46513.51863784291),\n",
       " ('System', 0.6939472473097921, 46560),\n",
       " ('System', 10.607887597026936, 46824.98086086796),\n",
       " ('System', 4.129137794798683, 46859.36156996422),\n",
       " ('System', 1.0110843252247286, 46925.1014621839),\n",
       " ('System', 0.5206542581102074, 46980),\n",
       " ('System', 7.0636305195335, 47076.49914530892),\n",
       " ('System', 1.1190820117474471, 47698.63297407616),\n",
       " ('System', 0.4554136824508966, 47813.52640245696),\n",
       " ('System', 0.24103331937088893, 47910.18647902543),\n",
       " ('System', 0.5530050731312544, 47928.287170432675),\n",
       " ('System', 1.7244786734585045, 47929.288050028124),\n",
       " ('System', 0.9030194206895095, 48012.73621284148),\n",
       " ('System', 0.9437703925104234, 48018.69657843723),\n",
       " ('System', 0.45872216383924147, 48086.801304746616),\n",
       " ('System', 2.168429816720219, 48089.547135743276),\n",
       " ('System', 0.835960394366051, 48103.83093118002),\n",
       " ('System', 0.20165585882033157, 48111.12073991877),\n",
       " ('System', 0.7100768985427884, 48188.26820444715),\n",
       " ('System', 2.533009927875827, 48199.26480149842),\n",
       " ('System', 0.49503889487784797, 48203.28689076648),\n",
       " ('System', 0.9561821774280123, 48240),\n",
       " ('System', 3.8436617548578704, 48258.31781306953),\n",
       " ('System', 0.1675322814349434, 48447.04063440836),\n",
       " ('System', 3.1397994476061837, 48448.83502975416),\n",
       " ('System', 2.195149963786026, 48510.30879097927),\n",
       " ('System', 2.062575296445893, 49828.704797388724),\n",
       " ('System', 1.033504273962619, 49889.80652554238),\n",
       " ('System', 3.9319121240107746, 49900.16696590245),\n",
       " ('System', 4.259659093244565, 49906.44999200207),\n",
       " ('System', 1.3833886913399733, 50159.60900189409),\n",
       " ('System', 2.6512895219001926, 50177.419580208974),\n",
       " ('System', 1.1281707392925526, 50269.85449702506),\n",
       " ('System', 0.6327913896667066, 50277.64060649999),\n",
       " ('System', 0.6670310302626802, 50295.72844858407),\n",
       " ('System', 0.28179420263382793, 50424.096912617664),\n",
       " ('System', 2.121585377378495, 50509.369828010866),\n",
       " ('System', 2.078865058976371, 50689.16277522102),\n",
       " ('System', 1.7842501842592924, 50720.204200190936),\n",
       " ('System', 0.5727772430924888, 50853.41537270879),\n",
       " ('System', 0.3098125489662076, 50938.171604291194),\n",
       " ('System', 0.7313199074268493, 51092.255677247944),\n",
       " ('System', 0.6208631360950168, 51097.22113069986),\n",
       " ('System', 0.2190376294624871, 51120.08543970838),\n",
       " ('System', 2.8658187968715785, 51136.10351719282),\n",
       " ('System', 2.0020853783270005, 51143.42482287245),\n",
       " ('System', 1.613401808360422, 51331.19057350306),\n",
       " ('System', 0.25105317186375237, 51350.21052921469),\n",
       " ('System', 4.448144939261876, 51366.0576767595),\n",
       " ('System', 1.1234458102480251, 51370.713480114006),\n",
       " ('System', 0.6963252227885758, 51420.28864121644),\n",
       " ('System', 0.654303931606864, 51459.73703546389),\n",
       " ('System', 2.9897444640494437, 51509.263623883475),\n",
       " ('System', 3.1956008281811523, 51527.48146075389),\n",
       " ('System', 0.09434249619357904, 51670.094347819555),\n",
       " ('System', 8.843131491875871, 51675.42638629543),\n",
       " ('System', 0.827190064149379, 51718.11087711525),\n",
       " ('System', 0.045430587340232066, 51739.667358662075),\n",
       " ('System', 2.537200205215643, 51750.48354940596),\n",
       " ('System', 1.1793978946029884, 51844.48760438228),\n",
       " ('System', 1.99012430786256, 51881.81874032815),\n",
       " ('System', 4.9250994195826365, 51889.745471482696),\n",
       " ('System', 0.5807930389250109, 51909.93899909133),\n",
       " ('System', 0.9088871291641498, 52010.25575840474),\n",
       " ('System', 0.32397244847057216, 52021.02637655979),\n",
       " ('System', 1.1886080638934395, 52071.30041788159),\n",
       " ('System', 0.34711468608651275, 52177.7042008995),\n",
       " ('System', 3.1377355835493153, 52367.95195023828),\n",
       " ('System', 0.9654950911319943, 52557.17237538181),\n",
       " ('System', 0.2729588477724831, 52560.69008684431),\n",
       " ('System', 1.7125639450878896, 52586.74141900591),\n",
       " ('System', 2.3221156069628157, 52969.053986732186),\n",
       " ('System', 2.534161414862002, 53008.48648695743),\n",
       " ('System', 0.5410239032286701, 53042.220576262844),\n",
       " ('System', 0.6102474121298158, 53243.30765646307),\n",
       " ('System', 0.4465926616393295, 53249.22740712345),\n",
       " ('System', 2.9845102210572283, 53262.57434866855),\n",
       " ('System', 3.644627837535267, 53342.85172534016),\n",
       " ('System', 2.5546740520308746, 53372.5487434415),\n",
       " ('System', 0.5904767005040695, 53394.36186262687),\n",
       " ('System', 0.2213609261106934, 53612.3454996912),\n",
       " ('System', 3.2891817124386953, 53667.45185679684),\n",
       " ('System', 0.17890331905832998, 53683.25526474358),\n",
       " ('System', 1.0701601958373794, 53982.65688142572),\n",
       " ('System', 0.7954609104212842, 54086.31273244517),\n",
       " ('System', 2.0120958523897845, 54087.5040058662),\n",
       " ('System', 2.634447868331592, 54125.03248841473),\n",
       " ('System', 6.895976977512705, 54165.84539501491),\n",
       " ('System', 7.38098797928077, 54195.79830631643),\n",
       " ('System', 1.6446526653683813, 54420.62937046129),\n",
       " ('System', 2.6825958314043947, 54424.62036227),\n",
       " ('System', 2.122714966722121, 54473.74646575791),\n",
       " ('System', 1.274962437753285, 54532.80845303777),\n",
       " ('System', 0.28812107945671606, 54538.64645311333),\n",
       " ('System', 0.47258276307691954, 54582.54345110169),\n",
       " ('System', 0.1747282667680272, 54806.94765262997),\n",
       " ('System', 0.2700619592395122, 54816.13203891337),\n",
       " ('System', 2.0475669410506896, 54868.348414463675),\n",
       " ('System', 0.19510383886924892, 55700.30466605072),\n",
       " ('System', 4.583900965559888, 55720.56856501453),\n",
       " ('System', 3.0523535916042186, 55728.2444587266),\n",
       " ('System', 0.2666535822731281, 55780.64909039778),\n",
       " ('System', 2.7119313496589843, 55984.48781078743),\n",
       " ('System', 2.4826533662432397, 56075.30025633276),\n",
       " ('System', 3.3251725674988877, 56129.548452324634),\n",
       " ('System', 1.7056648697236736, 56210.59616906966),\n",
       " ('System', 0.7684849227990893, 56473.23937127181),\n",
       " ('System', 0.7579055350432633, 57086.40871022392),\n",
       " ('System', 1.5412453501034848, 57190.420519303996),\n",
       " ('System', 1.2763000811489253, 57227.296334770734),\n",
       " ('System', 1.266377702498222, 57233.95307430595),\n",
       " ('System', 0.03540773886400506, 57364.16195627142),\n",
       " ('System', 0.22712290828962023, 57381.276429613485),\n",
       " ('System', 1.8039061527563813, 57404.475993755696),\n",
       " ('System', 2.2882803228722293, 57438.650485173996),\n",
       " ('System', 6.363826900429006, 57498.12644876493),\n",
       " ('System', 0.5704906303414549, 57522.802433792676),\n",
       " ('System', 1.1070022204017247, 57523.982367400065),\n",
       " ('System', 2.1460221549176164, 57761.764846105965),\n",
       " ('System', 1.0287271885678382, 57798.267164964156),\n",
       " ('System', 0.49851603052623705, 58007.63264964956),\n",
       " ('System', 0.5277838540538148, 58010.7836563445),\n",
       " ('System', 0.468493362771769, 58025.44368209058),\n",
       " ('System', 1.7797482770152069, 58030.235862864),\n",
       " ('System', 0.7938336621374567, 58115.70539100823),\n",
       " ('System', 1.8874878130705361, 58118.94140752176),\n",
       " ('System', 0.2523748070256068, 58175.92102810313),\n",
       " ('System', 0.6350907033579065, 58479.3583835675),\n",
       " ('System', 0.7329834127715573, 58588.27828997183),\n",
       " ('System', 1.4234017607439267, 58623.542091465795),\n",
       " ('System', 0.8263772186156753, 58653.997595642264),\n",
       " ('System', 0.4402042589744905, 58667.31794944602),\n",
       " ('System', 2.4412624310199846, 58668.32297483374),\n",
       " ('System', 0.8991565146158756, 58844),\n",
       " ('System', 8.076547426488137, 59376.11057875756),\n",
       " ('System', 1.1059766739969987, 59516.87342725313),\n",
       " ('System', 3.755286522961108, 59534.5591504498),\n",
       " ('System', 0.9613093585580643, 59653.91595823118),\n",
       " ('System', 1.8100132182818311, 59675.495439001395),\n",
       " ('System', 2.3008513977306304, 59682.12025075022),\n",
       " ('System', 0.7640097810431038, 59690.97603400633),\n",
       " ('System', 0.9505420782537711, 59712.20084178009),\n",
       " ('System', 2.563753049847715, 59754.39223400002),\n",
       " ('System', 0.36124077144139155, 59834.85434161756),\n",
       " ('System', 1.1015511260660602, 59848.458039882105),\n",
       " ('System', 2.64167775322248, 59859.583511623896),\n",
       " ('System', 6.024318978933052, 59872.8954076614),\n",
       " ('System', 0.12489671931150499, 60000),\n",
       " ('System', 0.8300556651121948, 60135.94711362168),\n",
       " ('System', 3.3719853114322973, 60138.9518036732),\n",
       " ('System', 1.4610707727707262, 60189.85607646834),\n",
       " ('System', 1.9065294284144403, 60378.992880034864),\n",
       " ('System', 1.7617844899077137, 60420.74458066928),\n",
       " ('System', 1.655560471581311, 60498.113849327165),\n",
       " ('System', 2.1916847309483285, 60505.69194503265),\n",
       " ('System', 1.5087259542995897, 60745.25411070445),\n",
       " ('System', 7.959484238290527, 61162.892562415596),\n",
       " ('System', 1.302379087180509, 61183.43263502149),\n",
       " ('System', 5.8774185976916655, 61196.096544282074),\n",
       " ('System', 2.4576979805362176, 61202.67017968794),\n",
       " ('System', 5.434795444087954, 61232.523520001756),\n",
       " ('System', 0.04635263243018257, 61238.5171015342),\n",
       " ('System', 3.5037735510257617, 61246.5780803258),\n",
       " ('System', 1.741242031834897, 61322.27681847732),\n",
       " ('System', 0.0708547793080919, 61356.9867946424),\n",
       " ('System', 0.7422776381978711, 61380),\n",
       " ('System', 1.508926917537799, 61430.85055729108),\n",
       " ('System', 0.443532111728421, 61467.732273876114),\n",
       " ('System', 3.254061018344051, 61631.79739022696),\n",
       " ('System', 0.8025902036587227, 61903.25596098127),\n",
       " ('System', 1.8615255473252985, 61914.94732503809),\n",
       " ('System', 0.5127995125940192, 62018.15979039393),\n",
       " ('System', 1.043862410642116, 62025.834880675124),\n",
       " ('System', 1.548621166028687, 62309.8211271952),\n",
       " ('System', 0.06533771928933527, 62312.954490610406),\n",
       " ('System', 1.137617887281374, 62368.14437958779),\n",
       " ('System', 3.7275333295609796, 62682.16059010985),\n",
       " ('System', 7.319425638774148, 62699.34086714541),\n",
       " ('System', 1.9492741061627623, 63099.06503861794),\n",
       " ('System', 0.5448222987189253, 63129.86058165411),\n",
       " ('System', 3.9357702778784676, 63132.36641910213),\n",
       " ('System', 0.4181983644810919, 63163.86720208704),\n",
       " ('System', 1.484971373425396, 63224.1640008587),\n",
       " ('System', 2.833241627170877, 63255.20102000611),\n",
       " ('System', 7.267384652629199, 63315.662778227765),\n",
       " ('System', 4.431513141321788, 63394.48032986839),\n",
       " ('System', 0.3019377204085438, 63593.07460984838),\n",
       " ('System', 0.33314389569300107, 63603.881505864425),\n",
       " ('System', 0.8944497961519041, 63653.82730960206),\n",
       " ('System', 3.4428768657498634, 63682.86563677186),\n",
       " ('System', 2.230036352272934, 63695.256634825004),\n",
       " ('System', 1.995520793128945, 63887.64808237513),\n",
       " ('System', 1.5573877557921856, 63921.58783071472),\n",
       " ('System', 0.8201123129658356, 64038.5759870359),\n",
       " ('System', 0.3986425480091137, 64149.369944080725),\n",
       " ('System', 0.07476860566749662, 64155.63599096949),\n",
       " ('System', 0.3977206290997457, 64164.04636161616),\n",
       " ('System', 10.209325165668089, 64451.05605454037),\n",
       " ('System', 0.3530865912226314, 64461.884610994566),\n",
       " ('System', 2.4573147506709754, 64552.31456500105),\n",
       " ('System', 2.5763155795849784, 64620.96221032794),\n",
       " ('System', 0.33090980092603833, 64655.498725897734),\n",
       " ('System', 1.1690635517420023, 64691.97018648042),\n",
       " ('System', 2.068295703751002, 65013.21029412476),\n",
       " ('System', 0.6369254459328029, 65021.03597881887),\n",
       " ('System', 3.430868613864212, 65046.028695885834),\n",
       " ('System', 1.4151804707580866, 65239.95792351154),\n",
       " ('System', 1.4678325855110121, 65285.70679244376),\n",
       " ('System', 1.8915732162624996, 65289.03601923976),\n",
       " ('System', 0.5169635788663755, 65480.97792261904),\n",
       " ('System', 0.9400699881302723, 65643.56779469189),\n",
       " ('System', 3.321854789451888, 65672.22651829333),\n",
       " ('System', 0.10361548078717021, 65829.03327944783),\n",
       " ('System', 7.868711857419084, 65834.93929680102),\n",
       " ('System', 2.981959476036439, 66112.52382800211),\n",
       " ('System', 4.977228429820498, 66118.56803145944),\n",
       " ('System', 1.8963275533782944, 66278.35069820793),\n",
       " ('System', 0.026896471874280615, 66293.91906829733),\n",
       " ('System', 0.3988445064088838, 66302.0494515898),\n",
       " ('System', 0.1834939263695917, 66321.29308173215),\n",
       " ('System', 2.1951176671576134, 66446.9115006542),\n",
       " ('System', 1.124758336413916, 66759.74595339187),\n",
       " ('System', 4.422759160146343, 66776.70356042021),\n",
       " ('System', 5.296950609539621, 66783.28360096578),\n",
       " ('System', 5.735251422782123, 66789.86624049357),\n",
       " ('System', 0.34880132423241533, 66869.27803567499),\n",
       " ('System', 0.7631774701867332, 67560.53093304082),\n",
       " ('System', 2.0440150323382844, 67831.58204478475),\n",
       " ('System', 1.6176254773150387, 68170.54502918085),\n",
       " ('System', 0.08874211209248428, 68180.59811624384),\n",
       " ('System', 2.5058269265872593, 68677.8011497927),\n",
       " ('System', 0.9401792349968375, 68696.1622358217),\n",
       " ('System', 0.1689363763505136, 68697.22115930305),\n",
       " ('System', 9.958682279772034, 68712.80102136022),\n",
       " ('System', 3.0270996556531258, 68798.53985821319),\n",
       " ('System', 0.549783740721583, 68945.3559232087),\n",
       " ('System', 3.140077548423431, 69044.18077937867),\n",
       " ('System', 0.5848328085233804, 69063.27159451738),\n",
       " ('System', 0.2252005074032064, 69233.62756338273),\n",
       " ('System', 0.735094216167475, 69262.66335773376),\n",
       " ('System', 9.409976244579203, 69320.54854475427),\n",
       " ('System', 4.905797994891813, 69398.59366263528),\n",
       " ('System', 0.7343071739552065, 69404.6743535954),\n",
       " ('System', 0.8371192873857054, 69408.99494681157),\n",
       " ('System', 6.377720050263165, 69519.02962044805),\n",
       " ('System', 4.21277697257029, 69594.89424890642),\n",
       " ('System', 8.926965358033653, 69972.66325488979),\n",
       " ('System', 0.05771223919296102, 70503.30058240447),\n",
       " ('System', 1.388883100719125, 70580.66300475666),\n",
       " ('System', 0.2906747706425586, 70968.99531984406),\n",
       " ('System', 4.732395606075881, 70973.06591733923),\n",
       " ('System', 2.030688319918884, 70981.42629080515),\n",
       " ('System', 1.5080034685398525, 71043.72859168518),\n",
       " ('System', 0.5413485516146574, 71100),\n",
       " ('System', 0.06143094651631259, 71124.35315146661),\n",
       " ('System', 1.6297992685393063, 71296.0740851162),\n",
       " ('System', 0.34776007239201007, 71357.78449756313),\n",
       " ('System', 2.7492983867831717, 71870.3139434418),\n",
       " ('System', 0.4806849290224475, 71881.13912149398),\n",
       " ('System', 1.8934183025029698, 71906.46149133878),\n",
       " ('System', 1.2767845970137375, 71924.12693700592),\n",
       " ('System', 1.1552212132144044, 72004.45790665974),\n",
       " ('System', 0.4460962634939652, 72028.94557964131),\n",
       " ('System', 4.478773296927859, 72069.63847804254),\n",
       " ('System', 4.356625205809967, 72095.72212361387),\n",
       " ('System', 3.4610515711839196, 72397.42748026893),\n",
       " ('System', 1.9093374434033632, 72402.2652920402),\n",
       " ('System', 2.1607466667539743, 72440.47203970644),\n",
       " ('System', 0.7750743217724375, 72545.86249179184),\n",
       " ('System', 3.712686663787522, 72557.91663475857),\n",
       " ('System', 1.0389053413078175, 72573.4871728959),\n",
       " ('System', 2.947999210046627, 72645.26731762203),\n",
       " ('System', 3.1915719718247955, 72651.16958920655),\n",
       " ('System', 0.6618674118333978, 72654.87530195361),\n",
       " ('System', 7.355442798737485, 72774.95743870213),\n",
       " ('System', 0.9455067612815258, 73245.83028276535),\n",
       " ('System', 0.883220610897177, 73252.35694516652),\n",
       " ('System', 2.614801985043841, 73273.2802626761),\n",
       " ('System', 3.7331797578699453, 73386.72125512914),\n",
       " ('System', 3.2064249385178614, 73504.42390001925),\n",
       " ('System', 1.8282460410063617, 73637.92196837296),\n",
       " ('System', 1.6624307161376584, 73679.85607966097),\n",
       " ('System', 5.222397364242373, 73794.2929066702),\n",
       " ('System', 6.094018654970674, 74062.31491517283),\n",
       " ('System', 0.7956340101830951, 74094.8567846251),\n",
       " ('System', 4.072630199626721, 74110.15984918637),\n",
       " ('System', 8.665337909520344, 74170.85413898845),\n",
       " ('System', 2.5292662770987655, 74195.84213774439),\n",
       " ('System', 1.4858814964519667, 74229.99220273472),\n",
       " ('System', 1.7814881529703, 74306.81842330244),\n",
       " ('System', 1.4169318957657304, 74357.23366447772),\n",
       " ('System', 0.2433754759564273, 74363.02960122237),\n",
       " ('System', 0.8531933517161086, 74381.12104033481),\n",
       " ('System', 1.4560404768561852, 74651.51467286731),\n",
       " ('System', 4.285933085137944, 74715.47264557377),\n",
       " ('System', 1.8918370171018017, 74853.34703163274),\n",
       " ('System', 3.085205536032082, 74868.43497085411),\n",
       " ('System', 1.1659446455381666, 75209.03859924142),\n",
       " ('System', 1.2781559288218916, 75210.92224351257),\n",
       " ('System', 0.891278398088367, 75272.0531125173),\n",
       " ('System', 0.3483161825162865, 75355.32981813498),\n",
       " ('System', 1.3950028446318554, 75433.2608790761),\n",
       " ('System', 1.628475309304049, 75484.49429667857),\n",
       " ('System', 2.7394093764529375, 75508.31843782609),\n",
       " ('System', 2.1128741295659523, 75533.34381486653),\n",
       " ('System', 1.017296970365204, 75567.32016837134),\n",
       " ('System', 0.8615558838966314, 75568.7869461256),\n",
       " ('System', 0.5584568613725552, 76063.44174239639),\n",
       " ('System', 1.2971539665770415, 76096.36807793476),\n",
       " ('System', 1.6525174211740068, 76100.15783190794),\n",
       " ('System', 2.9325771037248054, 76257.13409924497),\n",
       " ('System', 1.7235546177239132, 76362.51681454407),\n",
       " ('System', 0.36953728274764275, 76416.6732165417),\n",
       " ('System', 3.019815208129061, 76623.76217614369),\n",
       " ('System', 1.55302092024617, 76692.09345257269),\n",
       " ('System', 1.6656782648163508, 76711.4861959804),\n",
       " ('System', 3.122622794728746, 76749.54484850359),\n",
       " ('System', 1.8180651633685287, 76777.61545269606),\n",
       " ('System', 4.041377554982967, 76780.76435543994),\n",
       " ('System', 0.23673192582198568, 76853.47621341421),\n",
       " ('System', 3.103286543239624, 77077),\n",
       " ('System', 1.3961771172277002, 77207.64394529564),\n",
       " ('System', 1.230656633683659, 77250.9797251526),\n",
       " ('System', 1.6908898568240098, 77495.74020276933),\n",
       " ('System', 3.495110778003053, 77503.35886951255),\n",
       " ('System', 0.4116112577554483, 77596.68119527031),\n",
       " ('System', 0.5404463552316121, 77653.84294105199),\n",
       " ('System', 1.467382945293234, 77796.97258143811),\n",
       " ('System', 0.8027283162047513, 77860.0209193377),\n",
       " ('System', 3.6520442413732987, 77895.8444176952),\n",
       " ('System', 2.2985487383063044, 77919.92162648124),\n",
       " ('System', 2.6836352111290553, 77930.50217882513),\n",
       " ('System', 1.4464892375343357, 78192.61331803803),\n",
       " ('System', 1.4116329450064604, 78215.8327681998),\n",
       " ('System', 0.8304218460706002, 78336.20244118197),\n",
       " ('System', 1.5184126864512395, 78423),\n",
       " ('System', 3.04841662434463, 78480),\n",
       " ('System', 4.229630067722909, 78728.40820578858),\n",
       " ('System', 1.0213386819578372, 78913.88503710662),\n",
       " ('System', 2.5488726448883345, 78930.33565354286),\n",
       " ('System', 0.9658141235688499, 78986.32942849997),\n",
       " ('System', 1.1437389848301505, 79043.03380435318),\n",
       " ('System', 0.4028893257742695, 79060.71096995391),\n",
       " ('System', 0.0802224053895941, 79063.90831774005),\n",
       " ('System', 0.31245510745979677, 79074.93782880544),\n",
       " ('System', 1.189133348228088, 79384.14654887936),\n",
       " ('System', 4.542724778277892, 79395.84497761865),\n",
       " ('System', 0.5548546112706901, 79419.28306040593),\n",
       " ('System', 0.1792920643289722, 79481.00797872584),\n",
       " ('System', 0.004301515519494704, 79519.16083512011),\n",
       " ('System', 2.184347330977593, 79528.54008461647),\n",
       " ('System', 2.3761659104794135, 79809.80235460613),\n",
       " ('System', 5.670444864653498, 80149),\n",
       " ('System', 3.2604965210933443, 80325.39727458567),\n",
       " ('System', 0.34615697559541675, 80519.00923703799),\n",
       " ('System', 1.8143656851708225, 80549.59170840876),\n",
       " ('System', 1.5801055537290192, 80551.7794512838),\n",
       " ('System', 0.5564504814939415, 80589.39308160385),\n",
       " ('System', 3.210805781573798, 80620.38566939683),\n",
       " ('System', 0.7293405791653063, 80632.48710332852),\n",
       " ('System', 2.240710220749403, 80634.43912140407),\n",
       " ('System', 1.496439735716324, 80714.08046910846),\n",
       " ('System', 0.5276614810494149, 80717.12252003641),\n",
       " ('System', 4.300248732161629, 81372),\n",
       " ('System', 0.7703194500142246, 81425.17159603644),\n",
       " ('System', 3.9076281370076105, 81528.39312234886),\n",
       " ('System', 3.3961469158741195, 81546.28818552529),\n",
       " ('System', 2.494690797589369, 81564.07458191353),\n",
       " ('System', 2.0063250806096566, 81665.4668311611),\n",
       " ('System', 2.424059395987285, 81683.9297758781),\n",
       " ('System', 1.9858025162148534, 81749.84080268671),\n",
       " ('System', 4.818388807844472, 81765.4691026763),\n",
       " ('System', 0.34270454591615745, 82001.42054301662),\n",
       " ('System', 9.813276944327038, 82065.50288320605),\n",
       " ('System', 3.9979949608364307, 82155.72396158213),\n",
       " ('System', 2.8683807014827853, 82264.07176691842),\n",
       " ('System', 0.9458420889016915, 82479.56359797968),\n",
       " ('System', 7.214775170780282, 82510.49905191532),\n",
       " ('System', 4.960551671307211, 82523.20824381114),\n",
       " ('System', 2.4574644512067283, 82692.58760822292),\n",
       " ('System', 0.5606219803873621, 83911.46606324072),\n",
       " ('System', 0.3031115141989987, 83937.4925497522),\n",
       " ('System', 1.1201819346708537, 83950.13164279089),\n",
       " ('System', 3.8378355034360894, 83991.63439833262),\n",
       " ('System', 0.1122021215939844, 84081.09590698009),\n",
       " ('System', 2.8208009377448744, 84169.25664990561),\n",
       " ('System', 0.8928358598930347, 84200.7761015581),\n",
       " ('System', 2.1085550454203243, 84278.66336243328),\n",
       " ('System', 2.480120043768036, 84341.4752716157),\n",
       " ('System', 0.10818622847688401, 84406.48157016344),\n",
       " ('System', 2.7510289794912457, 84538.23278117881),\n",
       " ('System', 0.6198513069892194, 84605.4312485857),\n",
       " ('System', 4.984940313255184, 84670.60068408257),\n",
       " ('System', 2.059502765893954, 84912.83135441622),\n",
       " ('System', 0.5231656849431469, 84926.62888662763),\n",
       " ('System', 1.5308713112927905, 84932.69582254109),\n",
       " ('System', 2.899110617621816, 84973.50882923594),\n",
       " ('System', 3.0420312967116736, 85193.21408942342),\n",
       " ('System', 1.1885746581927508, 85240.05013010249),\n",
       " ('System', 1.516555010579562, 85268.86615237861),\n",
       " ('System', 0.15942129343399472, 85297.99721842576),\n",
       " ('System', 1.163703739265321, 85303.56851198678),\n",
       " ('System', 0.07890311067222595, 85320.39135746572),\n",
       " ('System', 0.3055315239805331, 85432.71021513823),\n",
       " ('System', 2.8465977615568154, 85617.48619964573),\n",
       " ('System', 0.42397587464354053, 85983.10180595548),\n",
       " ('System', 1.4510398408330862, 85984.61518179503),\n",
       " ('System', 0.7374285874815028, 86104.25246973248),\n",
       " ('System', 2.2705800966592853, 86292.81475708143),\n",
       " ('System', 0.6382272941653044, 87033.36644809924),\n",
       " ('System', 9.85817904082935, 87116.83355338396),\n",
       " ('System', 4.43497696824554, 87135.38503158015),\n",
       " ('System', 5.8129917928533255, 87235.80917709385),\n",
       " ('System', 1.1548319643752885, 87571.78775956777),\n",
       " ('System', 1.0814738694210746, 87792.49958855408),\n",
       " ('System', 2.356111149566506, 88005.58573312774),\n",
       " ('System', 0.4401294172675085, 88019.14273736041),\n",
       " ('System', 1.1016847489930772, 88093.2011335801),\n",
       " ('System', 0.37723353367278073, 88169),\n",
       " ('Process Starved', 1, 88170),\n",
       " ('System', 0.49949661870719775, 88313.14680184476),\n",
       " ('System', 3.8226592069389977, 88450),\n",
       " ('System', 3.520158004773835, 88584.12892852955),\n",
       " ('System', 0.36382976811541745, 88598.49894682258),\n",
       " ('System', 0.575605564625333, 88605.04416603505),\n",
       " ('System', 0.7131248576510639, 88733.22481855661),\n",
       " ('System', 0.5884725075307279, 88812.14581718984),\n",
       " ('System', 4.095514523424888, 88972.38584743474),\n",
       " ('System', 0.005586389667227839, 89152.07769778922),\n",
       " ('System', 0.9029160657370263, 89256.64798037148),\n",
       " ('System', 0.6909752447648596, 89287.57840601586),\n",
       " ('System', 0.11969205684511469, 89292.64496258776),\n",
       " ('System', 1.4098084508897601, 89315.45861275228),\n",
       " ('System', 2.2442663303781933, 89810.04880909658),\n",
       " ('System', 0.8203694419549377, 89822.66101715746),\n",
       " ('System', 0.49749801716970876, 89825.16330583909),\n",
       " ('System', 0.17176605825622693, 90276.84413090817),\n",
       " ('System', 0.5124014223462562, 90469.84872114213),\n",
       " ('System', 0.680832062564566, 90619.83297823134),\n",
       " ('System', 2.657604824501658, 90702.92520843723),\n",
       " ('System', 7.843980146640393, 90754.15998227715),\n",
       " ('System', 2.073932555740562, 90812.35699633295),\n",
       " ('System', 0.022815306274038313, 90855.9574419594),\n",
       " ('System', 2.6469751427899184, 90948.88271095612),\n",
       " ('System', 0.5052648200855815, 91168.32366835866),\n",
       " ('System', 0.3694191163016127, 91169.8209635511),\n",
       " ('System', 0.06502715559234298, 91312.42411479735),\n",
       " ('System', 3.717363390040478, 91504.92284510599),\n",
       " ('System', 0.34463184312881984, 91694.59063351784),\n",
       " ('System', 7.457907995196175, 91701.29883346183),\n",
       " ('System', 0.6193939432272036, 91736.4429499812),\n",
       " ('System', 4.090599443227033, 91738.9733738616),\n",
       " ('System', 0.3592591645793524, 91892.33753413067),\n",
       " ('System', 1.698917751930234, 91904.484100589),\n",
       " ('System', 2.4306903663524, 91911.21474249875),\n",
       " ('System', 1.164621623149173, 92004.21747941492),\n",
       " ('System', 0.5370577969495571, 92022.48642427669),\n",
       " ('System', 2.5976135948139305, 92025.56156708847),\n",
       " ('System', 1.058382933566939, 92071.25977046487),\n",
       " ('System', 0.1426452456595277, 92073.45764382202),\n",
       " ('System', 1.6346561118804483, 92079.76827274638),\n",
       " ('System', 1.3791382636353897, 92120.40154869382),\n",
       " ('System', 0.43012791289511537, 92362.30785532654),\n",
       " ('System', 1.5703238477303179, 92440.93578855495),\n",
       " ('System', 1.4458294088764494, 92638.54628593149),\n",
       " ('System', 4.672051522356598, 92695.75569596687),\n",
       " ('System', 1.9174710600648308, 92717.04437633224),\n",
       " ('System', 0.2653658731066155, 92841.80198458205),\n",
       " ('System', 3.340757609801023, 93028.7491764059),\n",
       " ('System', 3.8069122078622954, 93044.38682776515),\n",
       " ('System', 0.08186573384640547, 93225.1436637152),\n",
       " ('System', 5.783141919437101, 93288.70968924894),\n",
       " ('System', 0.4870512273028402, 93302.33732408109),\n",
       " ('System', 0.848939276366526, 93314.59088899259),\n",
       " ('System', 0.38717312335864307, 93325.77370790893),\n",
       " ('System', 3.364451283542472, 93368.38282650048),\n",
       " ('System', 0.534833221263423, 93736),\n",
       " ('System', 4.524666429709497, 93741.68914607585),\n",
       " ('System', 4.302438070766574, 93780),\n",
       " ('System', 1.400260490203505, 93925.09891756644),\n",
       " ('System', 0.8754748680744959, 93999.763185142),\n",
       " ('System', 2.605495009783198, 94226.05609571449),\n",
       " ('System', 1.123195820674335, 94239.91720348946),\n",
       " ('System', 0.5962848508749519, 94559.35614342723),\n",
       " ('System', 6.627970098062345, 94636.26074821163),\n",
       " ('System', 0.9476830440351577, 94670.7103476398),\n",
       " ('System', 4.140062122305774, 94681.37862884681),\n",
       " ('System', 1.7983833762442127, 94705.98881302672),\n",
       " ('System', 5.454759757758745, 94719.94140806992),\n",
       " ('System', 0.5229349285377943, 94730.10422926614),\n",
       " ('System', 0.12071128029283182, 94783.070504351),\n",
       " ('System', 0.7497610877738627, 94836.31176078873),\n",
       " ('System', 0.4245129633243172, 94840.94821878798),\n",
       " ('System', 0.41683933811588664, 94842.85437782324),\n",
       " ('System', 0.3149101198780605, 94984.22569804626),\n",
       " ('System', 1.3863811859692001, 95012.57201409398),\n",
       " ('System', 4.695381059989513, 95198.09027682935),\n",
       " ('System', 1.2630428709433326, 95431.36455613098),\n",
       " ('System', 0.6721690711260283, 95540.33571036407),\n",
       " ('System', 3.908065607709499, 95558.45941682078),\n",
       " ('System', 4.243497253548143, 95646.19398865351),\n",
       " ('System', 0.1728149081015076, 95669.37160440197),\n",
       " ('System', 4.961378412012045, 95739.13997832309),\n",
       " ('System', 1.1730911159633515, 95745.1442958988),\n",
       " ('System', 0.16118200102484254, 95780.38099896404),\n",
       " ('System', 1.0697070477902673, 95781.47216061963),\n",
       " ('System', 2.5606326930213275, 95837.03689096941),\n",
       " ('System', 1.7387569035892323, 95873.48272172942),\n",
       " ('System', 0.5519412522117493, 95905.83113384122),\n",
       " ('System', 1.7418361125959125, 95941.64589611693),\n",
       " ('System', 1.7368451443959776, 95949.91127348332),\n",
       " ('System', 7.886418437954591, 96191.80608716763),\n",
       " ('System', 4.048345551596892, 96243.02431569228),\n",
       " ('System', 6.265564774907421, 96279.00242937112),\n",
       " ('System', 2.4964802185662274, 96351.94143251835),\n",
       " ('System', 2.1573431212121643, 96365.3767883823),\n",
       " ...]"
      ]
     },
     "execution_count": 523,
     "metadata": {},
     "output_type": "execute_result"
    }
   ],
   "source": [
    "case_packer_1.interruptions"
   ]
  },
  {
   "cell_type": "code",
   "execution_count": 524,
   "metadata": {},
   "outputs": [
    {
     "data": {
      "text/plain": [
       "604800"
      ]
     },
     "execution_count": 524,
     "metadata": {},
     "output_type": "execute_result"
    }
   ],
   "source": [
    "SIM_DURATION"
   ]
  },
  {
   "cell_type": "code",
   "execution_count": 525,
   "metadata": {},
   "outputs": [],
   "source": [
    "def interruption_translator(interruptions):\n",
    "    for interruption in interruptions:\n",
    "        print(f\"At {interruption[2]}, the line went down for {interruption[1]} due to {interruption[0]}\")"
   ]
  },
  {
   "cell_type": "code",
   "execution_count": 526,
   "metadata": {},
   "outputs": [],
   "source": [
    "interruption_summary = pd.DataFrame(case_packer_1.interruptions, columns=[\"Cause\", \"Duration\", \"Start_Time\"])"
   ]
  },
  {
   "cell_type": "code",
   "execution_count": 527,
   "metadata": {},
   "outputs": [
    {
     "data": {
      "text/html": [
       "<div>\n",
       "<style scoped>\n",
       "    .dataframe tbody tr th:only-of-type {\n",
       "        vertical-align: middle;\n",
       "    }\n",
       "\n",
       "    .dataframe tbody tr th {\n",
       "        vertical-align: top;\n",
       "    }\n",
       "\n",
       "    .dataframe thead th {\n",
       "        text-align: right;\n",
       "    }\n",
       "</style>\n",
       "<table border=\"1\" class=\"dataframe\">\n",
       "  <thead>\n",
       "    <tr style=\"text-align: right;\">\n",
       "      <th></th>\n",
       "      <th>Duration</th>\n",
       "    </tr>\n",
       "    <tr>\n",
       "      <th>Cause</th>\n",
       "      <th></th>\n",
       "    </tr>\n",
       "  </thead>\n",
       "  <tbody>\n",
       "    <tr>\n",
       "      <th>Process Starved</th>\n",
       "      <td>49</td>\n",
       "    </tr>\n",
       "    <tr>\n",
       "      <th>System</th>\n",
       "      <td>5535</td>\n",
       "    </tr>\n",
       "  </tbody>\n",
       "</table>\n",
       "</div>"
      ],
      "text/plain": [
       "                 Duration\n",
       "Cause                    \n",
       "Process Starved        49\n",
       "System               5535"
      ]
     },
     "execution_count": 527,
     "metadata": {},
     "output_type": "execute_result"
    }
   ],
   "source": [
    "interruption_summary.groupby(\"Cause\").count().sort_values(by=[\"Duration\"]).drop([\"Start_Time\"], axis=1)"
   ]
  },
  {
   "cell_type": "code",
   "execution_count": null,
   "metadata": {},
   "outputs": [
    {
     "data": {
      "text/html": [
       "<div>\n",
       "<style scoped>\n",
       "    .dataframe tbody tr th:only-of-type {\n",
       "        vertical-align: middle;\n",
       "    }\n",
       "\n",
       "    .dataframe tbody tr th {\n",
       "        vertical-align: top;\n",
       "    }\n",
       "\n",
       "    .dataframe thead th {\n",
       "        text-align: right;\n",
       "    }\n",
       "</style>\n",
       "<table border=\"1\" class=\"dataframe\">\n",
       "  <thead>\n",
       "    <tr style=\"text-align: right;\">\n",
       "      <th></th>\n",
       "      <th>Duration</th>\n",
       "    </tr>\n",
       "    <tr>\n",
       "      <th>Cause</th>\n",
       "      <th></th>\n",
       "    </tr>\n",
       "  </thead>\n",
       "  <tbody>\n",
       "    <tr>\n",
       "      <th>AIRVEYOR</th>\n",
       "      <td>1</td>\n",
       "    </tr>\n",
       "    <tr>\n",
       "      <th>TAG SPLICE KICKED OUT</th>\n",
       "      <td>1</td>\n",
       "    </tr>\n",
       "    <tr>\n",
       "      <th>PAPER</th>\n",
       "      <td>1</td>\n",
       "    </tr>\n",
       "    <tr>\n",
       "      <th>BAD FACTORY TAG SPLICE</th>\n",
       "      <td>2</td>\n",
       "    </tr>\n",
       "    <tr>\n",
       "      <th>SHINGLING</th>\n",
       "      <td>2</td>\n",
       "    </tr>\n",
       "    <tr>\n",
       "      <th>POWER OUTAGE</th>\n",
       "      <td>2</td>\n",
       "    </tr>\n",
       "    <tr>\n",
       "      <th>PHOTO EYE</th>\n",
       "      <td>2</td>\n",
       "    </tr>\n",
       "    <tr>\n",
       "      <th>MUTIPLE TAILS</th>\n",
       "      <td>2</td>\n",
       "    </tr>\n",
       "    <tr>\n",
       "      <th>CARTON FEEDER</th>\n",
       "      <td>3</td>\n",
       "    </tr>\n",
       "    <tr>\n",
       "      <th>CLEAN</th>\n",
       "      <td>3</td>\n",
       "    </tr>\n",
       "    <tr>\n",
       "      <th>RETIME LUG BELTS</th>\n",
       "      <td>3</td>\n",
       "    </tr>\n",
       "    <tr>\n",
       "      <th>LOOSE</th>\n",
       "      <td>3</td>\n",
       "    </tr>\n",
       "    <tr>\n",
       "      <th>TAGS DROPPING</th>\n",
       "      <td>4</td>\n",
       "    </tr>\n",
       "    <tr>\n",
       "      <th>VACUUM OUT DRUM</th>\n",
       "      <td>4</td>\n",
       "    </tr>\n",
       "    <tr>\n",
       "      <th>EXIT CONVEYOR JAM</th>\n",
       "      <td>4</td>\n",
       "    </tr>\n",
       "    <tr>\n",
       "      <th>JAM</th>\n",
       "      <td>5</td>\n",
       "    </tr>\n",
       "    <tr>\n",
       "      <th>GUNBELT</th>\n",
       "      <td>5</td>\n",
       "    </tr>\n",
       "    <tr>\n",
       "      <th>STRING BROKE</th>\n",
       "      <td>5</td>\n",
       "    </tr>\n",
       "    <tr>\n",
       "      <th>OVERHEAD SWEEP JAM</th>\n",
       "      <td>6</td>\n",
       "    </tr>\n",
       "    <tr>\n",
       "      <th>OTHER</th>\n",
       "      <td>6</td>\n",
       "    </tr>\n",
       "    <tr>\n",
       "      <th>THUMPER - MISPLACED BAG</th>\n",
       "      <td>7</td>\n",
       "    </tr>\n",
       "    <tr>\n",
       "      <th>FOIL</th>\n",
       "      <td>7</td>\n",
       "    </tr>\n",
       "    <tr>\n",
       "      <th>DAILY MAINTENANCE</th>\n",
       "      <td>8</td>\n",
       "    </tr>\n",
       "    <tr>\n",
       "      <th>SPLICE</th>\n",
       "      <td>24</td>\n",
       "    </tr>\n",
       "    <tr>\n",
       "      <th>Blocked</th>\n",
       "      <td>11516</td>\n",
       "    </tr>\n",
       "  </tbody>\n",
       "</table>\n",
       "</div>"
      ],
      "text/plain": [
       "                         Duration\n",
       "Cause                            \n",
       "AIRVEYOR                        1\n",
       "TAG SPLICE KICKED OUT           1\n",
       "PAPER                           1\n",
       "BAD FACTORY TAG SPLICE          2\n",
       "SHINGLING                       2\n",
       "POWER OUTAGE                    2\n",
       "PHOTO EYE                       2\n",
       "MUTIPLE TAILS                   2\n",
       "CARTON FEEDER                   3\n",
       "CLEAN                           3\n",
       "RETIME LUG BELTS                3\n",
       "LOOSE                           3\n",
       "TAGS DROPPING                   4\n",
       "VACUUM OUT DRUM                 4\n",
       "EXIT CONVEYOR JAM               4\n",
       "JAM                             5\n",
       "GUNBELT                         5\n",
       "STRING BROKE                    5\n",
       "OVERHEAD SWEEP JAM              6\n",
       "OTHER                           6\n",
       "THUMPER - MISPLACED BAG         7\n",
       "FOIL                            7\n",
       "DAILY MAINTENANCE               8\n",
       "SPLICE                         24\n",
       "Blocked                     11516"
      ]
     },
     "execution_count": 361,
     "metadata": {},
     "output_type": "execute_result"
    }
   ],
   "source": [
    "for cartoner in cartoners:\n",
    "    interruption_summary = pd.DataFrame(cartoner.interruptions, columns=[\"Cause\", \"Duration\", \"Start_Time\"])\n",
    "    interruption_summary.groupby(\"Cause\").count().sort_values(by=[\"Duration\"]).drop([\"Start_Time\"], axis=1)\n",
    "    break\n",
    "\n",
    "interruption_summary.groupby(\"Cause\").count().sort_values(by=[\"Duration\"]).drop([\"Start_Time\"], axis=1)\n"
   ]
  },
  {
   "cell_type": "code",
   "execution_count": null,
   "metadata": {},
   "outputs": [
    {
     "data": {
      "text/plain": [
       "[(1417298688.0, 'AIRVEYOR'),\n",
       " (2118.059814, 'BAD FACTORY TAG SPLICE'),\n",
       " (184043.5, 'CARTON FEEDER'),\n",
       " (387607.3438, 'CLEAN'),\n",
       " (3810.430908, 'DAILY MAINTENANCE'),\n",
       " (1402633.125, 'EXIT CONVEYOR JAM'),\n",
       " (104552.1875, 'FOIL'),\n",
       " (1752.635498, 'GUNBELT'),\n",
       " (718890.9375, 'JAM'),\n",
       " (1679779.5, 'LOOSE'),\n",
       " (1879.407837, 'MUTIPLE TAILS'),\n",
       " (13765.40625, 'OPERATOR ERROR'),\n",
       " (39115.94922, 'OTHER'),\n",
       " (449167.3438, 'OVERHEAD SWEEP JAM'),\n",
       " (4221.772949, 'PAPER'),\n",
       " (56687.58594, 'PHOTO EYE'),\n",
       " (174750.1563, 'POWER OUTAGE'),\n",
       " (181396.8906, 'RETIME LUG BELTS'),\n",
       " (837186688.0, 'SHINGLING'),\n",
       " (200.0, 'SPLICE'),\n",
       " (1383.849609, 'STRING BROKE'),\n",
       " (78672732160.0, 'TAG SPLICE KICKED OUT'),\n",
       " (137754.4063, 'TAGS DROPPING'),\n",
       " (54708.69922, 'THUMPER - MISPLACED BAG'),\n",
       " (1002372.625, 'VACUUM OUT DRUM')]"
      ]
     },
     "execution_count": 215,
     "metadata": {},
     "output_type": "execute_result"
    }
   ],
   "source": [
    "param1 = []\n",
    "for failure in failure_dictionary:\n",
    "    param1.append((failure_dictionary[failure][\"Param1 (UT)\"], failure))\n",
    "param1"
   ]
  },
  {
   "cell_type": "markdown",
   "metadata": {},
   "source": [
    "# Distributions"
   ]
  },
  {
   "cell_type": "code",
   "execution_count": null,
   "metadata": {},
   "outputs": [
    {
     "name": "stdout",
     "output_type": "stream",
     "text": [
      "Downtime: AIRVEYOR\n"
     ]
    },
    {
     "data": {
      "image/png": "[encoded data removed]",
      "text/plain": [
       "<Figure size 432x288 with 1 Axes>"
      ]
     },
     "metadata": {
      "needs_background": "light"
     },
     "output_type": "display_data"
    },
    {
     "name": "stdout",
     "output_type": "stream",
     "text": [
      "Uptime: AIRVEYOR\n"
     ]
    },
    {
     "data": {
      "image/png": "[encoded data removed]",
      "text/plain": [
       "<Figure size 432x288 with 1 Axes>"
      ]
     },
     "metadata": {
      "needs_background": "light"
     },
     "output_type": "display_data"
    },
    {
     "name": "stdout",
     "output_type": "stream",
     "text": [
      "Downtime: BAD FACTORY TAG SPLICE\n"
     ]
    },
    {
     "data": {
      "image/png": "[encoded data removed]",
      "text/plain": [
       "<Figure size 432x288 with 1 Axes>"
      ]
     },
     "metadata": {
      "needs_background": "light"
     },
     "output_type": "display_data"
    },
    {
     "name": "stdout",
     "output_type": "stream",
     "text": [
      "Uptime: BAD FACTORY TAG SPLICE\n"
     ]
    },
    {
     "data": {
      "image/png": "[encoded data removed]",
      "text/plain": [
       "<Figure size 432x288 with 1 Axes>"
      ]
     },
     "metadata": {
      "needs_background": "light"
     },
     "output_type": "display_data"
    },
    {
     "name": "stdout",
     "output_type": "stream",
     "text": [
      "Downtime: CARTON FEEDER\n"
     ]
    },
    {
     "data": {
      "image/png": "[encoded data removed]",
      "text/plain": [
       "<Figure size 432x288 with 1 Axes>"
      ]
     },
     "metadata": {
      "needs_background": "light"
     },
     "output_type": "display_data"
    },
    {
     "name": "stdout",
     "output_type": "stream",
     "text": [
      "Uptime: CARTON FEEDER\n"
     ]
    },
    {
     "data": {
      "image/png": "[encoded data removed]",
      "text/plain": [
       "<Figure size 432x288 with 1 Axes>"
      ]
     },
     "metadata": {
      "needs_background": "light"
     },
     "output_type": "display_data"
    },
    {
     "name": "stdout",
     "output_type": "stream",
     "text": [
      "Downtime: CLEAN\n"
     ]
    },
    {
     "data": {
      "image/png": "[encoded data removed]",
      "text/plain": [
       "<Figure size 432x288 with 1 Axes>"
      ]
     },
     "metadata": {
      "needs_background": "light"
     },
     "output_type": "display_data"
    },
    {
     "name": "stdout",
     "output_type": "stream",
     "text": [
      "Uptime: CLEAN\n"
     ]
    },
    {
     "data": {
      "image/png": "[encoded data removed]",
      "text/plain": [
       "<Figure size 432x288 with 1 Axes>"
      ]
     },
     "metadata": {
      "needs_background": "light"
     },
     "output_type": "display_data"
    },
    {
     "name": "stdout",
     "output_type": "stream",
     "text": [
      "Downtime: DAILY MAINTENANCE\n"
     ]
    },
    {
     "data": {
      "image/png": "[encoded data removed]",
      "text/plain": [
       "<Figure size 432x288 with 1 Axes>"
      ]
     },
     "metadata": {
      "needs_background": "light"
     },
     "output_type": "display_data"
    },
    {
     "name": "stdout",
     "output_type": "stream",
     "text": [
      "Uptime: DAILY MAINTENANCE\n"
     ]
    },
    {
     "data": {
      "image/png": "[encoded data removed]",
      "text/plain": [
       "<Figure size 432x288 with 1 Axes>"
      ]
     },
     "metadata": {
      "needs_background": "light"
     },
     "output_type": "display_data"
    },
    {
     "name": "stdout",
     "output_type": "stream",
     "text": [
      "Downtime: EXIT CONVEYOR JAM\n"
     ]
    },
    {
     "data": {
      "image/png": "[encoded data removed]",
      "text/plain": [
       "<Figure size 432x288 with 1 Axes>"
      ]
     },
     "metadata": {
      "needs_background": "light"
     },
     "output_type": "display_data"
    },
    {
     "name": "stdout",
     "output_type": "stream",
     "text": [
      "Uptime: EXIT CONVEYOR JAM\n"
     ]
    },
    {
     "data": {
      "image/png": "[encoded data removed]",
      "text/plain": [
       "<Figure size 432x288 with 1 Axes>"
      ]
     },
     "metadata": {
      "needs_background": "light"
     },
     "output_type": "display_data"
    },
    {
     "name": "stdout",
     "output_type": "stream",
     "text": [
      "Downtime: FOIL\n"
     ]
    },
    {
     "data": {
      "image/png": "[encoded data removed]",
      "text/plain": [
       "<Figure size 432x288 with 1 Axes>"
      ]
     },
     "metadata": {
      "needs_background": "light"
     },
     "output_type": "display_data"
    },
    {
     "name": "stdout",
     "output_type": "stream",
     "text": [
      "Uptime: FOIL\n"
     ]
    },
    {
     "data": {
      "image/png": "[encoded data removed]",
      "text/plain": [
       "<Figure size 432x288 with 1 Axes>"
      ]
     },
     "metadata": {
      "needs_background": "light"
     },
     "output_type": "display_data"
    },
    {
     "name": "stdout",
     "output_type": "stream",
     "text": [
      "Downtime: GUNBELT\n"
     ]
    },
    {
     "data": {
      "image/png": "[encoded data removed]",
      "text/plain": [
       "<Figure size 432x288 with 1 Axes>"
      ]
     },
     "metadata": {
      "needs_background": "light"
     },
     "output_type": "display_data"
    },
    {
     "name": "stdout",
     "output_type": "stream",
     "text": [
      "Uptime: GUNBELT\n"
     ]
    },
    {
     "data": {
      "image/png": "[encoded data removed]",
      "text/plain": [
       "<Figure size 432x288 with 1 Axes>"
      ]
     },
     "metadata": {
      "needs_background": "light"
     },
     "output_type": "display_data"
    },
    {
     "name": "stdout",
     "output_type": "stream",
     "text": [
      "Downtime: JAM\n"
     ]
    },
    {
     "data": {
      "image/png": "[encoded data removed]",
      "text/plain": [
       "<Figure size 432x288 with 1 Axes>"
      ]
     },
     "metadata": {
      "needs_background": "light"
     },
     "output_type": "display_data"
    },
    {
     "name": "stdout",
     "output_type": "stream",
     "text": [
      "Uptime: JAM\n"
     ]
    },
    {
     "data": {
      "image/png": "[encoded data removed]",
      "text/plain": [
       "<Figure size 432x288 with 1 Axes>"
      ]
     },
     "metadata": {
      "needs_background": "light"
     },
     "output_type": "display_data"
    },
    {
     "name": "stdout",
     "output_type": "stream",
     "text": [
      "Downtime: LOOSE\n"
     ]
    },
    {
     "data": {
      "image/png": "[encoded data removed]",
      "text/plain": [
       "<Figure size 432x288 with 1 Axes>"
      ]
     },
     "metadata": {
      "needs_background": "light"
     },
     "output_type": "display_data"
    },
    {
     "name": "stdout",
     "output_type": "stream",
     "text": [
      "Uptime: LOOSE\n"
     ]
    },
    {
     "data": {
      "image/png": "[encoded data removed]",
      "text/plain": [
       "<Figure size 432x288 with 1 Axes>"
      ]
     },
     "metadata": {
      "needs_background": "light"
     },
     "output_type": "display_data"
    },
    {
     "name": "stdout",
     "output_type": "stream",
     "text": [
      "Downtime: MUTIPLE TAILS\n"
     ]
    },
    {
     "data": {
      "image/png": "[encoded data removed]",
      "text/plain": [
       "<Figure size 432x288 with 1 Axes>"
      ]
     },
     "metadata": {
      "needs_background": "light"
     },
     "output_type": "display_data"
    },
    {
     "name": "stdout",
     "output_type": "stream",
     "text": [
      "Uptime: MUTIPLE TAILS\n"
     ]
    },
    {
     "data": {
      "image/png": "[encoded data removed]",
      "text/plain": [
       "<Figure size 432x288 with 1 Axes>"
      ]
     },
     "metadata": {
      "needs_background": "light"
     },
     "output_type": "display_data"
    },
    {
     "name": "stdout",
     "output_type": "stream",
     "text": [
      "Downtime: OPERATOR ERROR\n"
     ]
    },
    {
     "data": {
      "image/png": "[encoded data removed]",
      "text/plain": [
       "<Figure size 432x288 with 1 Axes>"
      ]
     },
     "metadata": {
      "needs_background": "light"
     },
     "output_type": "display_data"
    },
    {
     "name": "stdout",
     "output_type": "stream",
     "text": [
      "Uptime: OPERATOR ERROR\n"
     ]
    },
    {
     "data": {
      "image/png": "[encoded data removed]",
      "text/plain": [
       "<Figure size 432x288 with 1 Axes>"
      ]
     },
     "metadata": {
      "needs_background": "light"
     },
     "output_type": "display_data"
    },
    {
     "name": "stdout",
     "output_type": "stream",
     "text": [
      "Downtime: OTHER\n"
     ]
    },
    {
     "data": {
      "image/png": "[encoded data removed]",
      "text/plain": [
       "<Figure size 432x288 with 1 Axes>"
      ]
     },
     "metadata": {
      "needs_background": "light"
     },
     "output_type": "display_data"
    },
    {
     "name": "stdout",
     "output_type": "stream",
     "text": [
      "Uptime: OTHER\n"
     ]
    },
    {
     "data": {
      "image/png": "[encoded data removed]",
      "text/plain": [
       "<Figure size 432x288 with 1 Axes>"
      ]
     },
     "metadata": {
      "needs_background": "light"
     },
     "output_type": "display_data"
    },
    {
     "name": "stdout",
     "output_type": "stream",
     "text": [
      "Downtime: OVERHEAD SWEEP JAM\n"
     ]
    },
    {
     "data": {
      "image/png": "[encoded data removed]",
      "text/plain": [
       "<Figure size 432x288 with 1 Axes>"
      ]
     },
     "metadata": {
      "needs_background": "light"
     },
     "output_type": "display_data"
    },
    {
     "name": "stdout",
     "output_type": "stream",
     "text": [
      "Uptime: OVERHEAD SWEEP JAM\n"
     ]
    },
    {
     "data": {
      "image/png": "[encoded data removed]",
      "text/plain": [
       "<Figure size 432x288 with 1 Axes>"
      ]
     },
     "metadata": {
      "needs_background": "light"
     },
     "output_type": "display_data"
    },
    {
     "name": "stdout",
     "output_type": "stream",
     "text": [
      "Downtime: PAPER\n"
     ]
    },
    {
     "data": {
      "image/png": "[encoded data removed]",
      "text/plain": [
       "<Figure size 432x288 with 1 Axes>"
      ]
     },
     "metadata": {
      "needs_background": "light"
     },
     "output_type": "display_data"
    },
    {
     "name": "stdout",
     "output_type": "stream",
     "text": [
      "Uptime: PAPER\n"
     ]
    },
    {
     "data": {
      "image/png": "[encoded data removed]",
      "text/plain": [
       "<Figure size 432x288 with 1 Axes>"
      ]
     },
     "metadata": {
      "needs_background": "light"
     },
     "output_type": "display_data"
    },
    {
     "name": "stdout",
     "output_type": "stream",
     "text": [
      "Downtime: PHOTO EYE\n"
     ]
    },
    {
     "data": {
      "image/png": "[encoded data removed]",
      "text/plain": [
       "<Figure size 432x288 with 1 Axes>"
      ]
     },
     "metadata": {
      "needs_background": "light"
     },
     "output_type": "display_data"
    },
    {
     "name": "stdout",
     "output_type": "stream",
     "text": [
      "Uptime: PHOTO EYE\n"
     ]
    },
    {
     "data": {
      "image/png": "[encoded data removed]",
      "text/plain": [
       "<Figure size 432x288 with 1 Axes>"
      ]
     },
     "metadata": {
      "needs_background": "light"
     },
     "output_type": "display_data"
    },
    {
     "name": "stdout",
     "output_type": "stream",
     "text": [
      "Downtime: POWER OUTAGE\n"
     ]
    },
    {
     "data": {
      "image/png": "[encoded data removed]",
      "text/plain": [
       "<Figure size 432x288 with 1 Axes>"
      ]
     },
     "metadata": {
      "needs_background": "light"
     },
     "output_type": "display_data"
    },
    {
     "name": "stdout",
     "output_type": "stream",
     "text": [
      "Uptime: POWER OUTAGE\n"
     ]
    },
    {
     "data": {
      "image/png": "[encoded data removed]",
      "text/plain": [
       "<Figure size 432x288 with 1 Axes>"
      ]
     },
     "metadata": {
      "needs_background": "light"
     },
     "output_type": "display_data"
    },
    {
     "name": "stdout",
     "output_type": "stream",
     "text": [
      "Downtime: RETIME LUG BELTS\n"
     ]
    },
    {
     "data": {
      "image/png": "[encoded data removed]",
      "text/plain": [
       "<Figure size 432x288 with 1 Axes>"
      ]
     },
     "metadata": {
      "needs_background": "light"
     },
     "output_type": "display_data"
    },
    {
     "name": "stdout",
     "output_type": "stream",
     "text": [
      "Uptime: RETIME LUG BELTS\n"
     ]
    },
    {
     "data": {
      "image/png": "[encoded data removed]",
      "text/plain": [
       "<Figure size 432x288 with 1 Axes>"
      ]
     },
     "metadata": {
      "needs_background": "light"
     },
     "output_type": "display_data"
    },
    {
     "name": "stdout",
     "output_type": "stream",
     "text": [
      "Downtime: SHINGLING\n"
     ]
    },
    {
     "data": {
      "image/png": "[encoded data removed]",
      "text/plain": [
       "<Figure size 432x288 with 1 Axes>"
      ]
     },
     "metadata": {
      "needs_background": "light"
     },
     "output_type": "display_data"
    },
    {
     "name": "stdout",
     "output_type": "stream",
     "text": [
      "Uptime: SHINGLING\n"
     ]
    },
    {
     "data": {
      "image/png": "[encoded data removed]",
      "text/plain": [
       "<Figure size 432x288 with 1 Axes>"
      ]
     },
     "metadata": {
      "needs_background": "light"
     },
     "output_type": "display_data"
    },
    {
     "name": "stdout",
     "output_type": "stream",
     "text": [
      "Downtime: SPLICE\n"
     ]
    },
    {
     "data": {
      "image/png": "[encoded data removed]",
      "text/plain": [
       "<Figure size 432x288 with 1 Axes>"
      ]
     },
     "metadata": {
      "needs_background": "light"
     },
     "output_type": "display_data"
    },
    {
     "name": "stdout",
     "output_type": "stream",
     "text": [
      "Uptime: SPLICE\n"
     ]
    },
    {
     "data": {
      "image/png": "[encoded data removed]",
      "text/plain": [
       "<Figure size 432x288 with 1 Axes>"
      ]
     },
     "metadata": {
      "needs_background": "light"
     },
     "output_type": "display_data"
    },
    {
     "name": "stdout",
     "output_type": "stream",
     "text": [
      "Downtime: STRING BROKE\n"
     ]
    },
    {
     "data": {
      "image/png": "[encoded data removed]",
      "text/plain": [
       "<Figure size 432x288 with 1 Axes>"
      ]
     },
     "metadata": {
      "needs_background": "light"
     },
     "output_type": "display_data"
    },
    {
     "name": "stdout",
     "output_type": "stream",
     "text": [
      "Uptime: STRING BROKE\n"
     ]
    },
    {
     "data": {
      "image/png": "[encoded data removed]",
      "text/plain": [
       "<Figure size 432x288 with 1 Axes>"
      ]
     },
     "metadata": {
      "needs_background": "light"
     },
     "output_type": "display_data"
    },
    {
     "name": "stdout",
     "output_type": "stream",
     "text": [
      "Downtime: TAG SPLICE KICKED OUT\n"
     ]
    },
    {
     "data": {
      "image/png": "[encoded data removed]",
      "text/plain": [
       "<Figure size 432x288 with 1 Axes>"
      ]
     },
     "metadata": {
      "needs_background": "light"
     },
     "output_type": "display_data"
    },
    {
     "name": "stdout",
     "output_type": "stream",
     "text": [
      "Uptime: TAG SPLICE KICKED OUT\n"
     ]
    },
    {
     "data": {
      "image/png": "[encoded data removed]",
      "text/plain": [
       "<Figure size 432x288 with 1 Axes>"
      ]
     },
     "metadata": {
      "needs_background": "light"
     },
     "output_type": "display_data"
    },
    {
     "name": "stdout",
     "output_type": "stream",
     "text": [
      "Downtime: TAGS DROPPING\n"
     ]
    },
    {
     "data": {
      "image/png": "[encoded data removed]",
      "text/plain": [
       "<Figure size 432x288 with 1 Axes>"
      ]
     },
     "metadata": {
      "needs_background": "light"
     },
     "output_type": "display_data"
    },
    {
     "name": "stdout",
     "output_type": "stream",
     "text": [
      "Uptime: TAGS DROPPING\n"
     ]
    },
    {
     "data": {
      "image/png": "[encoded data removed]",
      "text/plain": [
       "<Figure size 432x288 with 1 Axes>"
      ]
     },
     "metadata": {
      "needs_background": "light"
     },
     "output_type": "display_data"
    },
    {
     "name": "stdout",
     "output_type": "stream",
     "text": [
      "Downtime: THUMPER - MISPLACED BAG\n"
     ]
    },
    {
     "data": {
      "image/png": "[encoded data removed]",
      "text/plain": [
       "<Figure size 432x288 with 1 Axes>"
      ]
     },
     "metadata": {
      "needs_background": "light"
     },
     "output_type": "display_data"
    },
    {
     "name": "stdout",
     "output_type": "stream",
     "text": [
      "Uptime: THUMPER - MISPLACED BAG\n"
     ]
    },
    {
     "data": {
      "image/png": "[encoded data removed]",
      "text/plain": [
       "<Figure size 432x288 with 1 Axes>"
      ]
     },
     "metadata": {
      "needs_background": "light"
     },
     "output_type": "display_data"
    },
    {
     "name": "stdout",
     "output_type": "stream",
     "text": [
      "Downtime: VACUUM OUT DRUM\n"
     ]
    },
    {
     "data": {
      "image/png": "[encoded data removed]",
      "text/plain": [
       "<Figure size 432x288 with 1 Axes>"
      ]
     },
     "metadata": {
      "needs_background": "light"
     },
     "output_type": "display_data"
    },
    {
     "name": "stdout",
     "output_type": "stream",
     "text": [
      "Uptime: VACUUM OUT DRUM\n"
     ]
    },
    {
     "data": {
      "image/png": "[encoded data removed]",
      "text/plain": [
       "<Figure size 432x288 with 1 Axes>"
      ]
     },
     "metadata": {
      "needs_background": "light"
     },
     "output_type": "display_data"
    }
   ],
   "source": [
    "# store the random numbers in a list \n",
    "nums = [] \n",
    "for failure in failure_dictionary:\n",
    "    for i in range(1000): \n",
    "        temp = calculate_time(failure_dictionary[failure][\"Distrib (SDT)\"], \n",
    "                                failure_dictionary[failure][\"Param1 (SDT)\"], \n",
    "                                failure_dictionary[failure][\"Param2 (SDT)\"])\n",
    "        while temp > 1000:\n",
    "            temp = calculate_time(failure_dictionary[failure][\"Distrib (SDT)\"], \n",
    "                                failure_dictionary[failure][\"Param1 (SDT)\"], \n",
    "                                failure_dictionary[failure][\"Param2 (SDT)\"])\n",
    "        nums.append(temp)\n",
    "\n",
    "    # plotting a graph \n",
    "    print(\"Downtime: \" + failure)\n",
    "    plt.hist(nums, bins = 200) \n",
    "    plt.show()\n",
    "\n",
    "    nums = []\n",
    "    for i in range(1000): \n",
    "        temp = calculate_time(failure_dictionary[failure][\"Distrib (UT)\"], \n",
    "                                failure_dictionary[failure][\"Param1 (UT)\"], \n",
    "                                failure_dictionary[failure][\"Param2 (UT)\"])\n",
    "        while temp > 1000:\n",
    "            temp = calculate_time(failure_dictionary[failure][\"Distrib (SDT)\"], \n",
    "                                failure_dictionary[failure][\"Param1 (SDT)\"], \n",
    "                                failure_dictionary[failure][\"Param2 (SDT)\"])\n",
    "        nums.append(temp)\n",
    "\n",
    "    # plotting a graph \n",
    "    print(\"Uptime: \" + failure)\n",
    "    plt.hist(nums, bins = 500) \n",
    "    plt.show()\n",
    "    nums = []\n"
   ]
  },
  {
   "cell_type": "markdown",
   "metadata": {},
   "source": [
    "# Data Cleaning"
   ]
  },
  {
   "cell_type": "code",
   "execution_count": 812,
   "metadata": {},
   "outputs": [
    {
     "name": "stderr",
     "output_type": "stream",
     "text": [
      "c:\\Users\\limpert.ll\\AppData\\Local\\Programs\\Python\\Python38\\lib\\site-packages\\openpyxl\\worksheet\\header_footer.py:48: UserWarning: Cannot parse header or footer so it will be ignored\n",
      "  warn(\"\"\"Cannot parse header or footer so it will be ignored\"\"\")\n"
     ]
    }
   ],
   "source": [
    "df = pd.read_excel(\"RT Simulation Data Cleaning And Mapping - Cartoner raw data.xlsx\", sheet_name=0)"
   ]
  },
  {
   "cell_type": "code",
   "execution_count": 813,
   "metadata": {},
   "outputs": [],
   "source": [
    "df = df.rename(columns={'DURATION' : 'DT'})\n",
    "df['DT'] = df['DT'].astype('float')"
   ]
  },
  {
   "cell_type": "code",
   "execution_count": 814,
   "metadata": {},
   "outputs": [],
   "source": [
    "df['START_TIME'] = pd.to_datetime(df['START_TIME'])"
   ]
  },
  {
   "cell_type": "code",
   "execution_count": 815,
   "metadata": {},
   "outputs": [],
   "source": [
    "df = df.sort_values(by='START_TIME', ascending=True)"
   ]
  },
  {
   "cell_type": "code",
   "execution_count": 817,
   "metadata": {},
   "outputs": [],
   "source": [
    "df['UT'] = df['START_TIME'].diff().apply(lambda x: x/np.timedelta64(1, 'm')).fillna(-1)"
   ]
  },
  {
   "cell_type": "code",
   "execution_count": 818,
   "metadata": {},
   "outputs": [
    {
     "data": {
      "text/html": [
       "<div>\n",
       "<style scoped>\n",
       "    .dataframe tbody tr th:only-of-type {\n",
       "        vertical-align: middle;\n",
       "    }\n",
       "\n",
       "    .dataframe tbody tr th {\n",
       "        vertical-align: top;\n",
       "    }\n",
       "\n",
       "    .dataframe thead th {\n",
       "        text-align: right;\n",
       "    }\n",
       "</style>\n",
       "<table border=\"1\" class=\"dataframe\">\n",
       "  <thead>\n",
       "    <tr style=\"text-align: right;\">\n",
       "      <th></th>\n",
       "      <th>START_TIME</th>\n",
       "      <th>AUTO_CAUSE</th>\n",
       "      <th>LINE #</th>\n",
       "      <th>DT</th>\n",
       "      <th>REASON</th>\n",
       "      <th>CAUSE</th>\n",
       "      <th>OPERATOR_COMMENT</th>\n",
       "      <th>UT</th>\n",
       "    </tr>\n",
       "  </thead>\n",
       "  <tbody>\n",
       "    <tr>\n",
       "      <th>0</th>\n",
       "      <td>1998-03-01 15:00:01</td>\n",
       "      <td>IN-PHASE STOP BUTTON @ SWING A</td>\n",
       "      <td>PACKING L1</td>\n",
       "      <td>479.95</td>\n",
       "      <td>Inventory Ctrl</td>\n",
       "      <td>Scheduled Down</td>\n",
       "      <td></td>\n",
       "      <td>-1.000000</td>\n",
       "    </tr>\n",
       "    <tr>\n",
       "      <th>1</th>\n",
       "      <td>1998-03-01 22:59:58</td>\n",
       "      <td>IN-PHASE STOP BUTTON @ SWING A</td>\n",
       "      <td>PACKING L1</td>\n",
       "      <td>26.41</td>\n",
       "      <td>Inventory Ctrl</td>\n",
       "      <td>Team Meeting</td>\n",
       "      <td></td>\n",
       "      <td>479.950000</td>\n",
       "    </tr>\n",
       "    <tr>\n",
       "      <th>2</th>\n",
       "      <td>1998-03-01 23:30:57</td>\n",
       "      <td>IN-PHASE STOP BUTTON @ SWING A</td>\n",
       "      <td>PACKING L1</td>\n",
       "      <td>7.48</td>\n",
       "      <td>Clean Up</td>\n",
       "      <td>Clean Cross Seal</td>\n",
       "      <td>CLEANED-LUBED-X-SEAL ROLLS-CONT SEAL ROLLS</td>\n",
       "      <td>30.983333</td>\n",
       "    </tr>\n",
       "    <tr>\n",
       "      <th>3</th>\n",
       "      <td>1998-03-01 23:39:01</td>\n",
       "      <td>CYCLE STOP @ PANELVIEW</td>\n",
       "      <td>PACKING L1</td>\n",
       "      <td>1.35</td>\n",
       "      <td>Clean Up</td>\n",
       "      <td>Cleaned A Backslide</td>\n",
       "      <td>BACKSLIDE SWA RETURNING SLOWLY</td>\n",
       "      <td>8.066667</td>\n",
       "    </tr>\n",
       "    <tr>\n",
       "      <th>4</th>\n",
       "      <td>1998-03-01 23:41:03</td>\n",
       "      <td>CYCLE STOP @ PANELVIEW</td>\n",
       "      <td>PACKING L1</td>\n",
       "      <td>1.12</td>\n",
       "      <td>Clean Up</td>\n",
       "      <td>Cleaned A Backslide</td>\n",
       "      <td>BACKSLIDE SWA RETURNING SLOWLY</td>\n",
       "      <td>2.033333</td>\n",
       "    </tr>\n",
       "    <tr>\n",
       "      <th>...</th>\n",
       "      <td>...</td>\n",
       "      <td>...</td>\n",
       "      <td>...</td>\n",
       "      <td>...</td>\n",
       "      <td>...</td>\n",
       "      <td>...</td>\n",
       "      <td>...</td>\n",
       "      <td>...</td>\n",
       "    </tr>\n",
       "    <tr>\n",
       "      <th>524</th>\n",
       "      <td>1998-04-01 04:11:52</td>\n",
       "      <td>Unknown/Unassigned Cause</td>\n",
       "      <td>PACKING L1</td>\n",
       "      <td>1.80</td>\n",
       "      <td>Operational</td>\n",
       "      <td>Gunbelt - Drop</td>\n",
       "      <td></td>\n",
       "      <td>3.300000</td>\n",
       "    </tr>\n",
       "    <tr>\n",
       "      <th>525</th>\n",
       "      <td>1998-04-01 04:13:40</td>\n",
       "      <td>Unknown/Unassigned Cause</td>\n",
       "      <td>PACKING L1</td>\n",
       "      <td>1.40</td>\n",
       "      <td>Operational</td>\n",
       "      <td>Tag Cut Walked Off</td>\n",
       "      <td></td>\n",
       "      <td>1.800000</td>\n",
       "    </tr>\n",
       "    <tr>\n",
       "      <th>526</th>\n",
       "      <td>1998-04-01 04:15:04</td>\n",
       "      <td>Unknown/Unassigned Cause</td>\n",
       "      <td>PACKING L1</td>\n",
       "      <td>1.77</td>\n",
       "      <td>Operational</td>\n",
       "      <td>Gunbelt - Drop</td>\n",
       "      <td>Turned o-ring around</td>\n",
       "      <td>1.400000</td>\n",
       "    </tr>\n",
       "    <tr>\n",
       "      <th>527</th>\n",
       "      <td>1998-04-01 04:16:56</td>\n",
       "      <td>LANGEN CLUTCH OVERLOAD</td>\n",
       "      <td>PACKING L1</td>\n",
       "      <td>3.15</td>\n",
       "      <td>Operational</td>\n",
       "      <td>Jam at Sample Station</td>\n",
       "      <td>Foil web walked out REAL UGLY!!!!!!!!!!</td>\n",
       "      <td>1.866667</td>\n",
       "    </tr>\n",
       "    <tr>\n",
       "      <th>528</th>\n",
       "      <td>1998-04-01 06:08:01</td>\n",
       "      <td>IN-PHASE STOP BUTTON @ SWING A</td>\n",
       "      <td>PACKING L1</td>\n",
       "      <td>0.73</td>\n",
       "      <td>Operational</td>\n",
       "      <td>Splice - Paper</td>\n",
       "      <td></td>\n",
       "      <td>111.083333</td>\n",
       "    </tr>\n",
       "  </tbody>\n",
       "</table>\n",
       "<p>529 rows × 8 columns</p>\n",
       "</div>"
      ],
      "text/plain": [
       "             START_TIME                      AUTO_CAUSE      LINE #      DT  \\\n",
       "0   1998-03-01 15:00:01  IN-PHASE STOP BUTTON @ SWING A  PACKING L1  479.95   \n",
       "1   1998-03-01 22:59:58  IN-PHASE STOP BUTTON @ SWING A  PACKING L1   26.41   \n",
       "2   1998-03-01 23:30:57  IN-PHASE STOP BUTTON @ SWING A  PACKING L1    7.48   \n",
       "3   1998-03-01 23:39:01          CYCLE STOP @ PANELVIEW  PACKING L1    1.35   \n",
       "4   1998-03-01 23:41:03          CYCLE STOP @ PANELVIEW  PACKING L1    1.12   \n",
       "..                  ...                             ...         ...     ...   \n",
       "524 1998-04-01 04:11:52        Unknown/Unassigned Cause  PACKING L1    1.80   \n",
       "525 1998-04-01 04:13:40        Unknown/Unassigned Cause  PACKING L1    1.40   \n",
       "526 1998-04-01 04:15:04        Unknown/Unassigned Cause  PACKING L1    1.77   \n",
       "527 1998-04-01 04:16:56          LANGEN CLUTCH OVERLOAD  PACKING L1    3.15   \n",
       "528 1998-04-01 06:08:01  IN-PHASE STOP BUTTON @ SWING A  PACKING L1    0.73   \n",
       "\n",
       "             REASON                  CAUSE  \\\n",
       "0    Inventory Ctrl         Scheduled Down   \n",
       "1    Inventory Ctrl           Team Meeting   \n",
       "2          Clean Up       Clean Cross Seal   \n",
       "3          Clean Up    Cleaned A Backslide   \n",
       "4          Clean Up    Cleaned A Backslide   \n",
       "..              ...                    ...   \n",
       "524     Operational         Gunbelt - Drop   \n",
       "525     Operational     Tag Cut Walked Off   \n",
       "526     Operational         Gunbelt - Drop   \n",
       "527     Operational  Jam at Sample Station   \n",
       "528     Operational         Splice - Paper   \n",
       "\n",
       "                               OPERATOR_COMMENT          UT  \n",
       "0                                                 -1.000000  \n",
       "1                                                479.950000  \n",
       "2    CLEANED-LUBED-X-SEAL ROLLS-CONT SEAL ROLLS   30.983333  \n",
       "3                BACKSLIDE SWA RETURNING SLOWLY    8.066667  \n",
       "4                BACKSLIDE SWA RETURNING SLOWLY    2.033333  \n",
       "..                                          ...         ...  \n",
       "524                                                3.300000  \n",
       "525                                                1.800000  \n",
       "526                        Turned o-ring around    1.400000  \n",
       "527     Foil web walked out REAL UGLY!!!!!!!!!!    1.866667  \n",
       "528                                              111.083333  \n",
       "\n",
       "[529 rows x 8 columns]"
      ]
     },
     "execution_count": 818,
     "metadata": {},
     "output_type": "execute_result"
    }
   ],
   "source": [
    "df"
   ]
  },
  {
   "cell_type": "code",
   "execution_count": 819,
   "metadata": {},
   "outputs": [],
   "source": [
    "df['UT'] = df['UT'] - df['DT'].shift(1)"
   ]
  },
  {
   "cell_type": "code",
   "execution_count": 820,
   "metadata": {},
   "outputs": [],
   "source": [
    "df['UT'] = df['UT'].fillna(-1)"
   ]
  },
  {
   "cell_type": "code",
   "execution_count": 821,
   "metadata": {},
   "outputs": [],
   "source": [
    "cols = ['START_TIME', 'UT', 'DT', 'CAUSE', 'AUTO_CAUSE', 'LINE #', 'REASON']"
   ]
  },
  {
   "cell_type": "code",
   "execution_count": 822,
   "metadata": {},
   "outputs": [],
   "source": [
    "df = df[cols]"
   ]
  },
  {
   "cell_type": "code",
   "execution_count": 860,
   "metadata": {},
   "outputs": [],
   "source": [
    "UT_dropped = df.loc[(df['UT'] < 0)]"
   ]
  },
  {
   "cell_type": "code",
   "execution_count": 861,
   "metadata": {},
   "outputs": [],
   "source": [
    "df2 = df.loc[(df['UT'] >= 0)]"
   ]
  },
  {
   "cell_type": "code",
   "execution_count": 862,
   "metadata": {},
   "outputs": [
    {
     "data": {
      "text/html": [
       "<div>\n",
       "<style scoped>\n",
       "    .dataframe tbody tr th:only-of-type {\n",
       "        vertical-align: middle;\n",
       "    }\n",
       "\n",
       "    .dataframe tbody tr th {\n",
       "        vertical-align: top;\n",
       "    }\n",
       "\n",
       "    .dataframe thead th {\n",
       "        text-align: right;\n",
       "    }\n",
       "</style>\n",
       "<table border=\"1\" class=\"dataframe\">\n",
       "  <thead>\n",
       "    <tr style=\"text-align: right;\">\n",
       "      <th></th>\n",
       "      <th>START_TIME</th>\n",
       "      <th>UT</th>\n",
       "      <th>DT</th>\n",
       "      <th>CAUSE</th>\n",
       "      <th>AUTO_CAUSE</th>\n",
       "      <th>LINE #</th>\n",
       "      <th>REASON</th>\n",
       "    </tr>\n",
       "  </thead>\n",
       "  <tbody>\n",
       "    <tr>\n",
       "      <th>0</th>\n",
       "      <td>1998-03-01 15:00:01</td>\n",
       "      <td>-1.000000</td>\n",
       "      <td>479.95</td>\n",
       "      <td>Scheduled Down</td>\n",
       "      <td>IN-PHASE STOP BUTTON @ SWING A</td>\n",
       "      <td>PACKING L1</td>\n",
       "      <td>Inventory Ctrl</td>\n",
       "    </tr>\n",
       "    <tr>\n",
       "      <th>150</th>\n",
       "      <td>1998-03-07 23:00:02</td>\n",
       "      <td>-0.003333</td>\n",
       "      <td>479.94</td>\n",
       "      <td>Scheduled Down</td>\n",
       "      <td>IN-PHASE STOP BUTTON @ SWING A</td>\n",
       "      <td>PACKING L1</td>\n",
       "      <td>Inventory Ctrl</td>\n",
       "    </tr>\n",
       "    <tr>\n",
       "      <th>213</th>\n",
       "      <td>1998-03-12 06:59:56</td>\n",
       "      <td>-0.006667</td>\n",
       "      <td>18.80</td>\n",
       "      <td>Team Meeting</td>\n",
       "      <td>IN-PHASE STOP BUTTON @ SWING A</td>\n",
       "      <td>PACKING L1</td>\n",
       "      <td>Inventory Ctrl</td>\n",
       "    </tr>\n",
       "    <tr>\n",
       "      <th>246</th>\n",
       "      <td>1998-03-14 06:59:56</td>\n",
       "      <td>-0.010000</td>\n",
       "      <td>480.07</td>\n",
       "      <td>Scheduled Down</td>\n",
       "      <td>IN-PHASE STOP BUTTON @ SWING A</td>\n",
       "      <td>PACKING L1</td>\n",
       "      <td>Inventory Ctrl</td>\n",
       "    </tr>\n",
       "    <tr>\n",
       "      <th>248</th>\n",
       "      <td>1998-03-14 22:59:58</td>\n",
       "      <td>-0.006667</td>\n",
       "      <td>479.98</td>\n",
       "      <td>Scheduled Down</td>\n",
       "      <td>IN-PHASE STOP BUTTON @ SWING A</td>\n",
       "      <td>PACKING L1</td>\n",
       "      <td>Inventory Ctrl</td>\n",
       "    </tr>\n",
       "    <tr>\n",
       "      <th>251</th>\n",
       "      <td>1998-03-15 22:59:58</td>\n",
       "      <td>-0.003333</td>\n",
       "      <td>12.46</td>\n",
       "      <td>Team Meeting</td>\n",
       "      <td>IN-PHASE STOP BUTTON @ SWING A</td>\n",
       "      <td>PACKING L1</td>\n",
       "      <td>Inventory Ctrl</td>\n",
       "    </tr>\n",
       "    <tr>\n",
       "      <th>328</th>\n",
       "      <td>1998-03-21 06:59:56</td>\n",
       "      <td>-0.003333</td>\n",
       "      <td>480.09</td>\n",
       "      <td>Scheduled Down</td>\n",
       "      <td>IN-PHASE STOP BUTTON @ SWING A</td>\n",
       "      <td>PACKING L1</td>\n",
       "      <td>Inventory Ctrl</td>\n",
       "    </tr>\n",
       "    <tr>\n",
       "      <th>356</th>\n",
       "      <td>1998-03-23 23:41:17</td>\n",
       "      <td>-0.013333</td>\n",
       "      <td>8.70</td>\n",
       "      <td>Daily Maintenance</td>\n",
       "      <td>Unknown/Unassigned Cause</td>\n",
       "      <td>PACKING L1</td>\n",
       "      <td>Maintenance</td>\n",
       "    </tr>\n",
       "    <tr>\n",
       "      <th>458</th>\n",
       "      <td>1998-03-26 15:00:02</td>\n",
       "      <td>-0.006667</td>\n",
       "      <td>479.95</td>\n",
       "      <td>Scheduled Down</td>\n",
       "      <td>LANGEN CLUTCH OVERLOAD</td>\n",
       "      <td>PACKING L1</td>\n",
       "      <td>Inventory Ctrl</td>\n",
       "    </tr>\n",
       "    <tr>\n",
       "      <th>462</th>\n",
       "      <td>1998-03-27 22:59:57</td>\n",
       "      <td>-0.013333</td>\n",
       "      <td>479.98</td>\n",
       "      <td>Scheduled Down</td>\n",
       "      <td>LANGEN CLUTCH OVERLOAD</td>\n",
       "      <td>PACKING L1</td>\n",
       "      <td>Inventory Ctrl</td>\n",
       "    </tr>\n",
       "    <tr>\n",
       "      <th>467</th>\n",
       "      <td>1998-03-29 15:00:03</td>\n",
       "      <td>-0.010000</td>\n",
       "      <td>479.99</td>\n",
       "      <td>Scheduled Down</td>\n",
       "      <td>LANGEN CLUTCH OVERLOAD</td>\n",
       "      <td>PACKING L1</td>\n",
       "      <td>Inventory Ctrl</td>\n",
       "    </tr>\n",
       "  </tbody>\n",
       "</table>\n",
       "</div>"
      ],
      "text/plain": [
       "             START_TIME        UT      DT              CAUSE  \\\n",
       "0   1998-03-01 15:00:01 -1.000000  479.95     Scheduled Down   \n",
       "150 1998-03-07 23:00:02 -0.003333  479.94     Scheduled Down   \n",
       "213 1998-03-12 06:59:56 -0.006667   18.80       Team Meeting   \n",
       "246 1998-03-14 06:59:56 -0.010000  480.07     Scheduled Down   \n",
       "248 1998-03-14 22:59:58 -0.006667  479.98     Scheduled Down   \n",
       "251 1998-03-15 22:59:58 -0.003333   12.46       Team Meeting   \n",
       "328 1998-03-21 06:59:56 -0.003333  480.09     Scheduled Down   \n",
       "356 1998-03-23 23:41:17 -0.013333    8.70  Daily Maintenance   \n",
       "458 1998-03-26 15:00:02 -0.006667  479.95     Scheduled Down   \n",
       "462 1998-03-27 22:59:57 -0.013333  479.98     Scheduled Down   \n",
       "467 1998-03-29 15:00:03 -0.010000  479.99     Scheduled Down   \n",
       "\n",
       "                         AUTO_CAUSE      LINE #          REASON  \n",
       "0    IN-PHASE STOP BUTTON @ SWING A  PACKING L1  Inventory Ctrl  \n",
       "150  IN-PHASE STOP BUTTON @ SWING A  PACKING L1  Inventory Ctrl  \n",
       "213  IN-PHASE STOP BUTTON @ SWING A  PACKING L1  Inventory Ctrl  \n",
       "246  IN-PHASE STOP BUTTON @ SWING A  PACKING L1  Inventory Ctrl  \n",
       "248  IN-PHASE STOP BUTTON @ SWING A  PACKING L1  Inventory Ctrl  \n",
       "251  IN-PHASE STOP BUTTON @ SWING A  PACKING L1  Inventory Ctrl  \n",
       "328  IN-PHASE STOP BUTTON @ SWING A  PACKING L1  Inventory Ctrl  \n",
       "356        Unknown/Unassigned Cause  PACKING L1     Maintenance  \n",
       "458          LANGEN CLUTCH OVERLOAD  PACKING L1  Inventory Ctrl  \n",
       "462          LANGEN CLUTCH OVERLOAD  PACKING L1  Inventory Ctrl  \n",
       "467          LANGEN CLUTCH OVERLOAD  PACKING L1  Inventory Ctrl  "
      ]
     },
     "execution_count": 862,
     "metadata": {},
     "output_type": "execute_result"
    }
   ],
   "source": [
    "UT_dropped"
   ]
  },
  {
   "cell_type": "code",
   "execution_count": 863,
   "metadata": {},
   "outputs": [],
   "source": [
    "DT_dropped = df2.loc[(df['DT'] < 0)]"
   ]
  },
  {
   "cell_type": "code",
   "execution_count": 864,
   "metadata": {},
   "outputs": [
    {
     "data": {
      "text/html": [
       "<div>\n",
       "<style scoped>\n",
       "    .dataframe tbody tr th:only-of-type {\n",
       "        vertical-align: middle;\n",
       "    }\n",
       "\n",
       "    .dataframe tbody tr th {\n",
       "        vertical-align: top;\n",
       "    }\n",
       "\n",
       "    .dataframe thead th {\n",
       "        text-align: right;\n",
       "    }\n",
       "</style>\n",
       "<table border=\"1\" class=\"dataframe\">\n",
       "  <thead>\n",
       "    <tr style=\"text-align: right;\">\n",
       "      <th></th>\n",
       "      <th>START_TIME</th>\n",
       "      <th>UT</th>\n",
       "      <th>DT</th>\n",
       "      <th>CAUSE</th>\n",
       "      <th>AUTO_CAUSE</th>\n",
       "      <th>LINE #</th>\n",
       "      <th>REASON</th>\n",
       "    </tr>\n",
       "  </thead>\n",
       "  <tbody>\n",
       "  </tbody>\n",
       "</table>\n",
       "</div>"
      ],
      "text/plain": [
       "Empty DataFrame\n",
       "Columns: [START_TIME, UT, DT, CAUSE, AUTO_CAUSE, LINE #, REASON]\n",
       "Index: []"
      ]
     },
     "execution_count": 864,
     "metadata": {},
     "output_type": "execute_result"
    }
   ],
   "source": [
    "DT_dropped"
   ]
  },
  {
   "cell_type": "code",
   "execution_count": 865,
   "metadata": {},
   "outputs": [],
   "source": [
    "df2 = df2.loc[(df['DT'] >= 0)]"
   ]
  },
  {
   "cell_type": "code",
   "execution_count": 866,
   "metadata": {},
   "outputs": [
    {
     "data": {
      "text/html": [
       "<div>\n",
       "<style scoped>\n",
       "    .dataframe tbody tr th:only-of-type {\n",
       "        vertical-align: middle;\n",
       "    }\n",
       "\n",
       "    .dataframe tbody tr th {\n",
       "        vertical-align: top;\n",
       "    }\n",
       "\n",
       "    .dataframe thead th {\n",
       "        text-align: right;\n",
       "    }\n",
       "</style>\n",
       "<table border=\"1\" class=\"dataframe\">\n",
       "  <thead>\n",
       "    <tr style=\"text-align: right;\">\n",
       "      <th></th>\n",
       "      <th>START_TIME</th>\n",
       "      <th>UT</th>\n",
       "      <th>DT</th>\n",
       "      <th>CAUSE</th>\n",
       "      <th>AUTO_CAUSE</th>\n",
       "      <th>LINE #</th>\n",
       "      <th>REASON</th>\n",
       "    </tr>\n",
       "  </thead>\n",
       "  <tbody>\n",
       "    <tr>\n",
       "      <th>1</th>\n",
       "      <td>1998-03-01 22:59:58</td>\n",
       "      <td>0.000000</td>\n",
       "      <td>26.41</td>\n",
       "      <td>Team Meeting</td>\n",
       "      <td>IN-PHASE STOP BUTTON @ SWING A</td>\n",
       "      <td>PACKING L1</td>\n",
       "      <td>Inventory Ctrl</td>\n",
       "    </tr>\n",
       "    <tr>\n",
       "      <th>2</th>\n",
       "      <td>1998-03-01 23:30:57</td>\n",
       "      <td>4.573333</td>\n",
       "      <td>7.48</td>\n",
       "      <td>Clean Cross Seal</td>\n",
       "      <td>IN-PHASE STOP BUTTON @ SWING A</td>\n",
       "      <td>PACKING L1</td>\n",
       "      <td>Clean Up</td>\n",
       "    </tr>\n",
       "    <tr>\n",
       "      <th>3</th>\n",
       "      <td>1998-03-01 23:39:01</td>\n",
       "      <td>0.586667</td>\n",
       "      <td>1.35</td>\n",
       "      <td>Cleaned A Backslide</td>\n",
       "      <td>CYCLE STOP @ PANELVIEW</td>\n",
       "      <td>PACKING L1</td>\n",
       "      <td>Clean Up</td>\n",
       "    </tr>\n",
       "    <tr>\n",
       "      <th>4</th>\n",
       "      <td>1998-03-01 23:41:03</td>\n",
       "      <td>0.683333</td>\n",
       "      <td>1.12</td>\n",
       "      <td>Cleaned A Backslide</td>\n",
       "      <td>CYCLE STOP @ PANELVIEW</td>\n",
       "      <td>PACKING L1</td>\n",
       "      <td>Clean Up</td>\n",
       "    </tr>\n",
       "    <tr>\n",
       "      <th>5</th>\n",
       "      <td>1998-03-01 23:44:23</td>\n",
       "      <td>2.213333</td>\n",
       "      <td>3.11</td>\n",
       "      <td>Cleaned A Backslide</td>\n",
       "      <td>STOP BUTTON @ LANGEN GEAR SIDE</td>\n",
       "      <td>PACKING L1</td>\n",
       "      <td>Clean Up</td>\n",
       "    </tr>\n",
       "    <tr>\n",
       "      <th>...</th>\n",
       "      <td>...</td>\n",
       "      <td>...</td>\n",
       "      <td>...</td>\n",
       "      <td>...</td>\n",
       "      <td>...</td>\n",
       "      <td>...</td>\n",
       "      <td>...</td>\n",
       "    </tr>\n",
       "    <tr>\n",
       "      <th>524</th>\n",
       "      <td>1998-04-01 04:11:52</td>\n",
       "      <td>0.000000</td>\n",
       "      <td>1.80</td>\n",
       "      <td>Gunbelt - Drop</td>\n",
       "      <td>Unknown/Unassigned Cause</td>\n",
       "      <td>PACKING L1</td>\n",
       "      <td>Operational</td>\n",
       "    </tr>\n",
       "    <tr>\n",
       "      <th>525</th>\n",
       "      <td>1998-04-01 04:13:40</td>\n",
       "      <td>0.000000</td>\n",
       "      <td>1.40</td>\n",
       "      <td>Tag Cut Walked Off</td>\n",
       "      <td>Unknown/Unassigned Cause</td>\n",
       "      <td>PACKING L1</td>\n",
       "      <td>Operational</td>\n",
       "    </tr>\n",
       "    <tr>\n",
       "      <th>526</th>\n",
       "      <td>1998-04-01 04:15:04</td>\n",
       "      <td>0.000000</td>\n",
       "      <td>1.77</td>\n",
       "      <td>Gunbelt - Drop</td>\n",
       "      <td>Unknown/Unassigned Cause</td>\n",
       "      <td>PACKING L1</td>\n",
       "      <td>Operational</td>\n",
       "    </tr>\n",
       "    <tr>\n",
       "      <th>527</th>\n",
       "      <td>1998-04-01 04:16:56</td>\n",
       "      <td>0.096667</td>\n",
       "      <td>3.15</td>\n",
       "      <td>Jam at Sample Station</td>\n",
       "      <td>LANGEN CLUTCH OVERLOAD</td>\n",
       "      <td>PACKING L1</td>\n",
       "      <td>Operational</td>\n",
       "    </tr>\n",
       "    <tr>\n",
       "      <th>528</th>\n",
       "      <td>1998-04-01 06:08:01</td>\n",
       "      <td>107.933333</td>\n",
       "      <td>0.73</td>\n",
       "      <td>Splice - Paper</td>\n",
       "      <td>IN-PHASE STOP BUTTON @ SWING A</td>\n",
       "      <td>PACKING L1</td>\n",
       "      <td>Operational</td>\n",
       "    </tr>\n",
       "  </tbody>\n",
       "</table>\n",
       "<p>518 rows × 7 columns</p>\n",
       "</div>"
      ],
      "text/plain": [
       "             START_TIME          UT     DT                  CAUSE  \\\n",
       "1   1998-03-01 22:59:58    0.000000  26.41           Team Meeting   \n",
       "2   1998-03-01 23:30:57    4.573333   7.48       Clean Cross Seal   \n",
       "3   1998-03-01 23:39:01    0.586667   1.35    Cleaned A Backslide   \n",
       "4   1998-03-01 23:41:03    0.683333   1.12    Cleaned A Backslide   \n",
       "5   1998-03-01 23:44:23    2.213333   3.11    Cleaned A Backslide   \n",
       "..                  ...         ...    ...                    ...   \n",
       "524 1998-04-01 04:11:52    0.000000   1.80         Gunbelt - Drop   \n",
       "525 1998-04-01 04:13:40    0.000000   1.40     Tag Cut Walked Off   \n",
       "526 1998-04-01 04:15:04    0.000000   1.77         Gunbelt - Drop   \n",
       "527 1998-04-01 04:16:56    0.096667   3.15  Jam at Sample Station   \n",
       "528 1998-04-01 06:08:01  107.933333   0.73         Splice - Paper   \n",
       "\n",
       "                         AUTO_CAUSE      LINE #          REASON  \n",
       "1    IN-PHASE STOP BUTTON @ SWING A  PACKING L1  Inventory Ctrl  \n",
       "2    IN-PHASE STOP BUTTON @ SWING A  PACKING L1        Clean Up  \n",
       "3            CYCLE STOP @ PANELVIEW  PACKING L1        Clean Up  \n",
       "4            CYCLE STOP @ PANELVIEW  PACKING L1        Clean Up  \n",
       "5    STOP BUTTON @ LANGEN GEAR SIDE  PACKING L1        Clean Up  \n",
       "..                              ...         ...             ...  \n",
       "524        Unknown/Unassigned Cause  PACKING L1     Operational  \n",
       "525        Unknown/Unassigned Cause  PACKING L1     Operational  \n",
       "526        Unknown/Unassigned Cause  PACKING L1     Operational  \n",
       "527          LANGEN CLUTCH OVERLOAD  PACKING L1     Operational  \n",
       "528  IN-PHASE STOP BUTTON @ SWING A  PACKING L1     Operational  \n",
       "\n",
       "[518 rows x 7 columns]"
      ]
     },
     "execution_count": 866,
     "metadata": {},
     "output_type": "execute_result"
    }
   ],
   "source": [
    "df2"
   ]
  },
  {
   "cell_type": "code",
   "execution_count": 867,
   "metadata": {},
   "outputs": [
    {
     "data": {
      "text/html": [
       "<div>\n",
       "<style scoped>\n",
       "    .dataframe tbody tr th:only-of-type {\n",
       "        vertical-align: middle;\n",
       "    }\n",
       "\n",
       "    .dataframe tbody tr th {\n",
       "        vertical-align: top;\n",
       "    }\n",
       "\n",
       "    .dataframe thead th {\n",
       "        text-align: right;\n",
       "    }\n",
       "</style>\n",
       "<table border=\"1\" class=\"dataframe\">\n",
       "  <thead>\n",
       "    <tr style=\"text-align: right;\">\n",
       "      <th></th>\n",
       "      <th>START_TIME</th>\n",
       "      <th>UT</th>\n",
       "      <th>DT</th>\n",
       "      <th>CAUSE</th>\n",
       "      <th>AUTO_CAUSE</th>\n",
       "      <th>LINE #</th>\n",
       "      <th>REASON</th>\n",
       "      <th>Abnormal DT</th>\n",
       "    </tr>\n",
       "  </thead>\n",
       "  <tbody>\n",
       "    <tr>\n",
       "      <th>1</th>\n",
       "      <td>1998-03-01 22:59:58</td>\n",
       "      <td>0.000000</td>\n",
       "      <td>26.41</td>\n",
       "      <td>Team Meeting</td>\n",
       "      <td>IN-PHASE STOP BUTTON @ SWING A</td>\n",
       "      <td>PACKING L1</td>\n",
       "      <td>Inventory Ctrl</td>\n",
       "      <td>False</td>\n",
       "    </tr>\n",
       "    <tr>\n",
       "      <th>2</th>\n",
       "      <td>1998-03-01 23:30:57</td>\n",
       "      <td>4.573333</td>\n",
       "      <td>7.48</td>\n",
       "      <td>Clean Cross Seal</td>\n",
       "      <td>IN-PHASE STOP BUTTON @ SWING A</td>\n",
       "      <td>PACKING L1</td>\n",
       "      <td>Clean Up</td>\n",
       "      <td>False</td>\n",
       "    </tr>\n",
       "    <tr>\n",
       "      <th>3</th>\n",
       "      <td>1998-03-01 23:39:01</td>\n",
       "      <td>0.586667</td>\n",
       "      <td>1.35</td>\n",
       "      <td>Cleaned A Backslide</td>\n",
       "      <td>CYCLE STOP @ PANELVIEW</td>\n",
       "      <td>PACKING L1</td>\n",
       "      <td>Clean Up</td>\n",
       "      <td>False</td>\n",
       "    </tr>\n",
       "    <tr>\n",
       "      <th>4</th>\n",
       "      <td>1998-03-01 23:41:03</td>\n",
       "      <td>0.683333</td>\n",
       "      <td>1.12</td>\n",
       "      <td>Cleaned A Backslide</td>\n",
       "      <td>CYCLE STOP @ PANELVIEW</td>\n",
       "      <td>PACKING L1</td>\n",
       "      <td>Clean Up</td>\n",
       "      <td>False</td>\n",
       "    </tr>\n",
       "    <tr>\n",
       "      <th>5</th>\n",
       "      <td>1998-03-01 23:44:23</td>\n",
       "      <td>2.213333</td>\n",
       "      <td>3.11</td>\n",
       "      <td>Cleaned A Backslide</td>\n",
       "      <td>STOP BUTTON @ LANGEN GEAR SIDE</td>\n",
       "      <td>PACKING L1</td>\n",
       "      <td>Clean Up</td>\n",
       "      <td>False</td>\n",
       "    </tr>\n",
       "    <tr>\n",
       "      <th>...</th>\n",
       "      <td>...</td>\n",
       "      <td>...</td>\n",
       "      <td>...</td>\n",
       "      <td>...</td>\n",
       "      <td>...</td>\n",
       "      <td>...</td>\n",
       "      <td>...</td>\n",
       "      <td>...</td>\n",
       "    </tr>\n",
       "    <tr>\n",
       "      <th>524</th>\n",
       "      <td>1998-04-01 04:11:52</td>\n",
       "      <td>0.000000</td>\n",
       "      <td>1.80</td>\n",
       "      <td>Gunbelt - Drop</td>\n",
       "      <td>Unknown/Unassigned Cause</td>\n",
       "      <td>PACKING L1</td>\n",
       "      <td>Operational</td>\n",
       "      <td>False</td>\n",
       "    </tr>\n",
       "    <tr>\n",
       "      <th>525</th>\n",
       "      <td>1998-04-01 04:13:40</td>\n",
       "      <td>0.000000</td>\n",
       "      <td>1.40</td>\n",
       "      <td>Tag Cut Walked Off</td>\n",
       "      <td>Unknown/Unassigned Cause</td>\n",
       "      <td>PACKING L1</td>\n",
       "      <td>Operational</td>\n",
       "      <td>False</td>\n",
       "    </tr>\n",
       "    <tr>\n",
       "      <th>526</th>\n",
       "      <td>1998-04-01 04:15:04</td>\n",
       "      <td>0.000000</td>\n",
       "      <td>1.77</td>\n",
       "      <td>Gunbelt - Drop</td>\n",
       "      <td>Unknown/Unassigned Cause</td>\n",
       "      <td>PACKING L1</td>\n",
       "      <td>Operational</td>\n",
       "      <td>False</td>\n",
       "    </tr>\n",
       "    <tr>\n",
       "      <th>527</th>\n",
       "      <td>1998-04-01 04:16:56</td>\n",
       "      <td>0.096667</td>\n",
       "      <td>3.15</td>\n",
       "      <td>Jam at Sample Station</td>\n",
       "      <td>LANGEN CLUTCH OVERLOAD</td>\n",
       "      <td>PACKING L1</td>\n",
       "      <td>Operational</td>\n",
       "      <td>False</td>\n",
       "    </tr>\n",
       "    <tr>\n",
       "      <th>528</th>\n",
       "      <td>1998-04-01 06:08:01</td>\n",
       "      <td>107.933333</td>\n",
       "      <td>0.73</td>\n",
       "      <td>Splice - Paper</td>\n",
       "      <td>IN-PHASE STOP BUTTON @ SWING A</td>\n",
       "      <td>PACKING L1</td>\n",
       "      <td>Operational</td>\n",
       "      <td>False</td>\n",
       "    </tr>\n",
       "  </tbody>\n",
       "</table>\n",
       "<p>518 rows × 8 columns</p>\n",
       "</div>"
      ],
      "text/plain": [
       "             START_TIME          UT     DT                  CAUSE  \\\n",
       "1   1998-03-01 22:59:58    0.000000  26.41           Team Meeting   \n",
       "2   1998-03-01 23:30:57    4.573333   7.48       Clean Cross Seal   \n",
       "3   1998-03-01 23:39:01    0.586667   1.35    Cleaned A Backslide   \n",
       "4   1998-03-01 23:41:03    0.683333   1.12    Cleaned A Backslide   \n",
       "5   1998-03-01 23:44:23    2.213333   3.11    Cleaned A Backslide   \n",
       "..                  ...         ...    ...                    ...   \n",
       "524 1998-04-01 04:11:52    0.000000   1.80         Gunbelt - Drop   \n",
       "525 1998-04-01 04:13:40    0.000000   1.40     Tag Cut Walked Off   \n",
       "526 1998-04-01 04:15:04    0.000000   1.77         Gunbelt - Drop   \n",
       "527 1998-04-01 04:16:56    0.096667   3.15  Jam at Sample Station   \n",
       "528 1998-04-01 06:08:01  107.933333   0.73         Splice - Paper   \n",
       "\n",
       "                         AUTO_CAUSE      LINE #          REASON  Abnormal DT  \n",
       "1    IN-PHASE STOP BUTTON @ SWING A  PACKING L1  Inventory Ctrl        False  \n",
       "2    IN-PHASE STOP BUTTON @ SWING A  PACKING L1        Clean Up        False  \n",
       "3            CYCLE STOP @ PANELVIEW  PACKING L1        Clean Up        False  \n",
       "4            CYCLE STOP @ PANELVIEW  PACKING L1        Clean Up        False  \n",
       "5    STOP BUTTON @ LANGEN GEAR SIDE  PACKING L1        Clean Up        False  \n",
       "..                              ...         ...             ...          ...  \n",
       "524        Unknown/Unassigned Cause  PACKING L1     Operational        False  \n",
       "525        Unknown/Unassigned Cause  PACKING L1     Operational        False  \n",
       "526        Unknown/Unassigned Cause  PACKING L1     Operational        False  \n",
       "527          LANGEN CLUTCH OVERLOAD  PACKING L1     Operational        False  \n",
       "528  IN-PHASE STOP BUTTON @ SWING A  PACKING L1     Operational        False  \n",
       "\n",
       "[518 rows x 8 columns]"
      ]
     },
     "execution_count": 867,
     "metadata": {},
     "output_type": "execute_result"
    }
   ],
   "source": [
    "# Abnormal Value check Downtime\n",
    "for cause in df2['CAUSE'].unique():\n",
    "    mean = df2['DT'].loc[df2['CAUSE'] == cause].mean()\n",
    "    std = df2['DT'].loc[df2['CAUSE'] == cause].std()\n",
    "    df2['Abnormal DT'] = df2['DT'].apply(lambda x: x >= (mean + (2 * std)))\n",
    "    df2['Abnormal DT'] = df2['DT'].apply(lambda x: x <= (mean - (2 * std)))\n",
    "df2"
   ]
  },
  {
   "cell_type": "code",
   "execution_count": 868,
   "metadata": {},
   "outputs": [
    {
     "data": {
      "text/html": [
       "<div>\n",
       "<style scoped>\n",
       "    .dataframe tbody tr th:only-of-type {\n",
       "        vertical-align: middle;\n",
       "    }\n",
       "\n",
       "    .dataframe tbody tr th {\n",
       "        vertical-align: top;\n",
       "    }\n",
       "\n",
       "    .dataframe thead th {\n",
       "        text-align: right;\n",
       "    }\n",
       "</style>\n",
       "<table border=\"1\" class=\"dataframe\">\n",
       "  <thead>\n",
       "    <tr style=\"text-align: right;\">\n",
       "      <th></th>\n",
       "      <th>START_TIME</th>\n",
       "      <th>UT</th>\n",
       "      <th>DT</th>\n",
       "      <th>CAUSE</th>\n",
       "      <th>AUTO_CAUSE</th>\n",
       "      <th>LINE #</th>\n",
       "      <th>REASON</th>\n",
       "      <th>Abnormal DT</th>\n",
       "    </tr>\n",
       "  </thead>\n",
       "  <tbody>\n",
       "    <tr>\n",
       "      <th>1</th>\n",
       "      <td>1998-03-01 22:59:58</td>\n",
       "      <td>0.000000</td>\n",
       "      <td>26.41</td>\n",
       "      <td>Team Meeting</td>\n",
       "      <td>IN-PHASE STOP BUTTON @ SWING A</td>\n",
       "      <td>PACKING L1</td>\n",
       "      <td>Inventory Ctrl</td>\n",
       "      <td>False</td>\n",
       "    </tr>\n",
       "    <tr>\n",
       "      <th>2</th>\n",
       "      <td>1998-03-01 23:30:57</td>\n",
       "      <td>4.573333</td>\n",
       "      <td>7.48</td>\n",
       "      <td>Clean Cross Seal</td>\n",
       "      <td>IN-PHASE STOP BUTTON @ SWING A</td>\n",
       "      <td>PACKING L1</td>\n",
       "      <td>Clean Up</td>\n",
       "      <td>False</td>\n",
       "    </tr>\n",
       "    <tr>\n",
       "      <th>3</th>\n",
       "      <td>1998-03-01 23:39:01</td>\n",
       "      <td>0.586667</td>\n",
       "      <td>1.35</td>\n",
       "      <td>Cleaned A Backslide</td>\n",
       "      <td>CYCLE STOP @ PANELVIEW</td>\n",
       "      <td>PACKING L1</td>\n",
       "      <td>Clean Up</td>\n",
       "      <td>False</td>\n",
       "    </tr>\n",
       "    <tr>\n",
       "      <th>4</th>\n",
       "      <td>1998-03-01 23:41:03</td>\n",
       "      <td>0.683333</td>\n",
       "      <td>1.12</td>\n",
       "      <td>Cleaned A Backslide</td>\n",
       "      <td>CYCLE STOP @ PANELVIEW</td>\n",
       "      <td>PACKING L1</td>\n",
       "      <td>Clean Up</td>\n",
       "      <td>False</td>\n",
       "    </tr>\n",
       "    <tr>\n",
       "      <th>5</th>\n",
       "      <td>1998-03-01 23:44:23</td>\n",
       "      <td>2.213333</td>\n",
       "      <td>3.11</td>\n",
       "      <td>Cleaned A Backslide</td>\n",
       "      <td>STOP BUTTON @ LANGEN GEAR SIDE</td>\n",
       "      <td>PACKING L1</td>\n",
       "      <td>Clean Up</td>\n",
       "      <td>False</td>\n",
       "    </tr>\n",
       "    <tr>\n",
       "      <th>...</th>\n",
       "      <td>...</td>\n",
       "      <td>...</td>\n",
       "      <td>...</td>\n",
       "      <td>...</td>\n",
       "      <td>...</td>\n",
       "      <td>...</td>\n",
       "      <td>...</td>\n",
       "      <td>...</td>\n",
       "    </tr>\n",
       "    <tr>\n",
       "      <th>524</th>\n",
       "      <td>1998-04-01 04:11:52</td>\n",
       "      <td>0.000000</td>\n",
       "      <td>1.80</td>\n",
       "      <td>Gunbelt - Drop</td>\n",
       "      <td>Unknown/Unassigned Cause</td>\n",
       "      <td>PACKING L1</td>\n",
       "      <td>Operational</td>\n",
       "      <td>False</td>\n",
       "    </tr>\n",
       "    <tr>\n",
       "      <th>525</th>\n",
       "      <td>1998-04-01 04:13:40</td>\n",
       "      <td>0.000000</td>\n",
       "      <td>1.40</td>\n",
       "      <td>Tag Cut Walked Off</td>\n",
       "      <td>Unknown/Unassigned Cause</td>\n",
       "      <td>PACKING L1</td>\n",
       "      <td>Operational</td>\n",
       "      <td>False</td>\n",
       "    </tr>\n",
       "    <tr>\n",
       "      <th>526</th>\n",
       "      <td>1998-04-01 04:15:04</td>\n",
       "      <td>0.000000</td>\n",
       "      <td>1.77</td>\n",
       "      <td>Gunbelt - Drop</td>\n",
       "      <td>Unknown/Unassigned Cause</td>\n",
       "      <td>PACKING L1</td>\n",
       "      <td>Operational</td>\n",
       "      <td>False</td>\n",
       "    </tr>\n",
       "    <tr>\n",
       "      <th>527</th>\n",
       "      <td>1998-04-01 04:16:56</td>\n",
       "      <td>0.096667</td>\n",
       "      <td>3.15</td>\n",
       "      <td>Jam at Sample Station</td>\n",
       "      <td>LANGEN CLUTCH OVERLOAD</td>\n",
       "      <td>PACKING L1</td>\n",
       "      <td>Operational</td>\n",
       "      <td>False</td>\n",
       "    </tr>\n",
       "    <tr>\n",
       "      <th>528</th>\n",
       "      <td>1998-04-01 06:08:01</td>\n",
       "      <td>107.933333</td>\n",
       "      <td>0.73</td>\n",
       "      <td>Splice - Paper</td>\n",
       "      <td>IN-PHASE STOP BUTTON @ SWING A</td>\n",
       "      <td>PACKING L1</td>\n",
       "      <td>Operational</td>\n",
       "      <td>False</td>\n",
       "    </tr>\n",
       "  </tbody>\n",
       "</table>\n",
       "<p>518 rows × 8 columns</p>\n",
       "</div>"
      ],
      "text/plain": [
       "             START_TIME          UT     DT                  CAUSE  \\\n",
       "1   1998-03-01 22:59:58    0.000000  26.41           Team Meeting   \n",
       "2   1998-03-01 23:30:57    4.573333   7.48       Clean Cross Seal   \n",
       "3   1998-03-01 23:39:01    0.586667   1.35    Cleaned A Backslide   \n",
       "4   1998-03-01 23:41:03    0.683333   1.12    Cleaned A Backslide   \n",
       "5   1998-03-01 23:44:23    2.213333   3.11    Cleaned A Backslide   \n",
       "..                  ...         ...    ...                    ...   \n",
       "524 1998-04-01 04:11:52    0.000000   1.80         Gunbelt - Drop   \n",
       "525 1998-04-01 04:13:40    0.000000   1.40     Tag Cut Walked Off   \n",
       "526 1998-04-01 04:15:04    0.000000   1.77         Gunbelt - Drop   \n",
       "527 1998-04-01 04:16:56    0.096667   3.15  Jam at Sample Station   \n",
       "528 1998-04-01 06:08:01  107.933333   0.73         Splice - Paper   \n",
       "\n",
       "                         AUTO_CAUSE      LINE #          REASON  Abnormal DT  \n",
       "1    IN-PHASE STOP BUTTON @ SWING A  PACKING L1  Inventory Ctrl        False  \n",
       "2    IN-PHASE STOP BUTTON @ SWING A  PACKING L1        Clean Up        False  \n",
       "3            CYCLE STOP @ PANELVIEW  PACKING L1        Clean Up        False  \n",
       "4            CYCLE STOP @ PANELVIEW  PACKING L1        Clean Up        False  \n",
       "5    STOP BUTTON @ LANGEN GEAR SIDE  PACKING L1        Clean Up        False  \n",
       "..                              ...         ...             ...          ...  \n",
       "524        Unknown/Unassigned Cause  PACKING L1     Operational        False  \n",
       "525        Unknown/Unassigned Cause  PACKING L1     Operational        False  \n",
       "526        Unknown/Unassigned Cause  PACKING L1     Operational        False  \n",
       "527          LANGEN CLUTCH OVERLOAD  PACKING L1     Operational        False  \n",
       "528  IN-PHASE STOP BUTTON @ SWING A  PACKING L1     Operational        False  \n",
       "\n",
       "[518 rows x 8 columns]"
      ]
     },
     "execution_count": 868,
     "metadata": {},
     "output_type": "execute_result"
    }
   ],
   "source": [
    "df2.loc[df2['Abnormal DT'] == False]"
   ]
  },
  {
   "cell_type": "code",
   "execution_count": 869,
   "metadata": {},
   "outputs": [
    {
     "data": {
      "text/html": [
       "<div>\n",
       "<style scoped>\n",
       "    .dataframe tbody tr th:only-of-type {\n",
       "        vertical-align: middle;\n",
       "    }\n",
       "\n",
       "    .dataframe tbody tr th {\n",
       "        vertical-align: top;\n",
       "    }\n",
       "\n",
       "    .dataframe thead th {\n",
       "        text-align: right;\n",
       "    }\n",
       "</style>\n",
       "<table border=\"1\" class=\"dataframe\">\n",
       "  <thead>\n",
       "    <tr style=\"text-align: right;\">\n",
       "      <th></th>\n",
       "      <th>START_TIME</th>\n",
       "      <th>UT</th>\n",
       "      <th>DT</th>\n",
       "      <th>CAUSE</th>\n",
       "      <th>AUTO_CAUSE</th>\n",
       "      <th>LINE #</th>\n",
       "      <th>REASON</th>\n",
       "      <th>Abnormal DT</th>\n",
       "      <th>Abnormal UT</th>\n",
       "    </tr>\n",
       "  </thead>\n",
       "  <tbody>\n",
       "    <tr>\n",
       "      <th>1</th>\n",
       "      <td>1998-03-01 22:59:58</td>\n",
       "      <td>0.000000</td>\n",
       "      <td>26.41</td>\n",
       "      <td>Team Meeting</td>\n",
       "      <td>IN-PHASE STOP BUTTON @ SWING A</td>\n",
       "      <td>PACKING L1</td>\n",
       "      <td>Inventory Ctrl</td>\n",
       "      <td>False</td>\n",
       "      <td>False</td>\n",
       "    </tr>\n",
       "    <tr>\n",
       "      <th>2</th>\n",
       "      <td>1998-03-01 23:30:57</td>\n",
       "      <td>4.573333</td>\n",
       "      <td>7.48</td>\n",
       "      <td>Clean Cross Seal</td>\n",
       "      <td>IN-PHASE STOP BUTTON @ SWING A</td>\n",
       "      <td>PACKING L1</td>\n",
       "      <td>Clean Up</td>\n",
       "      <td>False</td>\n",
       "      <td>False</td>\n",
       "    </tr>\n",
       "    <tr>\n",
       "      <th>3</th>\n",
       "      <td>1998-03-01 23:39:01</td>\n",
       "      <td>0.586667</td>\n",
       "      <td>1.35</td>\n",
       "      <td>Cleaned A Backslide</td>\n",
       "      <td>CYCLE STOP @ PANELVIEW</td>\n",
       "      <td>PACKING L1</td>\n",
       "      <td>Clean Up</td>\n",
       "      <td>False</td>\n",
       "      <td>False</td>\n",
       "    </tr>\n",
       "    <tr>\n",
       "      <th>4</th>\n",
       "      <td>1998-03-01 23:41:03</td>\n",
       "      <td>0.683333</td>\n",
       "      <td>1.12</td>\n",
       "      <td>Cleaned A Backslide</td>\n",
       "      <td>CYCLE STOP @ PANELVIEW</td>\n",
       "      <td>PACKING L1</td>\n",
       "      <td>Clean Up</td>\n",
       "      <td>False</td>\n",
       "      <td>False</td>\n",
       "    </tr>\n",
       "    <tr>\n",
       "      <th>5</th>\n",
       "      <td>1998-03-01 23:44:23</td>\n",
       "      <td>2.213333</td>\n",
       "      <td>3.11</td>\n",
       "      <td>Cleaned A Backslide</td>\n",
       "      <td>STOP BUTTON @ LANGEN GEAR SIDE</td>\n",
       "      <td>PACKING L1</td>\n",
       "      <td>Clean Up</td>\n",
       "      <td>False</td>\n",
       "      <td>False</td>\n",
       "    </tr>\n",
       "    <tr>\n",
       "      <th>...</th>\n",
       "      <td>...</td>\n",
       "      <td>...</td>\n",
       "      <td>...</td>\n",
       "      <td>...</td>\n",
       "      <td>...</td>\n",
       "      <td>...</td>\n",
       "      <td>...</td>\n",
       "      <td>...</td>\n",
       "      <td>...</td>\n",
       "    </tr>\n",
       "    <tr>\n",
       "      <th>524</th>\n",
       "      <td>1998-04-01 04:11:52</td>\n",
       "      <td>0.000000</td>\n",
       "      <td>1.80</td>\n",
       "      <td>Gunbelt - Drop</td>\n",
       "      <td>Unknown/Unassigned Cause</td>\n",
       "      <td>PACKING L1</td>\n",
       "      <td>Operational</td>\n",
       "      <td>False</td>\n",
       "      <td>False</td>\n",
       "    </tr>\n",
       "    <tr>\n",
       "      <th>525</th>\n",
       "      <td>1998-04-01 04:13:40</td>\n",
       "      <td>0.000000</td>\n",
       "      <td>1.40</td>\n",
       "      <td>Tag Cut Walked Off</td>\n",
       "      <td>Unknown/Unassigned Cause</td>\n",
       "      <td>PACKING L1</td>\n",
       "      <td>Operational</td>\n",
       "      <td>False</td>\n",
       "      <td>False</td>\n",
       "    </tr>\n",
       "    <tr>\n",
       "      <th>526</th>\n",
       "      <td>1998-04-01 04:15:04</td>\n",
       "      <td>0.000000</td>\n",
       "      <td>1.77</td>\n",
       "      <td>Gunbelt - Drop</td>\n",
       "      <td>Unknown/Unassigned Cause</td>\n",
       "      <td>PACKING L1</td>\n",
       "      <td>Operational</td>\n",
       "      <td>False</td>\n",
       "      <td>False</td>\n",
       "    </tr>\n",
       "    <tr>\n",
       "      <th>527</th>\n",
       "      <td>1998-04-01 04:16:56</td>\n",
       "      <td>0.096667</td>\n",
       "      <td>3.15</td>\n",
       "      <td>Jam at Sample Station</td>\n",
       "      <td>LANGEN CLUTCH OVERLOAD</td>\n",
       "      <td>PACKING L1</td>\n",
       "      <td>Operational</td>\n",
       "      <td>False</td>\n",
       "      <td>False</td>\n",
       "    </tr>\n",
       "    <tr>\n",
       "      <th>528</th>\n",
       "      <td>1998-04-01 06:08:01</td>\n",
       "      <td>107.933333</td>\n",
       "      <td>0.73</td>\n",
       "      <td>Splice - Paper</td>\n",
       "      <td>IN-PHASE STOP BUTTON @ SWING A</td>\n",
       "      <td>PACKING L1</td>\n",
       "      <td>Operational</td>\n",
       "      <td>False</td>\n",
       "      <td>False</td>\n",
       "    </tr>\n",
       "  </tbody>\n",
       "</table>\n",
       "<p>518 rows × 9 columns</p>\n",
       "</div>"
      ],
      "text/plain": [
       "             START_TIME          UT     DT                  CAUSE  \\\n",
       "1   1998-03-01 22:59:58    0.000000  26.41           Team Meeting   \n",
       "2   1998-03-01 23:30:57    4.573333   7.48       Clean Cross Seal   \n",
       "3   1998-03-01 23:39:01    0.586667   1.35    Cleaned A Backslide   \n",
       "4   1998-03-01 23:41:03    0.683333   1.12    Cleaned A Backslide   \n",
       "5   1998-03-01 23:44:23    2.213333   3.11    Cleaned A Backslide   \n",
       "..                  ...         ...    ...                    ...   \n",
       "524 1998-04-01 04:11:52    0.000000   1.80         Gunbelt - Drop   \n",
       "525 1998-04-01 04:13:40    0.000000   1.40     Tag Cut Walked Off   \n",
       "526 1998-04-01 04:15:04    0.000000   1.77         Gunbelt - Drop   \n",
       "527 1998-04-01 04:16:56    0.096667   3.15  Jam at Sample Station   \n",
       "528 1998-04-01 06:08:01  107.933333   0.73         Splice - Paper   \n",
       "\n",
       "                         AUTO_CAUSE      LINE #          REASON  Abnormal DT  \\\n",
       "1    IN-PHASE STOP BUTTON @ SWING A  PACKING L1  Inventory Ctrl        False   \n",
       "2    IN-PHASE STOP BUTTON @ SWING A  PACKING L1        Clean Up        False   \n",
       "3            CYCLE STOP @ PANELVIEW  PACKING L1        Clean Up        False   \n",
       "4            CYCLE STOP @ PANELVIEW  PACKING L1        Clean Up        False   \n",
       "5    STOP BUTTON @ LANGEN GEAR SIDE  PACKING L1        Clean Up        False   \n",
       "..                              ...         ...             ...          ...   \n",
       "524        Unknown/Unassigned Cause  PACKING L1     Operational        False   \n",
       "525        Unknown/Unassigned Cause  PACKING L1     Operational        False   \n",
       "526        Unknown/Unassigned Cause  PACKING L1     Operational        False   \n",
       "527          LANGEN CLUTCH OVERLOAD  PACKING L1     Operational        False   \n",
       "528  IN-PHASE STOP BUTTON @ SWING A  PACKING L1     Operational        False   \n",
       "\n",
       "     Abnormal UT  \n",
       "1          False  \n",
       "2          False  \n",
       "3          False  \n",
       "4          False  \n",
       "5          False  \n",
       "..           ...  \n",
       "524        False  \n",
       "525        False  \n",
       "526        False  \n",
       "527        False  \n",
       "528        False  \n",
       "\n",
       "[518 rows x 9 columns]"
      ]
     },
     "execution_count": 869,
     "metadata": {},
     "output_type": "execute_result"
    }
   ],
   "source": [
    "# Abnormal Value check Uptime\n",
    "for cause in df2['CAUSE'].unique():\n",
    "    mean = df2['UT'].loc[df2['CAUSE'] == cause].mean()\n",
    "    std = df2['UT'].loc[df2['CAUSE'] == cause].std()\n",
    "    df2['Abnormal UT'] = df2['UT'].apply(lambda x: x >= (mean + (2 * std)))\n",
    "    df2['Abnormal UT'] = df2['UT'].apply(lambda x: x <= (mean - (2 * std)))\n",
    "df2"
   ]
  },
  {
   "cell_type": "code",
   "execution_count": 870,
   "metadata": {},
   "outputs": [
    {
     "data": {
      "text/html": [
       "<div>\n",
       "<style scoped>\n",
       "    .dataframe tbody tr th:only-of-type {\n",
       "        vertical-align: middle;\n",
       "    }\n",
       "\n",
       "    .dataframe tbody tr th {\n",
       "        vertical-align: top;\n",
       "    }\n",
       "\n",
       "    .dataframe thead th {\n",
       "        text-align: right;\n",
       "    }\n",
       "</style>\n",
       "<table border=\"1\" class=\"dataframe\">\n",
       "  <thead>\n",
       "    <tr style=\"text-align: right;\">\n",
       "      <th></th>\n",
       "      <th>START_TIME</th>\n",
       "      <th>UT</th>\n",
       "      <th>DT</th>\n",
       "      <th>CAUSE</th>\n",
       "      <th>AUTO_CAUSE</th>\n",
       "      <th>LINE #</th>\n",
       "      <th>REASON</th>\n",
       "      <th>Abnormal DT</th>\n",
       "      <th>Abnormal UT</th>\n",
       "    </tr>\n",
       "  </thead>\n",
       "  <tbody>\n",
       "    <tr>\n",
       "      <th>1</th>\n",
       "      <td>1998-03-01 22:59:58</td>\n",
       "      <td>0.000000</td>\n",
       "      <td>26.41</td>\n",
       "      <td>Team Meeting</td>\n",
       "      <td>IN-PHASE STOP BUTTON @ SWING A</td>\n",
       "      <td>PACKING L1</td>\n",
       "      <td>Inventory Ctrl</td>\n",
       "      <td>False</td>\n",
       "      <td>False</td>\n",
       "    </tr>\n",
       "    <tr>\n",
       "      <th>2</th>\n",
       "      <td>1998-03-01 23:30:57</td>\n",
       "      <td>4.573333</td>\n",
       "      <td>7.48</td>\n",
       "      <td>Clean Cross Seal</td>\n",
       "      <td>IN-PHASE STOP BUTTON @ SWING A</td>\n",
       "      <td>PACKING L1</td>\n",
       "      <td>Clean Up</td>\n",
       "      <td>False</td>\n",
       "      <td>False</td>\n",
       "    </tr>\n",
       "    <tr>\n",
       "      <th>3</th>\n",
       "      <td>1998-03-01 23:39:01</td>\n",
       "      <td>0.586667</td>\n",
       "      <td>1.35</td>\n",
       "      <td>Cleaned A Backslide</td>\n",
       "      <td>CYCLE STOP @ PANELVIEW</td>\n",
       "      <td>PACKING L1</td>\n",
       "      <td>Clean Up</td>\n",
       "      <td>False</td>\n",
       "      <td>False</td>\n",
       "    </tr>\n",
       "    <tr>\n",
       "      <th>4</th>\n",
       "      <td>1998-03-01 23:41:03</td>\n",
       "      <td>0.683333</td>\n",
       "      <td>1.12</td>\n",
       "      <td>Cleaned A Backslide</td>\n",
       "      <td>CYCLE STOP @ PANELVIEW</td>\n",
       "      <td>PACKING L1</td>\n",
       "      <td>Clean Up</td>\n",
       "      <td>False</td>\n",
       "      <td>False</td>\n",
       "    </tr>\n",
       "    <tr>\n",
       "      <th>5</th>\n",
       "      <td>1998-03-01 23:44:23</td>\n",
       "      <td>2.213333</td>\n",
       "      <td>3.11</td>\n",
       "      <td>Cleaned A Backslide</td>\n",
       "      <td>STOP BUTTON @ LANGEN GEAR SIDE</td>\n",
       "      <td>PACKING L1</td>\n",
       "      <td>Clean Up</td>\n",
       "      <td>False</td>\n",
       "      <td>False</td>\n",
       "    </tr>\n",
       "    <tr>\n",
       "      <th>...</th>\n",
       "      <td>...</td>\n",
       "      <td>...</td>\n",
       "      <td>...</td>\n",
       "      <td>...</td>\n",
       "      <td>...</td>\n",
       "      <td>...</td>\n",
       "      <td>...</td>\n",
       "      <td>...</td>\n",
       "      <td>...</td>\n",
       "    </tr>\n",
       "    <tr>\n",
       "      <th>524</th>\n",
       "      <td>1998-04-01 04:11:52</td>\n",
       "      <td>0.000000</td>\n",
       "      <td>1.80</td>\n",
       "      <td>Gunbelt - Drop</td>\n",
       "      <td>Unknown/Unassigned Cause</td>\n",
       "      <td>PACKING L1</td>\n",
       "      <td>Operational</td>\n",
       "      <td>False</td>\n",
       "      <td>False</td>\n",
       "    </tr>\n",
       "    <tr>\n",
       "      <th>525</th>\n",
       "      <td>1998-04-01 04:13:40</td>\n",
       "      <td>0.000000</td>\n",
       "      <td>1.40</td>\n",
       "      <td>Tag Cut Walked Off</td>\n",
       "      <td>Unknown/Unassigned Cause</td>\n",
       "      <td>PACKING L1</td>\n",
       "      <td>Operational</td>\n",
       "      <td>False</td>\n",
       "      <td>False</td>\n",
       "    </tr>\n",
       "    <tr>\n",
       "      <th>526</th>\n",
       "      <td>1998-04-01 04:15:04</td>\n",
       "      <td>0.000000</td>\n",
       "      <td>1.77</td>\n",
       "      <td>Gunbelt - Drop</td>\n",
       "      <td>Unknown/Unassigned Cause</td>\n",
       "      <td>PACKING L1</td>\n",
       "      <td>Operational</td>\n",
       "      <td>False</td>\n",
       "      <td>False</td>\n",
       "    </tr>\n",
       "    <tr>\n",
       "      <th>527</th>\n",
       "      <td>1998-04-01 04:16:56</td>\n",
       "      <td>0.096667</td>\n",
       "      <td>3.15</td>\n",
       "      <td>Jam at Sample Station</td>\n",
       "      <td>LANGEN CLUTCH OVERLOAD</td>\n",
       "      <td>PACKING L1</td>\n",
       "      <td>Operational</td>\n",
       "      <td>False</td>\n",
       "      <td>False</td>\n",
       "    </tr>\n",
       "    <tr>\n",
       "      <th>528</th>\n",
       "      <td>1998-04-01 06:08:01</td>\n",
       "      <td>107.933333</td>\n",
       "      <td>0.73</td>\n",
       "      <td>Splice - Paper</td>\n",
       "      <td>IN-PHASE STOP BUTTON @ SWING A</td>\n",
       "      <td>PACKING L1</td>\n",
       "      <td>Operational</td>\n",
       "      <td>False</td>\n",
       "      <td>False</td>\n",
       "    </tr>\n",
       "  </tbody>\n",
       "</table>\n",
       "<p>518 rows × 9 columns</p>\n",
       "</div>"
      ],
      "text/plain": [
       "             START_TIME          UT     DT                  CAUSE  \\\n",
       "1   1998-03-01 22:59:58    0.000000  26.41           Team Meeting   \n",
       "2   1998-03-01 23:30:57    4.573333   7.48       Clean Cross Seal   \n",
       "3   1998-03-01 23:39:01    0.586667   1.35    Cleaned A Backslide   \n",
       "4   1998-03-01 23:41:03    0.683333   1.12    Cleaned A Backslide   \n",
       "5   1998-03-01 23:44:23    2.213333   3.11    Cleaned A Backslide   \n",
       "..                  ...         ...    ...                    ...   \n",
       "524 1998-04-01 04:11:52    0.000000   1.80         Gunbelt - Drop   \n",
       "525 1998-04-01 04:13:40    0.000000   1.40     Tag Cut Walked Off   \n",
       "526 1998-04-01 04:15:04    0.000000   1.77         Gunbelt - Drop   \n",
       "527 1998-04-01 04:16:56    0.096667   3.15  Jam at Sample Station   \n",
       "528 1998-04-01 06:08:01  107.933333   0.73         Splice - Paper   \n",
       "\n",
       "                         AUTO_CAUSE      LINE #          REASON  Abnormal DT  \\\n",
       "1    IN-PHASE STOP BUTTON @ SWING A  PACKING L1  Inventory Ctrl        False   \n",
       "2    IN-PHASE STOP BUTTON @ SWING A  PACKING L1        Clean Up        False   \n",
       "3            CYCLE STOP @ PANELVIEW  PACKING L1        Clean Up        False   \n",
       "4            CYCLE STOP @ PANELVIEW  PACKING L1        Clean Up        False   \n",
       "5    STOP BUTTON @ LANGEN GEAR SIDE  PACKING L1        Clean Up        False   \n",
       "..                              ...         ...             ...          ...   \n",
       "524        Unknown/Unassigned Cause  PACKING L1     Operational        False   \n",
       "525        Unknown/Unassigned Cause  PACKING L1     Operational        False   \n",
       "526        Unknown/Unassigned Cause  PACKING L1     Operational        False   \n",
       "527          LANGEN CLUTCH OVERLOAD  PACKING L1     Operational        False   \n",
       "528  IN-PHASE STOP BUTTON @ SWING A  PACKING L1     Operational        False   \n",
       "\n",
       "     Abnormal UT  \n",
       "1          False  \n",
       "2          False  \n",
       "3          False  \n",
       "4          False  \n",
       "5          False  \n",
       "..           ...  \n",
       "524        False  \n",
       "525        False  \n",
       "526        False  \n",
       "527        False  \n",
       "528        False  \n",
       "\n",
       "[518 rows x 9 columns]"
      ]
     },
     "execution_count": 870,
     "metadata": {},
     "output_type": "execute_result"
    }
   ],
   "source": [
    "df2.loc[df2['Abnormal UT'] == False]"
   ]
  },
  {
   "cell_type": "code",
   "execution_count": 871,
   "metadata": {},
   "outputs": [
    {
     "data": {
      "text/plain": [
       "array(['Inventory Ctrl', 'Clean Up', 'Operational', 'Packing Material',\n",
       "       'Maintenance', 'Electrical', 'Adjustment', 'Mechanical',\n",
       "       'Raw Material'], dtype=object)"
      ]
     },
     "execution_count": 871,
     "metadata": {},
     "output_type": "execute_result"
    }
   ],
   "source": [
    "df2['REASON'].unique()"
   ]
  },
  {
   "cell_type": "code",
   "execution_count": 872,
   "metadata": {},
   "outputs": [],
   "source": [
    "reason_parse = ['Clean Up', 'Operational', 'Packing Material',\n",
    "       'Maintenance', 'Electrical', 'Adjustment', 'Mechanical',\n",
    "       'Raw Material']"
   ]
  },
  {
   "cell_type": "code",
   "execution_count": 873,
   "metadata": {},
   "outputs": [],
   "source": [
    "df3 = df2.loc[~(df2['REASON'].isin(reason_parse))]"
   ]
  },
  {
   "cell_type": "code",
   "execution_count": 874,
   "metadata": {},
   "outputs": [],
   "source": [
    "df2 = df2.loc[df2['REASON'].isin(reason_parse)]"
   ]
  },
  {
   "cell_type": "code",
   "execution_count": 875,
   "metadata": {},
   "outputs": [
    {
     "data": {
      "text/html": [
       "<div>\n",
       "<style scoped>\n",
       "    .dataframe tbody tr th:only-of-type {\n",
       "        vertical-align: middle;\n",
       "    }\n",
       "\n",
       "    .dataframe tbody tr th {\n",
       "        vertical-align: top;\n",
       "    }\n",
       "\n",
       "    .dataframe thead th {\n",
       "        text-align: right;\n",
       "    }\n",
       "</style>\n",
       "<table border=\"1\" class=\"dataframe\">\n",
       "  <thead>\n",
       "    <tr style=\"text-align: right;\">\n",
       "      <th></th>\n",
       "      <th>START_TIME</th>\n",
       "      <th>UT</th>\n",
       "      <th>DT</th>\n",
       "      <th>CAUSE</th>\n",
       "      <th>AUTO_CAUSE</th>\n",
       "      <th>LINE #</th>\n",
       "      <th>REASON</th>\n",
       "      <th>Abnormal DT</th>\n",
       "      <th>Abnormal UT</th>\n",
       "    </tr>\n",
       "  </thead>\n",
       "  <tbody>\n",
       "    <tr>\n",
       "      <th>2</th>\n",
       "      <td>1998-03-01 23:30:57</td>\n",
       "      <td>4.573333</td>\n",
       "      <td>7.48</td>\n",
       "      <td>Clean Cross Seal</td>\n",
       "      <td>IN-PHASE STOP BUTTON @ SWING A</td>\n",
       "      <td>PACKING L1</td>\n",
       "      <td>Clean Up</td>\n",
       "      <td>False</td>\n",
       "      <td>False</td>\n",
       "    </tr>\n",
       "    <tr>\n",
       "      <th>3</th>\n",
       "      <td>1998-03-01 23:39:01</td>\n",
       "      <td>0.586667</td>\n",
       "      <td>1.35</td>\n",
       "      <td>Cleaned A Backslide</td>\n",
       "      <td>CYCLE STOP @ PANELVIEW</td>\n",
       "      <td>PACKING L1</td>\n",
       "      <td>Clean Up</td>\n",
       "      <td>False</td>\n",
       "      <td>False</td>\n",
       "    </tr>\n",
       "    <tr>\n",
       "      <th>4</th>\n",
       "      <td>1998-03-01 23:41:03</td>\n",
       "      <td>0.683333</td>\n",
       "      <td>1.12</td>\n",
       "      <td>Cleaned A Backslide</td>\n",
       "      <td>CYCLE STOP @ PANELVIEW</td>\n",
       "      <td>PACKING L1</td>\n",
       "      <td>Clean Up</td>\n",
       "      <td>False</td>\n",
       "      <td>False</td>\n",
       "    </tr>\n",
       "    <tr>\n",
       "      <th>5</th>\n",
       "      <td>1998-03-01 23:44:23</td>\n",
       "      <td>2.213333</td>\n",
       "      <td>3.11</td>\n",
       "      <td>Cleaned A Backslide</td>\n",
       "      <td>STOP BUTTON @ LANGEN GEAR SIDE</td>\n",
       "      <td>PACKING L1</td>\n",
       "      <td>Clean Up</td>\n",
       "      <td>False</td>\n",
       "      <td>False</td>\n",
       "    </tr>\n",
       "    <tr>\n",
       "      <th>6</th>\n",
       "      <td>1998-03-02 00:00:56</td>\n",
       "      <td>13.440000</td>\n",
       "      <td>1.36</td>\n",
       "      <td>Splice - Foil</td>\n",
       "      <td>IN-PHASE STOP UNWIND FOIL</td>\n",
       "      <td>PACKING L1</td>\n",
       "      <td>Operational</td>\n",
       "      <td>False</td>\n",
       "      <td>False</td>\n",
       "    </tr>\n",
       "    <tr>\n",
       "      <th>...</th>\n",
       "      <td>...</td>\n",
       "      <td>...</td>\n",
       "      <td>...</td>\n",
       "      <td>...</td>\n",
       "      <td>...</td>\n",
       "      <td>...</td>\n",
       "      <td>...</td>\n",
       "      <td>...</td>\n",
       "      <td>...</td>\n",
       "    </tr>\n",
       "    <tr>\n",
       "      <th>524</th>\n",
       "      <td>1998-04-01 04:11:52</td>\n",
       "      <td>0.000000</td>\n",
       "      <td>1.80</td>\n",
       "      <td>Gunbelt - Drop</td>\n",
       "      <td>Unknown/Unassigned Cause</td>\n",
       "      <td>PACKING L1</td>\n",
       "      <td>Operational</td>\n",
       "      <td>False</td>\n",
       "      <td>False</td>\n",
       "    </tr>\n",
       "    <tr>\n",
       "      <th>525</th>\n",
       "      <td>1998-04-01 04:13:40</td>\n",
       "      <td>0.000000</td>\n",
       "      <td>1.40</td>\n",
       "      <td>Tag Cut Walked Off</td>\n",
       "      <td>Unknown/Unassigned Cause</td>\n",
       "      <td>PACKING L1</td>\n",
       "      <td>Operational</td>\n",
       "      <td>False</td>\n",
       "      <td>False</td>\n",
       "    </tr>\n",
       "    <tr>\n",
       "      <th>526</th>\n",
       "      <td>1998-04-01 04:15:04</td>\n",
       "      <td>0.000000</td>\n",
       "      <td>1.77</td>\n",
       "      <td>Gunbelt - Drop</td>\n",
       "      <td>Unknown/Unassigned Cause</td>\n",
       "      <td>PACKING L1</td>\n",
       "      <td>Operational</td>\n",
       "      <td>False</td>\n",
       "      <td>False</td>\n",
       "    </tr>\n",
       "    <tr>\n",
       "      <th>527</th>\n",
       "      <td>1998-04-01 04:16:56</td>\n",
       "      <td>0.096667</td>\n",
       "      <td>3.15</td>\n",
       "      <td>Jam at Sample Station</td>\n",
       "      <td>LANGEN CLUTCH OVERLOAD</td>\n",
       "      <td>PACKING L1</td>\n",
       "      <td>Operational</td>\n",
       "      <td>False</td>\n",
       "      <td>False</td>\n",
       "    </tr>\n",
       "    <tr>\n",
       "      <th>528</th>\n",
       "      <td>1998-04-01 06:08:01</td>\n",
       "      <td>107.933333</td>\n",
       "      <td>0.73</td>\n",
       "      <td>Splice - Paper</td>\n",
       "      <td>IN-PHASE STOP BUTTON @ SWING A</td>\n",
       "      <td>PACKING L1</td>\n",
       "      <td>Operational</td>\n",
       "      <td>False</td>\n",
       "      <td>False</td>\n",
       "    </tr>\n",
       "  </tbody>\n",
       "</table>\n",
       "<p>463 rows × 9 columns</p>\n",
       "</div>"
      ],
      "text/plain": [
       "             START_TIME          UT    DT                  CAUSE  \\\n",
       "2   1998-03-01 23:30:57    4.573333  7.48       Clean Cross Seal   \n",
       "3   1998-03-01 23:39:01    0.586667  1.35    Cleaned A Backslide   \n",
       "4   1998-03-01 23:41:03    0.683333  1.12    Cleaned A Backslide   \n",
       "5   1998-03-01 23:44:23    2.213333  3.11    Cleaned A Backslide   \n",
       "6   1998-03-02 00:00:56   13.440000  1.36          Splice - Foil   \n",
       "..                  ...         ...   ...                    ...   \n",
       "524 1998-04-01 04:11:52    0.000000  1.80         Gunbelt - Drop   \n",
       "525 1998-04-01 04:13:40    0.000000  1.40     Tag Cut Walked Off   \n",
       "526 1998-04-01 04:15:04    0.000000  1.77         Gunbelt - Drop   \n",
       "527 1998-04-01 04:16:56    0.096667  3.15  Jam at Sample Station   \n",
       "528 1998-04-01 06:08:01  107.933333  0.73         Splice - Paper   \n",
       "\n",
       "                         AUTO_CAUSE      LINE #       REASON  Abnormal DT  \\\n",
       "2    IN-PHASE STOP BUTTON @ SWING A  PACKING L1     Clean Up        False   \n",
       "3            CYCLE STOP @ PANELVIEW  PACKING L1     Clean Up        False   \n",
       "4            CYCLE STOP @ PANELVIEW  PACKING L1     Clean Up        False   \n",
       "5    STOP BUTTON @ LANGEN GEAR SIDE  PACKING L1     Clean Up        False   \n",
       "6         IN-PHASE STOP UNWIND FOIL  PACKING L1  Operational        False   \n",
       "..                              ...         ...          ...          ...   \n",
       "524        Unknown/Unassigned Cause  PACKING L1  Operational        False   \n",
       "525        Unknown/Unassigned Cause  PACKING L1  Operational        False   \n",
       "526        Unknown/Unassigned Cause  PACKING L1  Operational        False   \n",
       "527          LANGEN CLUTCH OVERLOAD  PACKING L1  Operational        False   \n",
       "528  IN-PHASE STOP BUTTON @ SWING A  PACKING L1  Operational        False   \n",
       "\n",
       "     Abnormal UT  \n",
       "2          False  \n",
       "3          False  \n",
       "4          False  \n",
       "5          False  \n",
       "6          False  \n",
       "..           ...  \n",
       "524        False  \n",
       "525        False  \n",
       "526        False  \n",
       "527        False  \n",
       "528        False  \n",
       "\n",
       "[463 rows x 9 columns]"
      ]
     },
     "execution_count": 875,
     "metadata": {},
     "output_type": "execute_result"
    }
   ],
   "source": [
    "df2"
   ]
  },
  {
   "cell_type": "code",
   "execution_count": 876,
   "metadata": {},
   "outputs": [],
   "source": [
    "df2 = df2.loc[~(df2['CAUSE'].str.contains(r\"Changeover\", case=False))]"
   ]
  },
  {
   "cell_type": "code",
   "execution_count": 877,
   "metadata": {},
   "outputs": [
    {
     "data": {
      "text/html": [
       "<div>\n",
       "<style scoped>\n",
       "    .dataframe tbody tr th:only-of-type {\n",
       "        vertical-align: middle;\n",
       "    }\n",
       "\n",
       "    .dataframe tbody tr th {\n",
       "        vertical-align: top;\n",
       "    }\n",
       "\n",
       "    .dataframe thead th {\n",
       "        text-align: right;\n",
       "    }\n",
       "</style>\n",
       "<table border=\"1\" class=\"dataframe\">\n",
       "  <thead>\n",
       "    <tr style=\"text-align: right;\">\n",
       "      <th></th>\n",
       "      <th>START_TIME</th>\n",
       "      <th>UT</th>\n",
       "      <th>DT</th>\n",
       "      <th>CAUSE</th>\n",
       "      <th>AUTO_CAUSE</th>\n",
       "      <th>LINE #</th>\n",
       "      <th>REASON</th>\n",
       "      <th>Abnormal DT</th>\n",
       "      <th>Abnormal UT</th>\n",
       "    </tr>\n",
       "  </thead>\n",
       "  <tbody>\n",
       "    <tr>\n",
       "      <th>2</th>\n",
       "      <td>1998-03-01 23:30:57</td>\n",
       "      <td>4.573333</td>\n",
       "      <td>7.48</td>\n",
       "      <td>Clean Cross Seal</td>\n",
       "      <td>IN-PHASE STOP BUTTON @ SWING A</td>\n",
       "      <td>PACKING L1</td>\n",
       "      <td>Clean Up</td>\n",
       "      <td>False</td>\n",
       "      <td>False</td>\n",
       "    </tr>\n",
       "    <tr>\n",
       "      <th>3</th>\n",
       "      <td>1998-03-01 23:39:01</td>\n",
       "      <td>0.586667</td>\n",
       "      <td>1.35</td>\n",
       "      <td>Cleaned A Backslide</td>\n",
       "      <td>CYCLE STOP @ PANELVIEW</td>\n",
       "      <td>PACKING L1</td>\n",
       "      <td>Clean Up</td>\n",
       "      <td>False</td>\n",
       "      <td>False</td>\n",
       "    </tr>\n",
       "    <tr>\n",
       "      <th>4</th>\n",
       "      <td>1998-03-01 23:41:03</td>\n",
       "      <td>0.683333</td>\n",
       "      <td>1.12</td>\n",
       "      <td>Cleaned A Backslide</td>\n",
       "      <td>CYCLE STOP @ PANELVIEW</td>\n",
       "      <td>PACKING L1</td>\n",
       "      <td>Clean Up</td>\n",
       "      <td>False</td>\n",
       "      <td>False</td>\n",
       "    </tr>\n",
       "    <tr>\n",
       "      <th>5</th>\n",
       "      <td>1998-03-01 23:44:23</td>\n",
       "      <td>2.213333</td>\n",
       "      <td>3.11</td>\n",
       "      <td>Cleaned A Backslide</td>\n",
       "      <td>STOP BUTTON @ LANGEN GEAR SIDE</td>\n",
       "      <td>PACKING L1</td>\n",
       "      <td>Clean Up</td>\n",
       "      <td>False</td>\n",
       "      <td>False</td>\n",
       "    </tr>\n",
       "    <tr>\n",
       "      <th>6</th>\n",
       "      <td>1998-03-02 00:00:56</td>\n",
       "      <td>13.440000</td>\n",
       "      <td>1.36</td>\n",
       "      <td>Splice - Foil</td>\n",
       "      <td>IN-PHASE STOP UNWIND FOIL</td>\n",
       "      <td>PACKING L1</td>\n",
       "      <td>Operational</td>\n",
       "      <td>False</td>\n",
       "      <td>False</td>\n",
       "    </tr>\n",
       "    <tr>\n",
       "      <th>...</th>\n",
       "      <td>...</td>\n",
       "      <td>...</td>\n",
       "      <td>...</td>\n",
       "      <td>...</td>\n",
       "      <td>...</td>\n",
       "      <td>...</td>\n",
       "      <td>...</td>\n",
       "      <td>...</td>\n",
       "      <td>...</td>\n",
       "    </tr>\n",
       "    <tr>\n",
       "      <th>524</th>\n",
       "      <td>1998-04-01 04:11:52</td>\n",
       "      <td>0.000000</td>\n",
       "      <td>1.80</td>\n",
       "      <td>Gunbelt - Drop</td>\n",
       "      <td>Unknown/Unassigned Cause</td>\n",
       "      <td>PACKING L1</td>\n",
       "      <td>Operational</td>\n",
       "      <td>False</td>\n",
       "      <td>False</td>\n",
       "    </tr>\n",
       "    <tr>\n",
       "      <th>525</th>\n",
       "      <td>1998-04-01 04:13:40</td>\n",
       "      <td>0.000000</td>\n",
       "      <td>1.40</td>\n",
       "      <td>Tag Cut Walked Off</td>\n",
       "      <td>Unknown/Unassigned Cause</td>\n",
       "      <td>PACKING L1</td>\n",
       "      <td>Operational</td>\n",
       "      <td>False</td>\n",
       "      <td>False</td>\n",
       "    </tr>\n",
       "    <tr>\n",
       "      <th>526</th>\n",
       "      <td>1998-04-01 04:15:04</td>\n",
       "      <td>0.000000</td>\n",
       "      <td>1.77</td>\n",
       "      <td>Gunbelt - Drop</td>\n",
       "      <td>Unknown/Unassigned Cause</td>\n",
       "      <td>PACKING L1</td>\n",
       "      <td>Operational</td>\n",
       "      <td>False</td>\n",
       "      <td>False</td>\n",
       "    </tr>\n",
       "    <tr>\n",
       "      <th>527</th>\n",
       "      <td>1998-04-01 04:16:56</td>\n",
       "      <td>0.096667</td>\n",
       "      <td>3.15</td>\n",
       "      <td>Jam at Sample Station</td>\n",
       "      <td>LANGEN CLUTCH OVERLOAD</td>\n",
       "      <td>PACKING L1</td>\n",
       "      <td>Operational</td>\n",
       "      <td>False</td>\n",
       "      <td>False</td>\n",
       "    </tr>\n",
       "    <tr>\n",
       "      <th>528</th>\n",
       "      <td>1998-04-01 06:08:01</td>\n",
       "      <td>107.933333</td>\n",
       "      <td>0.73</td>\n",
       "      <td>Splice - Paper</td>\n",
       "      <td>IN-PHASE STOP BUTTON @ SWING A</td>\n",
       "      <td>PACKING L1</td>\n",
       "      <td>Operational</td>\n",
       "      <td>False</td>\n",
       "      <td>False</td>\n",
       "    </tr>\n",
       "  </tbody>\n",
       "</table>\n",
       "<p>463 rows × 9 columns</p>\n",
       "</div>"
      ],
      "text/plain": [
       "             START_TIME          UT    DT                  CAUSE  \\\n",
       "2   1998-03-01 23:30:57    4.573333  7.48       Clean Cross Seal   \n",
       "3   1998-03-01 23:39:01    0.586667  1.35    Cleaned A Backslide   \n",
       "4   1998-03-01 23:41:03    0.683333  1.12    Cleaned A Backslide   \n",
       "5   1998-03-01 23:44:23    2.213333  3.11    Cleaned A Backslide   \n",
       "6   1998-03-02 00:00:56   13.440000  1.36          Splice - Foil   \n",
       "..                  ...         ...   ...                    ...   \n",
       "524 1998-04-01 04:11:52    0.000000  1.80         Gunbelt - Drop   \n",
       "525 1998-04-01 04:13:40    0.000000  1.40     Tag Cut Walked Off   \n",
       "526 1998-04-01 04:15:04    0.000000  1.77         Gunbelt - Drop   \n",
       "527 1998-04-01 04:16:56    0.096667  3.15  Jam at Sample Station   \n",
       "528 1998-04-01 06:08:01  107.933333  0.73         Splice - Paper   \n",
       "\n",
       "                         AUTO_CAUSE      LINE #       REASON  Abnormal DT  \\\n",
       "2    IN-PHASE STOP BUTTON @ SWING A  PACKING L1     Clean Up        False   \n",
       "3            CYCLE STOP @ PANELVIEW  PACKING L1     Clean Up        False   \n",
       "4            CYCLE STOP @ PANELVIEW  PACKING L1     Clean Up        False   \n",
       "5    STOP BUTTON @ LANGEN GEAR SIDE  PACKING L1     Clean Up        False   \n",
       "6         IN-PHASE STOP UNWIND FOIL  PACKING L1  Operational        False   \n",
       "..                              ...         ...          ...          ...   \n",
       "524        Unknown/Unassigned Cause  PACKING L1  Operational        False   \n",
       "525        Unknown/Unassigned Cause  PACKING L1  Operational        False   \n",
       "526        Unknown/Unassigned Cause  PACKING L1  Operational        False   \n",
       "527          LANGEN CLUTCH OVERLOAD  PACKING L1  Operational        False   \n",
       "528  IN-PHASE STOP BUTTON @ SWING A  PACKING L1  Operational        False   \n",
       "\n",
       "     Abnormal UT  \n",
       "2          False  \n",
       "3          False  \n",
       "4          False  \n",
       "5          False  \n",
       "6          False  \n",
       "..           ...  \n",
       "524        False  \n",
       "525        False  \n",
       "526        False  \n",
       "527        False  \n",
       "528        False  \n",
       "\n",
       "[463 rows x 9 columns]"
      ]
     },
     "execution_count": 877,
     "metadata": {},
     "output_type": "execute_result"
    }
   ],
   "source": [
    "df2"
   ]
  },
  {
   "cell_type": "code",
   "execution_count": 879,
   "metadata": {},
   "outputs": [],
   "source": [
    "df2['CAUSE'] = df2['CAUSE'].apply(lambda x: \"SPLICE\" if \"splice\" in x.lower() else x)\n",
    "df2['CAUSE'] = df2['CAUSE'].apply(lambda x: \"CLEAN\" if \"clean\" in x.lower() else x)\n",
    "df2['CAUSE'] = df2['CAUSE'].apply(lambda x: \"GUNBELT\" if \"gunbelt\" in x.lower() else x)\n",
    "\n",
    "df2 = df2.loc[df2['CAUSE'].isin(['SPLICE', 'CLEAN', 'GUNBELT'])]\n"
   ]
  },
  {
   "cell_type": "code",
   "execution_count": 880,
   "metadata": {},
   "outputs": [
    {
     "data": {
      "text/html": [
       "<div>\n",
       "<style scoped>\n",
       "    .dataframe tbody tr th:only-of-type {\n",
       "        vertical-align: middle;\n",
       "    }\n",
       "\n",
       "    .dataframe tbody tr th {\n",
       "        vertical-align: top;\n",
       "    }\n",
       "\n",
       "    .dataframe thead th {\n",
       "        text-align: right;\n",
       "    }\n",
       "</style>\n",
       "<table border=\"1\" class=\"dataframe\">\n",
       "  <thead>\n",
       "    <tr style=\"text-align: right;\">\n",
       "      <th></th>\n",
       "      <th>START_TIME</th>\n",
       "      <th>UT</th>\n",
       "      <th>DT</th>\n",
       "      <th>CAUSE</th>\n",
       "      <th>AUTO_CAUSE</th>\n",
       "      <th>LINE #</th>\n",
       "      <th>REASON</th>\n",
       "      <th>Abnormal DT</th>\n",
       "      <th>Abnormal UT</th>\n",
       "    </tr>\n",
       "  </thead>\n",
       "  <tbody>\n",
       "    <tr>\n",
       "      <th>2</th>\n",
       "      <td>1998-03-01 23:30:57</td>\n",
       "      <td>4.573333</td>\n",
       "      <td>7.48</td>\n",
       "      <td>CLEAN</td>\n",
       "      <td>IN-PHASE STOP BUTTON @ SWING A</td>\n",
       "      <td>PACKING L1</td>\n",
       "      <td>Clean Up</td>\n",
       "      <td>False</td>\n",
       "      <td>False</td>\n",
       "    </tr>\n",
       "    <tr>\n",
       "      <th>3</th>\n",
       "      <td>1998-03-01 23:39:01</td>\n",
       "      <td>0.586667</td>\n",
       "      <td>1.35</td>\n",
       "      <td>CLEAN</td>\n",
       "      <td>CYCLE STOP @ PANELVIEW</td>\n",
       "      <td>PACKING L1</td>\n",
       "      <td>Clean Up</td>\n",
       "      <td>False</td>\n",
       "      <td>False</td>\n",
       "    </tr>\n",
       "    <tr>\n",
       "      <th>4</th>\n",
       "      <td>1998-03-01 23:41:03</td>\n",
       "      <td>0.683333</td>\n",
       "      <td>1.12</td>\n",
       "      <td>CLEAN</td>\n",
       "      <td>CYCLE STOP @ PANELVIEW</td>\n",
       "      <td>PACKING L1</td>\n",
       "      <td>Clean Up</td>\n",
       "      <td>False</td>\n",
       "      <td>False</td>\n",
       "    </tr>\n",
       "    <tr>\n",
       "      <th>5</th>\n",
       "      <td>1998-03-01 23:44:23</td>\n",
       "      <td>2.213333</td>\n",
       "      <td>3.11</td>\n",
       "      <td>CLEAN</td>\n",
       "      <td>STOP BUTTON @ LANGEN GEAR SIDE</td>\n",
       "      <td>PACKING L1</td>\n",
       "      <td>Clean Up</td>\n",
       "      <td>False</td>\n",
       "      <td>False</td>\n",
       "    </tr>\n",
       "    <tr>\n",
       "      <th>6</th>\n",
       "      <td>1998-03-02 00:00:56</td>\n",
       "      <td>13.440000</td>\n",
       "      <td>1.36</td>\n",
       "      <td>SPLICE</td>\n",
       "      <td>IN-PHASE STOP UNWIND FOIL</td>\n",
       "      <td>PACKING L1</td>\n",
       "      <td>Operational</td>\n",
       "      <td>False</td>\n",
       "      <td>False</td>\n",
       "    </tr>\n",
       "    <tr>\n",
       "      <th>...</th>\n",
       "      <td>...</td>\n",
       "      <td>...</td>\n",
       "      <td>...</td>\n",
       "      <td>...</td>\n",
       "      <td>...</td>\n",
       "      <td>...</td>\n",
       "      <td>...</td>\n",
       "      <td>...</td>\n",
       "      <td>...</td>\n",
       "    </tr>\n",
       "    <tr>\n",
       "      <th>521</th>\n",
       "      <td>1998-04-01 03:20:28</td>\n",
       "      <td>0.126667</td>\n",
       "      <td>0.39</td>\n",
       "      <td>SPLICE</td>\n",
       "      <td>2 OF 400 TAGS MISSING @ TURRET</td>\n",
       "      <td>PACKING L1</td>\n",
       "      <td>Operational</td>\n",
       "      <td>False</td>\n",
       "      <td>False</td>\n",
       "    </tr>\n",
       "    <tr>\n",
       "      <th>522</th>\n",
       "      <td>1998-04-01 04:07:08</td>\n",
       "      <td>46.276667</td>\n",
       "      <td>0.79</td>\n",
       "      <td>GUNBELT</td>\n",
       "      <td>GUN BELT DROP</td>\n",
       "      <td>PACKING L1</td>\n",
       "      <td>Operational</td>\n",
       "      <td>False</td>\n",
       "      <td>False</td>\n",
       "    </tr>\n",
       "    <tr>\n",
       "      <th>524</th>\n",
       "      <td>1998-04-01 04:11:52</td>\n",
       "      <td>0.000000</td>\n",
       "      <td>1.80</td>\n",
       "      <td>GUNBELT</td>\n",
       "      <td>Unknown/Unassigned Cause</td>\n",
       "      <td>PACKING L1</td>\n",
       "      <td>Operational</td>\n",
       "      <td>False</td>\n",
       "      <td>False</td>\n",
       "    </tr>\n",
       "    <tr>\n",
       "      <th>526</th>\n",
       "      <td>1998-04-01 04:15:04</td>\n",
       "      <td>0.000000</td>\n",
       "      <td>1.77</td>\n",
       "      <td>GUNBELT</td>\n",
       "      <td>Unknown/Unassigned Cause</td>\n",
       "      <td>PACKING L1</td>\n",
       "      <td>Operational</td>\n",
       "      <td>False</td>\n",
       "      <td>False</td>\n",
       "    </tr>\n",
       "    <tr>\n",
       "      <th>528</th>\n",
       "      <td>1998-04-01 06:08:01</td>\n",
       "      <td>107.933333</td>\n",
       "      <td>0.73</td>\n",
       "      <td>SPLICE</td>\n",
       "      <td>IN-PHASE STOP BUTTON @ SWING A</td>\n",
       "      <td>PACKING L1</td>\n",
       "      <td>Operational</td>\n",
       "      <td>False</td>\n",
       "      <td>False</td>\n",
       "    </tr>\n",
       "  </tbody>\n",
       "</table>\n",
       "<p>277 rows × 9 columns</p>\n",
       "</div>"
      ],
      "text/plain": [
       "             START_TIME          UT    DT    CAUSE  \\\n",
       "2   1998-03-01 23:30:57    4.573333  7.48    CLEAN   \n",
       "3   1998-03-01 23:39:01    0.586667  1.35    CLEAN   \n",
       "4   1998-03-01 23:41:03    0.683333  1.12    CLEAN   \n",
       "5   1998-03-01 23:44:23    2.213333  3.11    CLEAN   \n",
       "6   1998-03-02 00:00:56   13.440000  1.36   SPLICE   \n",
       "..                  ...         ...   ...      ...   \n",
       "521 1998-04-01 03:20:28    0.126667  0.39   SPLICE   \n",
       "522 1998-04-01 04:07:08   46.276667  0.79  GUNBELT   \n",
       "524 1998-04-01 04:11:52    0.000000  1.80  GUNBELT   \n",
       "526 1998-04-01 04:15:04    0.000000  1.77  GUNBELT   \n",
       "528 1998-04-01 06:08:01  107.933333  0.73   SPLICE   \n",
       "\n",
       "                         AUTO_CAUSE      LINE #       REASON  Abnormal DT  \\\n",
       "2    IN-PHASE STOP BUTTON @ SWING A  PACKING L1     Clean Up        False   \n",
       "3            CYCLE STOP @ PANELVIEW  PACKING L1     Clean Up        False   \n",
       "4            CYCLE STOP @ PANELVIEW  PACKING L1     Clean Up        False   \n",
       "5    STOP BUTTON @ LANGEN GEAR SIDE  PACKING L1     Clean Up        False   \n",
       "6         IN-PHASE STOP UNWIND FOIL  PACKING L1  Operational        False   \n",
       "..                              ...         ...          ...          ...   \n",
       "521  2 OF 400 TAGS MISSING @ TURRET  PACKING L1  Operational        False   \n",
       "522                   GUN BELT DROP  PACKING L1  Operational        False   \n",
       "524        Unknown/Unassigned Cause  PACKING L1  Operational        False   \n",
       "526        Unknown/Unassigned Cause  PACKING L1  Operational        False   \n",
       "528  IN-PHASE STOP BUTTON @ SWING A  PACKING L1  Operational        False   \n",
       "\n",
       "     Abnormal UT  \n",
       "2          False  \n",
       "3          False  \n",
       "4          False  \n",
       "5          False  \n",
       "6          False  \n",
       "..           ...  \n",
       "521        False  \n",
       "522        False  \n",
       "524        False  \n",
       "526        False  \n",
       "528        False  \n",
       "\n",
       "[277 rows x 9 columns]"
      ]
     },
     "execution_count": 880,
     "metadata": {},
     "output_type": "execute_result"
    }
   ],
   "source": [
    "df2"
   ]
  },
  {
   "cell_type": "markdown",
   "metadata": {},
   "source": [
    "# Fitting Weibull"
   ]
  },
  {
   "cell_type": "code",
   "execution_count": 960,
   "metadata": {},
   "outputs": [],
   "source": [
    "data = (df2.loc[df2['CAUSE'] == 'CLEAN'])['UT']"
   ]
  },
  {
   "cell_type": "code",
   "execution_count": 961,
   "metadata": {},
   "outputs": [
    {
     "data": {
      "text/plain": [
       "2        4.573333\n",
       "3        0.586667\n",
       "4        0.683333\n",
       "5        2.213333\n",
       "27       0.000000\n",
       "65       3.116667\n",
       "186    103.846667\n",
       "187      2.993333\n",
       "310      2.416667\n",
       "319     62.733333\n",
       "Name: UT, dtype: float64"
      ]
     },
     "execution_count": 961,
     "metadata": {},
     "output_type": "execute_result"
    }
   ],
   "source": [
    "data"
   ]
  },
  {
   "cell_type": "code",
   "execution_count": 955,
   "metadata": {},
   "outputs": [
    {
     "data": {
      "text/plain": [
       "(0.33230281019423424, -6.415302973053979e-30, 11.928546767613238)"
      ]
     },
     "execution_count": 955,
     "metadata": {},
     "output_type": "execute_result"
    }
   ],
   "source": [
    "weibull_min.fit(data, loc=0)"
   ]
  },
  {
   "cell_type": "code",
   "execution_count": 954,
   "metadata": {},
   "outputs": [
    {
     "data": {
      "image/png": "[encoded data removed]",
      "text/plain": [
       "<Figure size 432x288 with 1 Axes>"
      ]
     },
     "metadata": {
      "needs_background": "light"
     },
     "output_type": "display_data"
    }
   ],
   "source": [
    "plt.plot(data, weibull_min.pdf(data, *weibull_min.fit(data, floc=0)))\n",
    "_ = plt.hist(data, bins=16, alpha=0.5);\n",
    "plt.show()"
   ]
  },
  {
   "cell_type": "code",
   "execution_count": null,
   "metadata": {},
   "outputs": [],
   "source": []
  }
 ],
 "metadata": {
  "kernelspec": {
   "display_name": "Python 3.8.0 64-bit",
   "language": "python",
   "name": "python3"
  },
  "language_info": {
   "codemirror_mode": {
    "name": "ipython",
    "version": 3
   },
   "file_extension": ".py",
   "mimetype": "text/x-python",
   "name": "python",
   "nbconvert_exporter": "python",
   "pygments_lexer": "ipython3",
   "version": "3.8.0"
  },
  "orig_nbformat": 4,
  "vscode": {
   "interpreter": {
    "hash": "5b7f4557ea85b65d0e86b9813a3971b4e695cefd628d6fcfb622b4b722ee2d27"
   }
  }
 },
 "nbformat": 4,
 "nbformat_minor": 2
}
